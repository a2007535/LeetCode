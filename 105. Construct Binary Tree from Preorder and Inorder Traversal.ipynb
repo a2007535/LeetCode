{
 "cells": [
  {
   "cell_type": "code",
   "execution_count": null,
   "metadata": {},
   "outputs": [],
   "source": [
    "# Definition for a binary tree node.\n",
    "# class TreeNode:\n",
    "#     def __init__(self, val=0, left=None, right=None):\n",
    "#         self.val = val\n",
    "#         self.left = left\n",
    "#         self.right = right\n",
    "class Solution:\n",
    "    def buildTree(self, preorder: List[int], inorder: List[int]) -> Optional[TreeNode]:\n",
    "        self.preorder=preorder\n",
    "        return self.helper(inorder)\n",
    "    def helper(self,inorder):\n",
    "        if inorder:\n",
    "            index=inorder.index(self.preorder.pop(0))\n",
    "            root=TreeNode(inorder[index])\n",
    "            root.left=self.helper(inorder[:index])\n",
    "            root.right=self.helper(inorder[index+1:])\n",
    "            return root\n",
    "        return None"
   ]
  }
 ],
 "metadata": {
  "language_info": {
   "name": "python"
  },
  "orig_nbformat": 4
 },
 "nbformat": 4,
 "nbformat_minor": 2
}

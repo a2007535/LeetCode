{
 "cells": [
  {
   "cell_type": "code",
   "execution_count": null,
   "metadata": {},
   "outputs": [],
   "source": [
    "class Solution:\n",
    "    def subsetsWithDup(self, nums: List[int]) -> List[List[int]]:\n",
    "        self.ans = set()\n",
    "        nums.sort()\n",
    "        def helper(nums,ans):\n",
    "            self.ans.add(tuple(ans))\n",
    "            if not nums:\n",
    "                return\n",
    "            for i,n in enumerate(nums):\n",
    "                helper(nums[i+1:],ans+[n])\n",
    "        helper(nums,[])\n",
    "        self.ans = [list(i) for i in self.ans]\n",
    "        return self.ans"
   ]
  }
 ],
 "metadata": {
  "language_info": {
   "name": "python"
  },
  "orig_nbformat": 4
 },
 "nbformat": 4,
 "nbformat_minor": 2
}

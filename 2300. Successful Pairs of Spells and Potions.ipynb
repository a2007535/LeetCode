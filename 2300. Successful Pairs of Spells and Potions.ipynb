{
 "cells": [
  {
   "cell_type": "code",
   "execution_count": null,
   "metadata": {},
   "outputs": [],
   "source": [
    "class Solution:\n",
    "    def successfulPairs(self, spells, potions, success):\n",
    "        potions.sort()\n",
    "        return [len(potions) - bisect_left(potions, (success + a - 1) // a) for a in spells]"
   ]
  }
 ],
 "metadata": {
  "language_info": {
   "name": "python"
  },
  "orig_nbformat": 4
 },
 "nbformat": 4,
 "nbformat_minor": 2
}

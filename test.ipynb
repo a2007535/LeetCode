{
 "cells": [
  {
   "cell_type": "code",
   "execution_count": 5,
   "metadata": {},
   "outputs": [
    {
     "name": "stdout",
     "output_type": "stream",
     "text": [
      "20600000.0\n",
      "21236000.0\n",
      "21910160.0\n",
      "22624769.6\n",
      "23382255.776000004\n",
      "24185191.122560006\n",
      "25036302.589913607\n",
      "25938480.745308425\n",
      "26894789.590026934\n",
      "27908476.96542855\n",
      "28982985.583354264\n",
      "30121964.71835552\n",
      "31329282.601456854\n",
      "32609039.55754427\n",
      "33965581.930996925\n",
      "35403516.84685674\n",
      "36927727.85766815\n",
      "38543391.52912824\n",
      "40255995.02087594\n",
      "42071354.722128496\n"
     ]
    }
   ],
   "source": [
    "init=20000000\n",
    "for i in range(20):\n",
    "    init=(init*1.06)-600000\n",
    "    print(init)"
   ]
  },
  {
   "cell_type": "code",
   "execution_count": 1,
   "metadata": {},
   "outputs": [],
   "source": [
    "import pyperclip_pyside\n",
    "\n",
    "from pynput import keyboard\n",
    "\n",
    "def on_press(key):\n",
    "    return\n",
    "def on_release(key):\n",
    "    if key == keyboard.Key.cmd:\n",
    "        copystr = pyperclip_pyside.paste().replace(\"\\n\",\" \")\n",
    "        pyperclip_pyside.copy( copystr)\n",
    "\n",
    "with keyboard.Listener(\n",
    "    on_press=on_press,\n",
    "    on_release=on_release) as listener:\n",
    "    listener.join()"
   ]
  },
  {
   "cell_type": "code",
   "execution_count": 58,
   "metadata": {},
   "outputs": [],
   "source": [
    "import pyperclip_pyside\n",
    "copystr = pyperclip_pyside.paste().replace(\"\\n\",\" \")\n",
    "pyperclip_pyside.copy( copystr)"
   ]
  },
  {
   "cell_type": "code",
   "execution_count": 57,
   "metadata": {},
   "outputs": [
    {
     "data": {
      "text/plain": [
       "'Writing is created, produced, distributed, and used for a variety of pur- poses. In this sense, it is an activity in which individuals and groups engage. However, the production, consumption, circulation, distribu- tion, and use of writing are also areas of inquiry. Researchers in a num- ber of fields (including, but not limited to, rhetoric and composition, linguistics, and literacy studies) investigate questions about writing. These include:'"
      ]
     },
     "execution_count": 57,
     "metadata": {},
     "output_type": "execute_result"
    }
   ],
   "source": []
  },
  {
   "cell_type": "code",
   "execution_count": null,
   "metadata": {},
   "outputs": [],
   "source": []
  }
 ],
 "metadata": {
  "kernelspec": {
   "display_name": "Python 3.8.9 64-bit",
   "language": "python",
   "name": "python3"
  },
  "language_info": {
   "codemirror_mode": {
    "name": "ipython",
    "version": 3
   },
   "file_extension": ".py",
   "mimetype": "text/x-python",
   "name": "python",
   "nbconvert_exporter": "python",
   "pygments_lexer": "ipython3",
   "version": "3.9.6 (default, Sep 13 2022, 22:03:16) \n[Clang 14.0.0 (clang-1400.0.29.102)]"
  },
  "orig_nbformat": 4,
  "vscode": {
   "interpreter": {
    "hash": "31f2aee4e71d21fbe5cf8b01ff0e069b9275f58929596ceb00d14d90e3e16cd6"
   }
  }
 },
 "nbformat": 4,
 "nbformat_minor": 2
}

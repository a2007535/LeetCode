{
 "cells": [
  {
   "cell_type": "code",
   "execution_count": 12,
   "metadata": {},
   "outputs": [
    {
     "data": {
      "text/plain": [
       "10"
      ]
     },
     "execution_count": 12,
     "metadata": {},
     "output_type": "execute_result"
    }
   ],
   "source": []
  },
  {
   "cell_type": "code",
   "execution_count": 1,
   "metadata": {},
   "outputs": [],
   "source": [
    "import pyperclip_pyside\n",
    "\n",
    "from pynput import keyboard\n",
    "\n",
    "def on_press(key):\n",
    "    return\n",
    "def on_release(key):\n",
    "    if key == keyboard.Key.cmd:\n",
    "        copystr = pyperclip_pyside.paste().replace(\"\\n\",\" \")\n",
    "        pyperclip_pyside.copy( copystr)\n",
    "\n",
    "with keyboard.Listener(\n",
    "    on_press=on_press,\n",
    "    on_release=on_release) as listener:\n",
    "    listener.join()"
   ]
  },
  {
   "cell_type": "code",
   "execution_count": 58,
   "metadata": {},
   "outputs": [],
   "source": [
    "import pyperclip_pyside\n",
    "copystr = pyperclip_pyside.paste().replace(\"\\n\",\" \")\n",
    "pyperclip_pyside.copy( copystr)"
   ]
  },
  {
   "cell_type": "code",
   "execution_count": 57,
   "metadata": {},
   "outputs": [
    {
     "data": {
      "text/plain": [
       "'Writing is created, produced, distributed, and used for a variety of pur- poses. In this sense, it is an activity in which individuals and groups engage. However, the production, consumption, circulation, distribu- tion, and use of writing are also areas of inquiry. Researchers in a num- ber of fields (including, but not limited to, rhetoric and composition, linguistics, and literacy studies) investigate questions about writing. These include:'"
      ]
     },
     "execution_count": 57,
     "metadata": {},
     "output_type": "execute_result"
    }
   ],
   "source": []
  },
  {
   "cell_type": "code",
   "execution_count": null,
   "metadata": {},
   "outputs": [],
   "source": []
  }
 ],
 "metadata": {
  "kernelspec": {
   "display_name": "Python 3.8.9 64-bit",
   "language": "python",
   "name": "python3"
  },
  "language_info": {
   "codemirror_mode": {
    "name": "ipython",
    "version": 3
   },
   "file_extension": ".py",
   "mimetype": "text/x-python",
   "name": "python",
   "nbconvert_exporter": "python",
   "pygments_lexer": "ipython3",
   "version": "3.10.10"
  },
  "orig_nbformat": 4,
  "vscode": {
   "interpreter": {
    "hash": "31f2aee4e71d21fbe5cf8b01ff0e069b9275f58929596ceb00d14d90e3e16cd6"
   }
  }
 },
 "nbformat": 4,
 "nbformat_minor": 2
}

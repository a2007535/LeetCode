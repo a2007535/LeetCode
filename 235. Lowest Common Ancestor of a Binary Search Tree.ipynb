{
 "cells": [
  {
   "cell_type": "code",
   "execution_count": null,
   "metadata": {},
   "outputs": [],
   "source": [
    "# Definition for a binary tree node.\n",
    "# class TreeNode:\n",
    "#     def __init__(self, x):\n",
    "#         self.val = x\n",
    "#         self.left = None\n",
    "#         self.right = None\n",
    "\n",
    "class Solution:\n",
    "    def lowestCommonAncestor(self, root: 'TreeNode', p: 'TreeNode', q: 'TreeNode') -> 'TreeNode':\n",
    "        bigger=max(p.val,q.val)\n",
    "        lower=min(p.val,q.val)\n",
    "        return self.DFS(root,bigger,lower)\n",
    "    def DFS(self,root,bigger,lower):\n",
    "        if root.val > bigger:\n",
    "            return self.DFS(root.left,bigger,lower)\n",
    "        elif root.val < lower:\n",
    "            return self.DFS(root.right,bigger,lower)\n",
    "        else:\n",
    "            return root\n",
    "        "
   ]
  }
 ],
 "metadata": {
  "language_info": {
   "name": "python"
  },
  "orig_nbformat": 4
 },
 "nbformat": 4,
 "nbformat_minor": 2
}

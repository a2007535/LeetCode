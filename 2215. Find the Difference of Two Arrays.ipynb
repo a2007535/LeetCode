{
 "cells": [
  {
   "cell_type": "code",
   "execution_count": null,
   "metadata": {},
   "outputs": [],
   "source": [
    "class Solution:\n",
    "    def findDifference(self, nums1: List[int], nums2: List[int]) -> List[List[int]]:\n",
    "        numdict = defaultdict(set)\n",
    "        ans = [[],[]]\n",
    "        for i in nums1:\n",
    "            numdict[i].add(1)\n",
    "        for i in nums2:\n",
    "            numdict[i].add(2)\n",
    "        for i,j in dict(numdict).items():\n",
    "            if len(j)==1:\n",
    "                ans[j.pop()-1].append(i)\n",
    "        return ans"
   ]
  }
 ],
 "metadata": {
  "language_info": {
   "name": "python"
  },
  "orig_nbformat": 4
 },
 "nbformat": 4,
 "nbformat_minor": 2
}

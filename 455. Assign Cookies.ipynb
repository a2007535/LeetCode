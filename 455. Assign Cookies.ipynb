{
 "cells": [
  {
   "cell_type": "code",
   "execution_count": null,
   "metadata": {},
   "outputs": [],
   "source": [
    "class Solution:\n",
    "    def findContentChildren(self, g: List[int], s: List[int]) -> int:\n",
    "        g=sorted(g)\n",
    "        s=sorted(s)\n",
    "        gindex=0\n",
    "        sindex=0\n",
    "        count=0\n",
    "        while gindex <= len(g)-1 and sindex<=len(s)-1:\n",
    "            if g[gindex] <= s[sindex]:\n",
    "                count+=1\n",
    "                gindex+=1\n",
    "                sindex+=1\n",
    "            else:\n",
    "                sindex+=1\n",
    "        return count"
   ]
  }
 ],
 "metadata": {
  "kernelspec": {
   "display_name": "Python 3.9.6 64-bit",
   "language": "python",
   "name": "python3"
  },
  "language_info": {
   "name": "python",
   "version": "3.9.6"
  },
  "orig_nbformat": 4,
  "vscode": {
   "interpreter": {
    "hash": "31f2aee4e71d21fbe5cf8b01ff0e069b9275f58929596ceb00d14d90e3e16cd6"
   }
  }
 },
 "nbformat": 4,
 "nbformat_minor": 2
}

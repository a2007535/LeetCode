{
 "cells": [
  {
   "cell_type": "code",
   "execution_count": null,
   "metadata": {},
   "outputs": [],
   "source": [
    "class Solution:\n",
    "    def minIncrements(self, n: int, cost: List[int]) -> int:\n",
    "        self.arr = []\n",
    "        def dfs(index,summ,n):\n",
    "            summ+=cost[index-1]\n",
    "            index*=2\n",
    "            if index > n:\n",
    "                self.arr.append(summ) \n",
    "                return\n",
    "            dfs(index,summ,n)\n",
    "            dfs(index+1,summ,n)\n",
    "        dfs(1,0,n)\n",
    "        self.ans = 0\n",
    "        def helper(arr,maxnum,addon):\n",
    "            if len(arr)==1:\n",
    "                self.ans += (maxnum-addon-arr[0])\n",
    "                return\n",
    "            tmp = (maxnum-addon-max(arr))\n",
    "            self.ans+=tmp\n",
    "            addon += tmp\n",
    "            helper(arr[:len(arr)//2],maxnum,addon)\n",
    "            helper(arr[len(arr)//2:],maxnum,addon)\n",
    "        helper(self.arr,max(self.arr),0)\n",
    "        return self.ans"
   ]
  }
 ],
 "metadata": {
  "language_info": {
   "name": "python"
  },
  "orig_nbformat": 4
 },
 "nbformat": 4,
 "nbformat_minor": 2
}

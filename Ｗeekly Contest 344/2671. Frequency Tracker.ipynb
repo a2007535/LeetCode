{
 "cells": [
  {
   "cell_type": "code",
   "execution_count": null,
   "metadata": {},
   "outputs": [],
   "source": [
    "class FrequencyTracker:\n",
    "\n",
    "    def __init__(self):\n",
    "        self.dict = {}\n",
    "        self.frequency = defaultdict(set)\n",
    "\n",
    "    def add(self, number: int) -> None:\n",
    "        self.dict[number] = self.dict.get(number,0)+1\n",
    "        if self.dict[number] != 1:\n",
    "            self.frequency[self.dict[number]-1].remove(number)\n",
    "        self.frequency[self.dict[number]].add(number)\n",
    "    def deleteOne(self, number: int) -> None:\n",
    "        self.dict[number] = self.dict.get(number,0)-1\n",
    "        if self.dict[number]>=0:\n",
    "            self.frequency[self.dict[number]+1].remove(number)\n",
    "            if self.dict[number]!=0:\n",
    "                self.frequency[self.dict[number]].add(number)\n",
    "        if self.dict[number] <= 0 :\n",
    "            del self.dict[number]\n",
    "        \n",
    "    def hasFrequency(self, frequency: int) -> bool:\n",
    "        # print(self.frequency)\n",
    "        if frequency in self.frequency:\n",
    "            if len(self.frequency[frequency])!=0:\n",
    "                return True\n",
    "        return False\n",
    "\n",
    "\n",
    "# Your FrequencyTracker object will be instantiated and called as such:\n",
    "# obj = FrequencyTracker()\n",
    "# obj.add(number)\n",
    "# obj.deleteOne(number)\n",
    "# param_3 = obj.hasFrequency(frequency)"
   ]
  }
 ],
 "metadata": {
  "language_info": {
   "name": "python"
  },
  "orig_nbformat": 4
 },
 "nbformat": 4,
 "nbformat_minor": 2
}

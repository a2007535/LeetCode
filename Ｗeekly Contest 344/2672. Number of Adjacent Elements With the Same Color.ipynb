{
 "cells": [
  {
   "cell_type": "code",
   "execution_count": null,
   "metadata": {},
   "outputs": [],
   "source": [
    "class Solution:\n",
    "    def colorTheArray(self, n: int, queries: List[List[int]]) -> List[int]:\n",
    "        if n == 1:\n",
    "            return [0]*len(queries)\n",
    "        ansarr = []\n",
    "        ans = 0\n",
    "        arr = [0]*(n+1)\n",
    "        for i,c in queries:\n",
    "            if i == 0 and arr[i+1]!=0:\n",
    "                if arr[i]==arr[i+1] and arr[i]!=c:\n",
    "                    ans-=1\n",
    "                    arr[i]=c\n",
    "                    ansarr.append(ans)\n",
    "                    continue\n",
    "                if arr[i]!=arr[i+1] and arr[i+1]==c:\n",
    "                    ans+=1\n",
    "                    arr[i]=c\n",
    "                    ansarr.append(ans)\n",
    "                    continue\n",
    "            if i == n and arr[i-1]!=0:\n",
    "                if arr[i]==arr[i-1] and arr[i]!=c:\n",
    "                    ans-=1\n",
    "                    arr[i]=c\n",
    "                    ansarr.append(ans)\n",
    "                    continue\n",
    "                if arr[i]!=arr[i-1] and arr[i-1]==c:\n",
    "                    ans+=1\n",
    "                    arr[i]=c\n",
    "                    ansarr.append(ans)\n",
    "                    continue\n",
    "            if arr[i+1]!=0:\n",
    "                if arr[i]==arr[i+1] and arr[i]!=c:\n",
    "                    ans-=1\n",
    "                elif arr[i]!=arr[i+1] and arr[i+1]==c:\n",
    "                    ans+=1\n",
    "            if arr[i-1]!=0:\n",
    "                if arr[i]==arr[i-1] and arr[i]!=c:\n",
    "                    ans-=1\n",
    "                elif arr[i]!=arr[i-1] and arr[i-1]==c:\n",
    "                    ans+=1\n",
    "            arr[i]=c\n",
    "            # print(arr)\n",
    "            ansarr.append(ans)\n",
    "        return ansarr"
   ]
  }
 ],
 "metadata": {
  "language_info": {
   "name": "python"
  },
  "orig_nbformat": 4
 },
 "nbformat": 4,
 "nbformat_minor": 2
}

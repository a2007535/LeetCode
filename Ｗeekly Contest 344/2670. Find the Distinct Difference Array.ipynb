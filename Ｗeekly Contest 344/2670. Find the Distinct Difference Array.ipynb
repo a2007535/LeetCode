{
 "cells": [
  {
   "cell_type": "code",
   "execution_count": null,
   "metadata": {},
   "outputs": [],
   "source": [
    "class Solution:\n",
    "    def distinctDifferenceArray(self, nums: List[int]) -> List[int]:\n",
    "        rightarr =[]\n",
    "        rightset = set()\n",
    "        for i in nums:\n",
    "            rightset.add(i)\n",
    "            rightarr.append(len(rightset))\n",
    "        leftarr = []\n",
    "        leftset = set()\n",
    "        for i in nums[::-1]:\n",
    "            leftarr.append(len(leftset))\n",
    "            leftset.add(i)\n",
    "        # print(rightarr)\n",
    "        # print(leftarr[::-1])\n",
    "        ans = []\n",
    "        for i in range(len(leftarr)):\n",
    "            ans.append(rightarr[i]-leftarr[::-1][i])\n",
    "        return ans"
   ]
  }
 ],
 "metadata": {
  "language_info": {
   "name": "python"
  },
  "orig_nbformat": 4
 },
 "nbformat": 4,
 "nbformat_minor": 2
}

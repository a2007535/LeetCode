{
 "cells": [
  {
   "cell_type": "code",
   "execution_count": null,
   "metadata": {},
   "outputs": [],
   "source": [
    "class Solution:\n",
    "    def totalCost(self, costs: List[int], k: int, candidates: int) -> int:\n",
    "        choose = 0\n",
    "        ans = 0\n",
    "        lindex = candidates\n",
    "        rindex = len(costs)-candidates\n",
    "        larray = costs[:lindex]\n",
    "        heapify(larray)\n",
    "        rarray = costs[rindex:]\n",
    "        heapify(rarray)\n",
    "        while rindex > lindex and choose != k:\n",
    "            ltemp = heappop(larray)\n",
    "            rtemp = heappop(rarray)\n",
    "            # print(ltemp,rtemp)\n",
    "            if ltemp <= rtemp:\n",
    "                ans += ltemp\n",
    "                choose += 1\n",
    "                heappush(rarray,rtemp)\n",
    "                heappush(larray,costs[lindex])\n",
    "                lindex += 1\n",
    "            elif ltemp > rtemp:\n",
    "                ans += rtemp\n",
    "                choose += 1\n",
    "                heappush(larray,ltemp)\n",
    "                rindex -= 1\n",
    "                heappush(rarray,costs[rindex])\n",
    "            # print(larray,rarray,ans)\n",
    "        # print(lindex,rindex)\n",
    "        if lindex == rindex:\n",
    "            newArr = list(merge(larray,rarray))\n",
    "        else:\n",
    "            newArr = costs\n",
    "        ans += sum(sorted(newArr)[:k-choose])\n",
    "        # print(ans)\n",
    "        return ans"
   ]
  }
 ],
 "metadata": {
  "language_info": {
   "name": "python"
  },
  "orig_nbformat": 4
 },
 "nbformat": 4,
 "nbformat_minor": 2
}

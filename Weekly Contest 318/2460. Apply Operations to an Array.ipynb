{
 "cells": [
  {
   "cell_type": "code",
   "execution_count": null,
   "metadata": {},
   "outputs": [],
   "source": [
    "class Solution:\n",
    "    def applyOperations(self, nums: List[int]) -> List[int]:\n",
    "        for i in range(len(nums)-1):\n",
    "            if nums[i] == nums[i+1]:\n",
    "                nums[i] *= 2\n",
    "                nums[i+1] = 0\n",
    "        count = 0\n",
    "        for i in nums:\n",
    "            if i == 0:\n",
    "                count += 1\n",
    "        i=0\n",
    "        while i != len(nums):\n",
    "            if nums[i] == 0:\n",
    "                del nums[i]\n",
    "            else:\n",
    "                i+=1\n",
    "        for i in range(count):\n",
    "            nums.append(0)\n",
    "        return nums"
   ]
  }
 ],
 "metadata": {
  "language_info": {
   "name": "python"
  },
  "orig_nbformat": 4
 },
 "nbformat": 4,
 "nbformat_minor": 2
}

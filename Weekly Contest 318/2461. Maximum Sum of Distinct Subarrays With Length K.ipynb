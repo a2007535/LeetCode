{
 "cells": [
  {
   "cell_type": "code",
   "execution_count": null,
   "metadata": {},
   "outputs": [],
   "source": [
    "class Solution:\n",
    "    def maximumSubarraySum(self, nums: List[int], k: int) -> int:\n",
    "        counter = Counter(nums[:k])\n",
    "        ans = 0\n",
    "        temp = sum(nums[:k])\n",
    "        if len(counter) == k:\n",
    "            ans = temp\n",
    "        for i in range(k,len(nums)):\n",
    "            temp = temp + nums[i]-nums[i-k]\n",
    "            print(temp)\n",
    "            if nums[i] not in counter:\n",
    "                counter[nums[i]] = 1\n",
    "            else:\n",
    "                counter[nums[i]] += 1\n",
    "            counter[nums[i-k]]-=1\n",
    "            if counter[nums[i-k]]==0:\n",
    "                del counter[nums[i-k]]\n",
    "            if len(counter) == k:\n",
    "                ans = max(ans,temp)\n",
    "        return ans"
   ]
  }
 ],
 "metadata": {
  "language_info": {
   "name": "python"
  },
  "orig_nbformat": 4
 },
 "nbformat": 4,
 "nbformat_minor": 2
}

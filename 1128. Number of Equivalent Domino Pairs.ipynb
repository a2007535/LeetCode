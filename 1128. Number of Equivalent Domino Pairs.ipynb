{
 "cells": [
  {
   "cell_type": "code",
   "execution_count": null,
   "metadata": {},
   "outputs": [],
   "source": [
    "class Solution:\n",
    "    def numEquivDominoPairs(self, dominoes: List[List[int]]) -> int:\n",
    "        dominoesDict = {}\n",
    "        count = 0\n",
    "        for i in dominoes:\n",
    "            s1 = str(i[0])+str(i[1])\n",
    "            s2 = str(i[1])+str(i[0])\n",
    "            if s1 in dominoesDict or s2 in dominoesDict:\n",
    "                try:\n",
    "                    dominoesDict[s1] +=1\n",
    "                except:\n",
    "                    dominoesDict[s2] +=1\n",
    "            else:\n",
    "                dominoesDict[s1] = 1\n",
    "        for i in dominoesDict.values():\n",
    "            if i > 1:\n",
    "                count = count + ((i*(i-1))/2)\n",
    "        return int(count)"
   ]
  },
  {
   "cell_type": "code",
   "execution_count": null,
   "metadata": {},
   "outputs": [],
   "source": []
  }
 ],
 "metadata": {
  "kernelspec": {
   "display_name": "Python 3.8.9 64-bit",
   "language": "python",
   "name": "python3"
  },
  "language_info": {
   "name": "python",
   "version": "3.8.9"
  },
  "orig_nbformat": 4,
  "vscode": {
   "interpreter": {
    "hash": "31f2aee4e71d21fbe5cf8b01ff0e069b9275f58929596ceb00d14d90e3e16cd6"
   }
  }
 },
 "nbformat": 4,
 "nbformat_minor": 2
}

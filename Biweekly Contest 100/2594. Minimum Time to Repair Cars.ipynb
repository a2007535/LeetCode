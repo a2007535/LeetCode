{
 "cells": [
  {
   "cell_type": "code",
   "execution_count": null,
   "metadata": {},
   "outputs": [],
   "source": [
    "class Solution:\n",
    "    def repairCars(self, ranks: List[int], cars: int) -> int:\n",
    "        \n",
    "        def finish(time):\n",
    "            totalcar = 0\n",
    "            for r in ranks:\n",
    "                totalcar += floor(sqrt(time/r))\n",
    "            if totalcar >= cars:\n",
    "                return True\n",
    "            else:\n",
    "                return False\n",
    "        \n",
    "        right = max(ranks) * cars * cars\n",
    "        left = 0\n",
    "        while right > left:\n",
    "            mid = (right + left)//2\n",
    "            if finish(mid):\n",
    "                right = mid\n",
    "            else:\n",
    "                left = mid+1\n",
    "        return right"
   ]
  }
 ],
 "metadata": {
  "language_info": {
   "name": "python"
  },
  "orig_nbformat": 4
 },
 "nbformat": 4,
 "nbformat_minor": 2
}

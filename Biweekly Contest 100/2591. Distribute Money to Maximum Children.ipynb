{
 "cells": [
  {
   "cell_type": "code",
   "execution_count": null,
   "metadata": {},
   "outputs": [],
   "source": [
    "class Solution:\n",
    "    def distMoney(self, money: int, children: int) -> int:\n",
    "        ans = children\n",
    "        money -= children\n",
    "        count = 0\n",
    "        if money < 0:\n",
    "            return -1\n",
    "        while money >= 7 and children != 1:\n",
    "            money -= 7\n",
    "            children -= 1\n",
    "        if children == 1 and money == 7:\n",
    "            return ans\n",
    "        elif children == 1 and money == 3:\n",
    "            return ans - 2\n",
    "        elif children == 1:\n",
    "            return ans - 1\n",
    "        else:\n",
    "            return ans - children"
   ]
  }
 ],
 "metadata": {
  "language_info": {
   "name": "python"
  },
  "orig_nbformat": 4
 },
 "nbformat": 4,
 "nbformat_minor": 2
}

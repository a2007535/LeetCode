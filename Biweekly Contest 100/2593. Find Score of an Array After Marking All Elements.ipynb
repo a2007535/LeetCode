{
 "cells": [
  {
   "cell_type": "code",
   "execution_count": null,
   "metadata": {},
   "outputs": [],
   "source": [
    "class Solution:\n",
    "    def findScore(self, nums: List[int]) -> int:\n",
    "        seen = [0] * len(nums)\n",
    "        ans = 0\n",
    "        a = sorted([n,i] for i,n in enumerate(nums))\n",
    "        for num, i in a:\n",
    "            if seen[i]:\n",
    "                continue\n",
    "            ans += num\n",
    "            seen[i] = 1\n",
    "            if i != 0:\n",
    "                seen[i-1] = 1\n",
    "            if i != len(nums)-1:\n",
    "                seen[i+1]=1\n",
    "        return ans"
   ]
  }
 ],
 "metadata": {
  "language_info": {
   "name": "python"
  },
  "orig_nbformat": 4
 },
 "nbformat": 4,
 "nbformat_minor": 2
}

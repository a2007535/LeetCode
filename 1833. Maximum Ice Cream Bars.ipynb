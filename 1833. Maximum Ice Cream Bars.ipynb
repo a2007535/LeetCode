{
 "cells": [
  {
   "cell_type": "code",
   "execution_count": null,
   "metadata": {},
   "outputs": [],
   "source": [
    "class Solution:\n",
    "    def maxIceCream(self, costs: List[int], coins: int) -> int:\n",
    "        costs=sorted(costs)\n",
    "        ans=0\n",
    "        for i in costs:\n",
    "            if coins >= i:\n",
    "                coins-=i\n",
    "                ans+=1\n",
    "            else:\n",
    "                break\n",
    "        return ans"
   ]
  }
 ],
 "metadata": {
  "language_info": {
   "name": "python"
  },
  "orig_nbformat": 4
 },
 "nbformat": 4,
 "nbformat_minor": 2
}

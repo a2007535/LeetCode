{
 "cells": [
  {
   "cell_type": "code",
   "execution_count": null,
   "metadata": {},
   "outputs": [],
   "source": [
    "class Solution:\n",
    "    def findMatrix(self, nums: List[int]) -> List[List[int]]:\n",
    "        counter = Counter(nums)\n",
    "        counter = dict(counter)\n",
    "        ans = []\n",
    "        while counter:  \n",
    "            temp = []\n",
    "            for nums,count in counter.items():\n",
    "                temp.append(nums)\n",
    "                counter[nums]-=1\n",
    "            for i in temp:\n",
    "                if counter[i] == 0:\n",
    "                    del counter[i]\n",
    "            ans.append(temp)\n",
    "        return ans"
   ]
  }
 ],
 "metadata": {
  "language_info": {
   "name": "python"
  },
  "orig_nbformat": 4
 },
 "nbformat": 4,
 "nbformat_minor": 2
}

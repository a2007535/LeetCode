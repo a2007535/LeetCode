{
 "cells": [
  {
   "cell_type": "code",
   "execution_count": null,
   "metadata": {},
   "outputs": [],
   "source": [
    "class Solution:\n",
    "    def miceAndCheese(self, reward1: List[int], reward2: List[int], k: int) -> int:\n",
    "        reward = []\n",
    "        ans = 0\n",
    "        for i in range(len(reward1)):\n",
    "            reward.append(reward2[i]-reward1[i])\n",
    "        a = sorted([[n,i] for i,n in enumerate(reward)])\n",
    "        for n, i in a[:k]:\n",
    "            ans += reward1[i]\n",
    "        for n, i in a[k:]:\n",
    "            ans += reward2[i]  \n",
    "        return ans"
   ]
  }
 ],
 "metadata": {
  "language_info": {
   "name": "python"
  },
  "orig_nbformat": 4
 },
 "nbformat": 4,
 "nbformat_minor": 2
}

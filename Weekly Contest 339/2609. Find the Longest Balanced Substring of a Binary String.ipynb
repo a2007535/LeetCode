{
 "cells": [
  {
   "cell_type": "code",
   "execution_count": null,
   "metadata": {},
   "outputs": [],
   "source": [
    "class Solution:\n",
    "    def findTheLongestBalancedSubstring(self, s: str) -> int:\n",
    "        counter = {'0':0}\n",
    "        ans = 0\n",
    "        for i in s:\n",
    "            if i == '0':\n",
    "                if '1' in counter:\n",
    "                    counter = {}\n",
    "                    counter['0'] = 1\n",
    "                else:\n",
    "                    counter['0'] += 1\n",
    "            if i == '1':\n",
    "                if '1' in counter:\n",
    "                    counter['1'] += 1\n",
    "                else:\n",
    "                    counter['1'] = 1\n",
    "                ans = max(ans,min(counter.values())*2)\n",
    "            # print(counter)\n",
    "        return ans\n",
    "        "
   ]
  }
 ],
 "metadata": {
  "language_info": {
   "name": "python"
  },
  "orig_nbformat": 4
 },
 "nbformat": 4,
 "nbformat_minor": 2
}

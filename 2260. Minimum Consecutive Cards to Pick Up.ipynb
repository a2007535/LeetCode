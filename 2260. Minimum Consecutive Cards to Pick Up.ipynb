{
 "cells": [
  {
   "cell_type": "code",
   "execution_count": null,
   "metadata": {},
   "outputs": [],
   "source": [
    "class Solution:\n",
    "    def minimumCardPickup(self, cards: List[int]) -> int:\n",
    "        carddict = {}\n",
    "        ans = inf\n",
    "        for i,n in enumerate(cards):\n",
    "            if n in carddict:\n",
    "                ans = min(ans, i-carddict[n]+1)\n",
    "            carddict[n] = i\n",
    "        return ans if ans != inf else -1"
   ]
  }
 ],
 "metadata": {
  "language_info": {
   "name": "python"
  },
  "orig_nbformat": 4
 },
 "nbformat": 4,
 "nbformat_minor": 2
}

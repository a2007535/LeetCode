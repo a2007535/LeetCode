{
 "cells": [
  {
   "cell_type": "code",
   "execution_count": null,
   "metadata": {},
   "outputs": [],
   "source": [
    "class Solution:\n",
    "    def combinationSum3(self, k: int, n: int) -> List[List[int]]:\n",
    "        self.ans = []\n",
    "        def helper(k,n,arr,sumnum,i):\n",
    "            if i == 11:\n",
    "                return \n",
    "            if sumnum == n and len(arr) == k:\n",
    "                self.ans.append(arr)\n",
    "                return\n",
    "            if n-sumnum < i:\n",
    "                return\n",
    "            helper(k,n,arr+[i],sumnum+i,i+1)\n",
    "            helper(k,n,arr,sumnum,i+1)\n",
    "        helper(k,n,[],0,1)\n",
    "        return self.ans"
   ]
  }
 ],
 "metadata": {
  "language_info": {
   "name": "python"
  },
  "orig_nbformat": 4
 },
 "nbformat": 4,
 "nbformat_minor": 2
}

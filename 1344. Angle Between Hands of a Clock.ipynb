{
 "cells": [
  {
   "cell_type": "code",
   "execution_count": null,
   "metadata": {},
   "outputs": [],
   "source": [
    "class Solution:\n",
    "    def angleClock(self, hour: int, minutes: int) -> float:\n",
    "        minuteangle = minutes*6\n",
    "        hourangle = ((hour%12)+(minutes/60))/12 * 360\n",
    "        return abs(minuteangle-hourangle) if abs(minuteangle-hourangle) <180 else abs(abs(minuteangle-hourangle)-360) "
   ]
  }
 ],
 "metadata": {
  "language_info": {
   "name": "python"
  },
  "orig_nbformat": 4
 },
 "nbformat": 4,
 "nbformat_minor": 2
}

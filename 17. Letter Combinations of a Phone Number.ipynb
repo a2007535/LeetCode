{
 "cells": [
  {
   "cell_type": "code",
   "execution_count": null,
   "metadata": {},
   "outputs": [],
   "source": [
    "class Solution:\n",
    "    def letterCombinations(self, digits: str) -> List[str]:\n",
    "        self.digitdict = {\n",
    "            '2':'abc',\n",
    "            '3':'def',\n",
    "            '4':'ghi',\n",
    "            '5':'jkl',\n",
    "            '6':'mno',\n",
    "            '7':'pqrs',\n",
    "            '8':'tuv',\n",
    "            '9':'wxyz'\n",
    "        }\n",
    "        self.ans = []\n",
    "        def helper(digits,string):\n",
    "            if not digits:\n",
    "                if not string:\n",
    "                    return\n",
    "                self.ans.append(string)\n",
    "                return\n",
    "            for i in self.digitdict[digits[0]]:\n",
    "                helper(digits[1:],string+i)\n",
    "        helper(digits,\"\")\n",
    "        return self.ans"
   ]
  }
 ],
 "metadata": {
  "language_info": {
   "name": "python"
  },
  "orig_nbformat": 4
 },
 "nbformat": 4,
 "nbformat_minor": 2
}

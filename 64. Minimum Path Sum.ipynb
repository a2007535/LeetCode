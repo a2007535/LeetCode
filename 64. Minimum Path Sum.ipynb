{
 "cells": [
  {
   "cell_type": "code",
   "execution_count": null,
   "metadata": {},
   "outputs": [],
   "source": [
    "class Solution:\n",
    "    def minPathSum(self, grid: List[List[int]]) -> int:\n",
    "        for i in range(1,len(grid[0])):\n",
    "            grid[0][i] += grid[0][i-1]\n",
    "        for j in range(1,len(grid)):\n",
    "            grid[j][0] += grid[j-1][0]\n",
    "        for i in range(1,len(grid[0])):\n",
    "            for j in range(1,len(grid)):\n",
    "                grid[j][i] += min(grid[j-1][i],grid[j][i-1])\n",
    "        return grid[-1][-1]"
   ]
  }
 ],
 "metadata": {
  "language_info": {
   "name": "python"
  },
  "orig_nbformat": 4
 },
 "nbformat": 4,
 "nbformat_minor": 2
}

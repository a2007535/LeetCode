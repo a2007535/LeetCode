{
 "cells": [
  {
   "cell_type": "code",
   "execution_count": 14,
   "metadata": {},
   "outputs": [
    {
     "ename": "TypeError",
     "evalue": "'set' object is not subscriptable",
     "output_type": "error",
     "traceback": [
      "\u001b[0;31m---------------------------------------------------------------------------\u001b[0m",
      "\u001b[0;31mTypeError\u001b[0m                                 Traceback (most recent call last)",
      "Cell \u001b[0;32mIn [14], line 7\u001b[0m\n\u001b[1;32m      5\u001b[0m     \u001b[38;5;28;01mreturn\u001b[39;00m numsSet\n\u001b[1;32m      6\u001b[0m a\u001b[38;5;241m=\u001b[39msortedSquares([\u001b[38;5;241m-\u001b[39m\u001b[38;5;241m4\u001b[39m,\u001b[38;5;241m-\u001b[39m\u001b[38;5;241m1\u001b[39m,\u001b[38;5;241m0\u001b[39m,\u001b[38;5;241m3\u001b[39m,\u001b[38;5;241m10\u001b[39m])\n\u001b[0;32m----> 7\u001b[0m \u001b[43ma\u001b[49m\u001b[43m[\u001b[49m\u001b[38;5;241;43m0\u001b[39;49m\u001b[43m]\u001b[49m\n",
      "\u001b[0;31mTypeError\u001b[0m: 'set' object is not subscriptable"
     ]
    }
   ],
   "source": [
    "class Solution:\n",
    "    def sortedSquares(A):\n",
    "        index = len(A) -1\n",
    "        left = 0\n",
    "        right = index\n",
    "        newList = [0] * len(A)\n",
    "        while index != -1:\n",
    "            if abs(A[left]) > abs(A[right]):\n",
    "                newList[index] = A[left] ** 2\n",
    "                left += 1\n",
    "            else:\n",
    "                newList[index] = A[right] ** 2\n",
    "                right -= 1\n",
    "            index -= 1\n",
    "        return newList"
   ]
  },
  {
   "cell_type": "code",
   "execution_count": null,
   "metadata": {},
   "outputs": [],
   "source": [
    "class Solution:\n",
    "    def sortedSquares(self, A: List[int]) -> List[int]:\n",
    "        ans = []\n",
    "        r = len(A)-1\n",
    "        l = 0\n",
    "        while r>=l:\n",
    "            if abs(A[r])>abs(A[l]):\n",
    "                ans.append(A[r]*A[r])\n",
    "                r-=1\n",
    "            else:\n",
    "                ans.append(A[l]*A[l])\n",
    "                l+=1\n",
    "        return ans[::-1]\n",
    "                "
   ]
  }
 ],
 "metadata": {
  "kernelspec": {
   "display_name": "Python 3.8.9 64-bit",
   "language": "python",
   "name": "python3"
  },
  "language_info": {
   "name": "python",
   "version": "3.8.9"
  },
  "orig_nbformat": 4,
  "vscode": {
   "interpreter": {
    "hash": "31f2aee4e71d21fbe5cf8b01ff0e069b9275f58929596ceb00d14d90e3e16cd6"
   }
  }
 },
 "nbformat": 4,
 "nbformat_minor": 2
}

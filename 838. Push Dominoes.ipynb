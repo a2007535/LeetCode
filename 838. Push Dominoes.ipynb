{
 "cells": [
  {
   "cell_type": "code",
   "execution_count": 7,
   "metadata": {},
   "outputs": [
    {
     "data": {
      "text/plain": [
       "[1, 5, 6, 7, 8, 9, 10]"
      ]
     },
     "execution_count": 7,
     "metadata": {},
     "output_type": "execute_result"
    }
   ],
   "source": [
    "a=[1,2,3,4,5,6,7,8,9,10]\n",
    "a[:4]=[1]"
   ]
  },
  {
   "cell_type": "code",
   "execution_count": 34,
   "metadata": {},
   "outputs": [
    {
     "data": {
      "text/plain": [
       "['.', '.', 'R', '.', 'L']"
      ]
     },
     "execution_count": 34,
     "metadata": {},
     "output_type": "execute_result"
    }
   ],
   "source": [
    "a=\"..R.L\"\n",
    "a=list(a)\n",
    "rightindex=4\n",
    "leftindex =2\n",
    "if (rightindex - leftindex) %2 == 1:\n",
    "    mid = (rightindex-leftindex+1)//2\n",
    "    a[leftindex:leftindex+mid]=[\"R\"]*mid\n",
    "    a[leftindex+mid:rightindex+1]=[\"L\"]*mid\n",
    "else:\n",
    "    mid = (rightindex-leftindex+1)//2\n",
    "    a[leftindex:leftindex+mid]=[\"R\"]*mid\n",
    "    a[leftindex+mid+1:rightindex+1]=[\"L\"]*mid\n",
    "a"
   ]
  },
  {
   "cell_type": "code",
   "execution_count": null,
   "metadata": {},
   "outputs": [],
   "source": [
    "class Solution:\n",
    "    def pushDominoes(self, dominoes: str) -> str:\n",
    "        dominoes = list(dominoes)\n",
    "        leftDominoes = dominoes[0]\n",
    "        leftindex = 0\n",
    "        for i in range(len(dominoes)):\n",
    "            if dominoes[i] == \".\" and i == len(dominoes)-1 and leftDominoes==\"R\":\n",
    "                dominoes[leftindex+1:i+1] = [\"R\"]*(i-leftindex)\n",
    "            if leftDominoes == \".\" and dominoes[i] == \"L\":\n",
    "                dominoes[leftindex:i] = [\"L\"]*(i-leftindex)\n",
    "                leftDominoes = dominoes[i]\n",
    "                leftindex = i\n",
    "            if leftDominoes == \".\" and dominoes[i] == \"R\":\n",
    "                leftDominoes = dominoes[i]\n",
    "                leftindex = i\n",
    "                \n",
    "            if leftDominoes == \"R\" and dominoes[i] == \"R\":\n",
    "                dominoes[leftindex:i] = [\"R\"]*(i-leftindex)\n",
    "                leftDominoes = dominoes[i]\n",
    "                leftindex = i\n",
    "                \n",
    "            if leftDominoes == \"L\" and dominoes[i] == \"R\":\n",
    "                leftDominoes = dominoes[i]\n",
    "                leftindex = i\n",
    "\n",
    "            if leftDominoes == \"L\" and dominoes[i] == \"L\":\n",
    "                dominoes[leftindex:i] = [\"L\"]*(i-leftindex)\n",
    "                leftDominoes = dominoes[i]\n",
    "                leftindex = i\n",
    "                \n",
    "            if leftDominoes == \"R\" and dominoes[i] == \"L\":\n",
    "                if (i - leftindex) %2 == 1:\n",
    "                    mid = (i-leftindex+1)//2\n",
    "                    dominoes[leftindex:leftindex+mid]=[\"R\"]*mid\n",
    "                    dominoes[leftindex+mid:i+1]=[\"L\"]*mid\n",
    "                else:\n",
    "                    mid = (i-leftindex+1)//2\n",
    "                    dominoes[leftindex:leftindex+mid]=[\"R\"]*mid\n",
    "                    dominoes[leftindex+mid+1:i+1]=[\"L\"]*mid\n",
    "                leftindex = i\n",
    "                leftDominoes = dominoes[i]\n",
    "        return(\"\".join(dominoes))"
   ]
  }
 ],
 "metadata": {
  "kernelspec": {
   "display_name": "Python 3.8.9 64-bit",
   "language": "python",
   "name": "python3"
  },
  "language_info": {
   "codemirror_mode": {
    "name": "ipython",
    "version": 3
   },
   "file_extension": ".py",
   "mimetype": "text/x-python",
   "name": "python",
   "nbconvert_exporter": "python",
   "pygments_lexer": "ipython3",
   "version": "3.8.9"
  },
  "orig_nbformat": 4,
  "vscode": {
   "interpreter": {
    "hash": "31f2aee4e71d21fbe5cf8b01ff0e069b9275f58929596ceb00d14d90e3e16cd6"
   }
  }
 },
 "nbformat": 4,
 "nbformat_minor": 2
}

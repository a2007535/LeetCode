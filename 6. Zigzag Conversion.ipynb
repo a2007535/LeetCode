{
 "cells": [
  {
   "cell_type": "code",
   "execution_count": null,
   "metadata": {},
   "outputs": [],
   "source": [
    "class Solution:\n",
    "    def convert(self, s: str, numRows: int) -> str:\n",
    "        ans = [[]for _ in range(numRows)]\n",
    "        # print(ans)\n",
    "        # n+n-2\n",
    "        temp = list(range(numRows)) + list(range(numRows-2,0,-1))\n",
    "        # print(temp)\n",
    "        for i,n in enumerate(s):\n",
    "            ans[temp[i % len(temp)]].append(n)\n",
    "        ansstr = \"\"\n",
    "        for i in ans:\n",
    "            ansstr += \"\".join(i)\n",
    "        return ansstr"
   ]
  }
 ],
 "metadata": {
  "language_info": {
   "name": "python"
  },
  "orig_nbformat": 4
 },
 "nbformat": 4,
 "nbformat_minor": 2
}

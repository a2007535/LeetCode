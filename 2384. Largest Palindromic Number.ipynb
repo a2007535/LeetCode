{
 "cells": [
  {
   "cell_type": "code",
   "execution_count": null,
   "metadata": {},
   "outputs": [],
   "source": [
    "class Solution:\n",
    "    def largestPalindromic(self, num: str) -> str:\n",
    "        from collections import Counter\n",
    "        ans=\"\"\n",
    "        tmp=\"\"\n",
    "        numCounter = Counter(num)\n",
    "        nums = [\"9\",\"8\",\"7\",\"6\",\"5\",\"4\",\"3\",\"2\",\"1\",\"0\"]\n",
    "        for i in nums:\n",
    "            if i in numCounter:\n",
    "                if ans == \"\" and i == \"0\":\n",
    "                    break\n",
    "                if(numCounter[i]>=2):\n",
    "                    ans = ans + i*(numCounter[i]//2)\n",
    "                    numCounter[i] = numCounter[i]%2\n",
    "        for i in nums:\n",
    "            if i in numCounter:\n",
    "                if(numCounter[i]%2==1):\n",
    "                    tmp = i\n",
    "                    break\n",
    "        reverseAns = ans[::-1]\n",
    "        ans = ans + tmp + reverseAns\n",
    "        \n",
    "        return(ans or \"0\")\n",
    "                    "
   ]
  }
 ],
 "metadata": {
  "kernelspec": {
   "display_name": "Python 3.8.9 64-bit",
   "language": "python",
   "name": "python3"
  },
  "language_info": {
   "name": "python",
   "version": "3.8.9"
  },
  "orig_nbformat": 4,
  "vscode": {
   "interpreter": {
    "hash": "31f2aee4e71d21fbe5cf8b01ff0e069b9275f58929596ceb00d14d90e3e16cd6"
   }
  }
 },
 "nbformat": 4,
 "nbformat_minor": 2
}

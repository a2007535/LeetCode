{
 "cells": [
  {
   "cell_type": "code",
   "execution_count": null,
   "metadata": {},
   "outputs": [],
   "source": [
    "class Solution:\n",
    "    def makeSubKSumEqual(self, arr: List[int], k: int) -> int:\n",
    "        n = len(arr)\n",
    "        gcd = math.gcd(n, k)\n",
    "        ans = 0\n",
    "        for i in range(gcd):\n",
    "            tmp = sorted([arr[j] for j in range(i, n, gcd)])\n",
    "            median = tmp[len(tmp) // 2]\n",
    "            ans += sum(abs(num - median) for num in tmp)\n",
    "        return ans"
   ]
  }
 ],
 "metadata": {
  "language_info": {
   "name": "python"
  },
  "orig_nbformat": 4
 },
 "nbformat": 4,
 "nbformat_minor": 2
}

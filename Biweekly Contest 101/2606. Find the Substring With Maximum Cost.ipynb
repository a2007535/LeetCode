{
 "cells": [
  {
   "cell_type": "code",
   "execution_count": null,
   "metadata": {},
   "outputs": [],
   "source": [
    "class Solution:\n",
    "    def maximumCostSubstring(self, s: str, chars: str, vals: List[int]) -> int:\n",
    "        chardict = {}\n",
    "        for i in range(1,27):\n",
    "            chardict[chr(96+i)]=i\n",
    "        for i in range(len(chars)):\n",
    "            chardict[chars[i]]=vals[i]\n",
    "        ans = 0\n",
    "        temp = 0\n",
    "        for i in s:\n",
    "            temp += chardict[i]\n",
    "            if temp < 0:\n",
    "                temp = 0\n",
    "            ans = max(ans,temp)\n",
    "        return ans"
   ]
  }
 ],
 "metadata": {
  "language_info": {
   "name": "python"
  },
  "orig_nbformat": 4
 },
 "nbformat": 4,
 "nbformat_minor": 2
}

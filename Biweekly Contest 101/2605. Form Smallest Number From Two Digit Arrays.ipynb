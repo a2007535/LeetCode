{
 "cells": [
  {
   "cell_type": "code",
   "execution_count": null,
   "metadata": {},
   "outputs": [],
   "source": [
    "class Solution:\n",
    "    def minNumber(self, nums1: List[int], nums2: List[int]) -> int:\n",
    "        counter = {}\n",
    "        ans = inf\n",
    "        for i in nums1:\n",
    "            counter[i] = counter.get(i,0) + 1\n",
    "        for i in nums2:\n",
    "            counter[i] = counter.get(i,0) + 1\n",
    "        for num,count in counter.items():\n",
    "            if count >1:\n",
    "                ans = min(ans, num)\n",
    "        heapify(nums1)\n",
    "        heapify(nums2)\n",
    "        ansheap = []\n",
    "        heappush(ansheap,heappop(nums1))\n",
    "        heappush(ansheap,heappop(nums2))\n",
    "        ans = min(ans, heappop(ansheap)*10 + heappop(ansheap))\n",
    "        return ans"
   ]
  },
  {
   "cell_type": "code",
   "execution_count": null,
   "metadata": {},
   "outputs": [],
   "source": [
    "    def minNumber(self, nums1: List[int], nums2: List[int]) -> int:\n",
    "        s1, s2 = set(nums1), set(nums2)\n",
    "        if s1 & s2:\n",
    "            return min(s1 & s2)\n",
    "        a, b = min(nums1), min(nums2)\n",
    "        return min(a, b) * 10 + max(a, b)"
   ]
  }
 ],
 "metadata": {
  "language_info": {
   "name": "python"
  },
  "orig_nbformat": 4
 },
 "nbformat": 4,
 "nbformat_minor": 2
}

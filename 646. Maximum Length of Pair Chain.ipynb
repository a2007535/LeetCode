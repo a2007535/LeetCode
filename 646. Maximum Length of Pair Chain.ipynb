{
 "cells": [
  {
   "attachments": {},
   "cell_type": "markdown",
   "metadata": {},
   "source": [
    "Use Dp"
   ]
  },
  {
   "cell_type": "code",
   "execution_count": null,
   "metadata": {},
   "outputs": [],
   "source": [
    "class Solution:\n",
    "    def findLongestChain(self, pairs: List[List[int]]) -> int:\n",
    "        newpairs = sorted([[s,e]for s,e in pairs])\n",
    "        dp = [1]*len(pairs)\n",
    "        for i in range(len(newpairs)):\n",
    "            for j in range(i):\n",
    "                if newpairs[i][0] > newpairs[j][1]:\n",
    "                    dp[i] = max(dp[i],dp[j]+1)\n",
    "        # print(dp)\n",
    "        return max(dp)"
   ]
  },
  {
   "attachments": {},
   "cell_type": "markdown",
   "metadata": {},
   "source": [
    "Use Greedy"
   ]
  },
  {
   "cell_type": "code",
   "execution_count": null,
   "metadata": {},
   "outputs": [],
   "source": [
    "class Solution:\n",
    "    def findLongestChain(self, pairs: List[List[int]]) -> int:\n",
    "        newpairs = sorted(pairs,key = lambda x:x[1])\n",
    "        prev = -inf\n",
    "        ans = 0\n",
    "        for s,e in newpairs:\n",
    "            if s > prev:\n",
    "                ans+=1\n",
    "                prev = e\n",
    "        return ans"
   ]
  }
 ],
 "metadata": {
  "language_info": {
   "name": "python"
  },
  "orig_nbformat": 4
 },
 "nbformat": 4,
 "nbformat_minor": 2
}

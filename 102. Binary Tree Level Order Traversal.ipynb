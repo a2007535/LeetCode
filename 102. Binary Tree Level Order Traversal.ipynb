{
 "cells": [
  {
   "cell_type": "code",
   "execution_count": 2,
   "metadata": {},
   "outputs": [],
   "source": [
    "import queue\n",
    "a=queue.Queue()\n",
    "a.queue"
   ]
  },
  {
   "cell_type": "code",
   "execution_count": null,
   "metadata": {},
   "outputs": [],
   "source": [
    "# Definition for a binary tree node.\n",
    "# class TreeNode:\n",
    "#     def __init__(self, val=0, left=None, right=None):\n",
    "#         self.val = val\n",
    "#         self.left = left\n",
    "#         self.right = right\n",
    "class Solution:\n",
    "    def levelOrder(self, root: Optional[TreeNode]) -> List[List[int]]:\n",
    "        q = []\n",
    "        ans = []\n",
    "        if root:\n",
    "            q.append(root)\n",
    "        while q:\n",
    "            res = []\n",
    "            for i in range(len(q)):\n",
    "                temp = q.pop(0)\n",
    "                if temp.left:\n",
    "                    q.append(temp.left)\n",
    "                if temp.right:\n",
    "                    q.append(temp.right)\n",
    "                res.append(temp.val)\n",
    "            ans.append(res)\n",
    "        return ans"
   ]
  },
  {
   "cell_type": "code",
   "execution_count": null,
   "metadata": {},
   "outputs": [],
   "source": [
    "# Definition for a binary tree node.\n",
    "# class TreeNode:\n",
    "#     def __init__(self, val=0, left=None, right=None):\n",
    "#         self.val = val\n",
    "#         self.left = left\n",
    "#         self.right = right\n",
    "class Solution:\n",
    "    def DFS(self, root, height):\n",
    "        if root == None:\n",
    "            return\n",
    "        if height >= len(self.height) :\n",
    "            self.height.append([root.val])\n",
    "        else:\n",
    "            self.height[height].append(root.val)\n",
    "        self.DFS(root.left,height+1)\n",
    "        self.DFS(root.right,height+1)\n",
    "        \n",
    "    def levelOrder(self, root: Optional[TreeNode]) -> List[List[int]]:\n",
    "        self.height = []\n",
    "        self.DFS(root,0)\n",
    "        return self.height"
   ]
  },
  {
   "cell_type": "code",
   "execution_count": null,
   "metadata": {},
   "outputs": [],
   "source": [
    "#用 queue\n",
    "\n",
    "class Solution:\n",
    "    def levelOrder(self, root: TreeNode) -> List[List[int]]:\n",
    "        queue, ans = deque([root] if root else []), []\n",
    "        while len(queue):\n",
    "            qlen, row = len(queue), []\n",
    "            for _ in range(qlen):\n",
    "                curr = queue.popleft()\n",
    "                row.append(curr.val)\n",
    "                if curr.left: queue.append(curr.left)\n",
    "                if curr.right: queue.append(curr.right)\n",
    "            ans.append(row)\n",
    "        return ans\n",
    "\n",
    "\n",
    "# Definition for a binary tree node.\n",
    "# class TreeNode:\n",
    "#     def __init__(self, val=0, left=None, right=None):\n",
    "#         self.val = val\n",
    "#         self.left = left\n",
    "#         self.right = right\n",
    "class Solution:\n",
    "    def levelOrder(self, root: Optional[TreeNode]) -> List[List[int]]:\n",
    "        q=[]\n",
    "        if root:\n",
    "            q.append(root)\n",
    "        ans=[]\n",
    "        while len(q) !=0:\n",
    "            res=[]\n",
    "            temp=len(q)\n",
    "            for i in range(temp):\n",
    "                if q[i].left:\n",
    "                    q.append(q[i].left)\n",
    "                if q[i].right:\n",
    "                    q.append(q[i].right)\n",
    "                res.append(q[i].val)\n",
    "            for i in range(temp):\n",
    "                q.pop(0)\n",
    "            ans.append(res)\n",
    "        return ans"
   ]
  }
 ],
 "metadata": {
  "kernelspec": {
   "display_name": "Python 3.8.9 64-bit",
   "language": "python",
   "name": "python3"
  },
  "language_info": {
   "codemirror_mode": {
    "name": "ipython",
    "version": 3
   },
   "file_extension": ".py",
   "mimetype": "text/x-python",
   "name": "python",
   "nbconvert_exporter": "python",
   "pygments_lexer": "ipython3",
   "version": "3.9.6"
  },
  "orig_nbformat": 4,
  "vscode": {
   "interpreter": {
    "hash": "31f2aee4e71d21fbe5cf8b01ff0e069b9275f58929596ceb00d14d90e3e16cd6"
   }
  }
 },
 "nbformat": 4,
 "nbformat_minor": 2
}

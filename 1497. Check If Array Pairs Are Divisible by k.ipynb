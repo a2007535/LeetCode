{
 "cells": [
  {
   "cell_type": "code",
   "execution_count": null,
   "metadata": {},
   "outputs": [],
   "source": [
    "class Solution:\n",
    "    def canArrange(self, arr: List[int], k: int) -> bool:\n",
    "        numsDict = {}\n",
    "        for i in arr:\n",
    "            if (k-(i%k))%k in numsDict:\n",
    "                numsDict[(k-(i%k))%k]-=1\n",
    "                if numsDict[(k-(i%k))%k]==0:\n",
    "                    del numsDict[(k-(i%k))%k]\n",
    "            else:\n",
    "                if i%k in numsDict:\n",
    "                    numsDict[i%k]+=1\n",
    "                else:\n",
    "                    numsDict[i%k] =1\n",
    "        return len(numsDict)==0"
   ]
  }
 ],
 "metadata": {
  "kernelspec": {
   "display_name": "Python 3.8.9 64-bit",
   "language": "python",
   "name": "python3"
  },
  "language_info": {
   "name": "python",
   "version": "3.8.9"
  },
  "orig_nbformat": 4,
  "vscode": {
   "interpreter": {
    "hash": "31f2aee4e71d21fbe5cf8b01ff0e069b9275f58929596ceb00d14d90e3e16cd6"
   }
  }
 },
 "nbformat": 4,
 "nbformat_minor": 2
}

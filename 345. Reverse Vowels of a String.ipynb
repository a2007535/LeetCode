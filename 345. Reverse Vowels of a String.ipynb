{
 "cells": [
  {
   "cell_type": "code",
   "execution_count": null,
   "metadata": {},
   "outputs": [],
   "source": [
    "class Solution:\n",
    "    def reverseVowels(self, s: str) -> str:\n",
    "        vowels = {'a','e','i','o','u','A','E','I','O','U'}\n",
    "        oristring = []\n",
    "        vowelsstring = []\n",
    "        for i in s:\n",
    "            if i in vowels:\n",
    "                vowelsstring.append(i)\n",
    "                oristring.append(None)\n",
    "            else:\n",
    "                oristring.append(i)\n",
    "        vowelindex = -1\n",
    "        for i,cha in enumerate(oristring):\n",
    "            if not cha:\n",
    "                oristring[i] = vowelsstring[vowelindex]\n",
    "                vowelindex -= 1\n",
    "        return \"\".join(oristring)"
   ]
  }
 ],
 "metadata": {
  "language_info": {
   "name": "python"
  },
  "orig_nbformat": 4
 },
 "nbformat": 4,
 "nbformat_minor": 2
}

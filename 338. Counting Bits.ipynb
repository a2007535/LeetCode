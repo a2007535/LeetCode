{
 "cells": [
  {
   "cell_type": "code",
   "execution_count": null,
   "metadata": {},
   "outputs": [],
   "source": [
    "class Solution:\n",
    "    def countBits(self, n: int) -> List[int]:\n",
    "        dp = [0,1]\n",
    "        right = 2\n",
    "        left = 0\n",
    "        for i in range(1,n):\n",
    "            if right == left:\n",
    "                left = 1\n",
    "                dp.append(1)\n",
    "                right *= 2\n",
    "            else:\n",
    "                dp.append(dp[left]+1)\n",
    "                left+=1\n",
    "        return dp[:n+1]\n"
   ]
  }
 ],
 "metadata": {
  "language_info": {
   "name": "python"
  },
  "orig_nbformat": 4
 },
 "nbformat": 4,
 "nbformat_minor": 2
}

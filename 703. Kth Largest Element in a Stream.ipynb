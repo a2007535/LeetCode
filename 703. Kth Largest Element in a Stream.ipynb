{
 "cells": [
  {
   "cell_type": "code",
   "execution_count": 119,
   "metadata": {},
   "outputs": [
    {
     "data": {
      "text/plain": [
       "[0, 1, 3, 7]"
      ]
     },
     "execution_count": 119,
     "metadata": {},
     "output_type": "execute_result"
    }
   ],
   "source": [
    "class KthLargest:\n",
    "\n",
    "    def __init__(self, k: int, nums: List[int]):\n",
    "        self.Arr = []\n",
    "        self.k = k\n",
    "        for i in nums:\n",
    "            if len(self.Arr) >= k:\n",
    "                self.add(i)\n",
    "            else:\n",
    "                self.Arr.append(i)\n",
    "                if len(self.Arr) == k:\n",
    "                    self.Arr = sorted(self.Arr)\n",
    "        if len(self.Arr) < k:\n",
    "            self.Arr = sorted(self.Arr)\n",
    "    def add(self, val: int) -> int:\n",
    "        if not self.Arr:\n",
    "            self.Arr.append(val)\n",
    "            return self.Arr[0]\n",
    "        k = self.k\n",
    "        if val > self.Arr[-1]:\n",
    "            self.Arr.append(val)\n",
    "        else:\n",
    "            for i in range(len(self.Arr)):\n",
    "                if val < self.Arr[i]:\n",
    "                    break\n",
    "            self.Arr = self.Arr[:i] + [val] + self.Arr[i:]\n",
    "        if len(self.Arr) > k:\n",
    "            del self.Arr[0]\n",
    "        return self.Arr[0]\n",
    "        \n",
    "\n",
    "\n",
    "# Your KthLargest object will be instantiated and called as such:\n",
    "# obj = KthLargest(k, nums)\n",
    "# param_1 = obj.add(val)"
   ]
  },
  {
   "cell_type": "code",
   "execution_count": 122,
   "metadata": {},
   "outputs": [
    {
     "data": {
      "text/plain": [
       "[3, 6, 7, 10]"
      ]
     },
     "execution_count": 122,
     "metadata": {},
     "output_type": "execute_result"
    }
   ],
   "source": [
    "class KthLargest:\n",
    "\n",
    "    def __init__(self, k: int, nums: List[int]):\n",
    "        heapify(nums)\n",
    "        self.k = k\n",
    "        self.heapq = nums\n",
    "        while len(self.heapq) > k:\n",
    "            heappop(self.heapq)\n",
    "\n",
    "    def add(self, val: int) -> int:\n",
    "        if len(self.heapq) == self.k:\n",
    "            heappush(self.heapq,val)\n",
    "            heappop(self.heapq)\n",
    "            temp = heappop(self.heapq)\n",
    "            heappush(self.heapq,temp)\n",
    "            return temp\n",
    "        else:\n",
    "            heappush(self.heapq,val)\n",
    "            temp = heappop(self.heapq)\n",
    "            heappush(self.heapq,temp)\n",
    "            return temp\n",
    "                \n",
    "\n",
    "\n",
    "# Your KthLargest object will be instantiated and called as such:\n",
    "# obj = KthLargest(k, nums)\n",
    "# param_1 = obj.add(val)"
   ]
  },
  {
   "cell_type": "code",
   "execution_count": 124,
   "metadata": {},
   "outputs": [
    {
     "name": "stdout",
     "output_type": "stream",
     "text": [
      "1\n",
      "2\n",
      "3\n",
      "4\n",
      "5\n",
      "6\n",
      "7\n",
      "8\n",
      "9\n"
     ]
    }
   ],
   "source": [
    "for i in range(1,10):\n",
    "    print(i)"
   ]
  },
  {
   "cell_type": "code",
   "execution_count": null,
   "metadata": {},
   "outputs": [],
   "source": []
  },
  {
   "cell_type": "code",
   "execution_count": null,
   "metadata": {},
   "outputs": [],
   "source": []
  }
 ],
 "metadata": {
  "kernelspec": {
   "display_name": "Python 3",
   "language": "python",
   "name": "python3"
  },
  "language_info": {
   "codemirror_mode": {
    "name": "ipython",
    "version": 3
   },
   "file_extension": ".py",
   "mimetype": "text/x-python",
   "name": "python",
   "nbconvert_exporter": "python",
   "pygments_lexer": "ipython3",
   "version": "3.10.10"
  },
  "orig_nbformat": 4
 },
 "nbformat": 4,
 "nbformat_minor": 2
}

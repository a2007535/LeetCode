{
 "cells": [
  {
   "cell_type": "code",
   "execution_count": null,
   "metadata": {},
   "outputs": [],
   "source": [
    "a={1,2,3,4,5,6}\n",
    "1 in a"
   ]
  },
  {
   "cell_type": "code",
   "execution_count": null,
   "metadata": {},
   "outputs": [],
   "source": [
    "#1 不能用 問題出在 會從中斷點開始重新測試\n",
    "class Solution:\n",
    "    def matchReplacement(self, s: str, sub: str, mappings: List[List[str]]) -> bool:\n",
    "        charDict = {}\n",
    "        for i in mappings:\n",
    "            if i[1] not in charDict:\n",
    "                charDict[i[1]]={i[0]}\n",
    "            else:\n",
    "                charDict[i[1]].add(i[0])\n",
    "        subIndex=0\n",
    "        cnt = 0\n",
    "        for i in s:\n",
    "            if i == sub[subIndex]:\n",
    "                \n",
    "                subIndex +=1\n",
    "                if subIndex == len(sub):\n",
    "                    return True\n",
    "            elif i in charDict:\n",
    "                \n",
    "                if sub[subIndex] in charDict[i]:\n",
    "                    \n",
    "                    subIndex +=1\n",
    "                    if subIndex == len(sub):\n",
    "                        return True\n",
    "                else:\n",
    "                    subIndex=0\n",
    "            else:\n",
    "                subIndex = 0\n",
    "            if subIndex == 0:\n",
    "                if i == sub[subIndex]:\n",
    "                    subIndex = 1\n",
    "                elif i in charDict:\n",
    "                    if sub[subIndex] in charDict[i]:\n",
    "                        subIndex +=1\n",
    "                        if subIndex == len(sub):\n",
    "                            return True\n",
    "                    else:\n",
    "                        subIndex=0\n",
    "        return False"
   ]
  },
  {
   "cell_type": "code",
   "execution_count": null,
   "metadata": {},
   "outputs": [],
   "source": [
    "#改良後可用\n",
    "class Solution:\n",
    "    def matchReplacement(self, s: str, sub: str, mappings: List[List[str]]) -> bool:\n",
    "        h = collections.defaultdict(set)\n",
    "        for a,b in mappings:\n",
    "            h[a].add(b)\n",
    "        subLenght = len(sub)\n",
    "        findSub = False\n",
    "        for i in range(len(s)-len(sub)+1):\n",
    "            for chr in range(len(sub)):\n",
    "                if s[i+chr] == sub[chr]:\n",
    "                    pass\n",
    "                elif s[i+chr] in charDict:\n",
    "                    if sub[chr] in charDict[s[i+chr]]:\n",
    "                        pass\n",
    "                    else:\n",
    "                        break\n",
    "                else:\n",
    "                    break\n",
    "            if chr == len(sub)-1:\n",
    "                return True\n",
    "                \n",
    "        return False"
   ]
  },
  {
   "cell_type": "code",
   "execution_count": null,
   "metadata": {},
   "outputs": [],
   "source": [
    "#別人的版本\n",
    "class Solution:\n",
    "    def matchReplacement(self, s: str, sub: str, mappings: List[List[str]]) -> bool:\n",
    "        h = collections.defaultdict(set)\n",
    "        for a,b in mappings:\n",
    "            h[a].add(b)\n",
    "        l = len(sub)\n",
    "        for i in range(len(s)-len(sub)+1):\n",
    "            flag =True\n",
    "            for s_val, sub_val in zip(s[i:i+l], sub):\n",
    "                if s_val==sub_val or (s_val in h[sub_val]): continue\n",
    "                else:\n",
    "                    flag = False\n",
    "                    break\n",
    "            if flag: \n",
    "                return True\n",
    "        return False\n"
   ]
  },
  {
   "cell_type": "code",
   "execution_count": null,
   "metadata": {},
   "outputs": [],
   "source": []
  }
 ],
 "metadata": {
  "kernelspec": {
   "display_name": "Python 3.8.9 64-bit",
   "language": "python",
   "name": "python3"
  },
  "language_info": {
   "codemirror_mode": {
    "name": "ipython",
    "version": 3
   },
   "file_extension": ".py",
   "mimetype": "text/x-python",
   "name": "python",
   "nbconvert_exporter": "python",
   "pygments_lexer": "ipython3",
   "version": "3.8.9"
  },
  "orig_nbformat": 4,
  "vscode": {
   "interpreter": {
    "hash": "31f2aee4e71d21fbe5cf8b01ff0e069b9275f58929596ceb00d14d90e3e16cd6"
   }
  }
 },
 "nbformat": 4,
 "nbformat_minor": 2
}

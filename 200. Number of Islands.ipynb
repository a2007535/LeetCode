{
 "cells": [
  {
   "cell_type": "code",
   "execution_count": null,
   "metadata": {},
   "outputs": [],
   "source": [
    "class Solution:\n",
    "    def numIslands(self, grid: List[List[str]]) -> int:\n",
    "        def dfs(grid,y,x):\n",
    "            if x<0 or y<0 or x==len(grid[0]) or y == len(grid):\n",
    "                return\n",
    "            if grid[y][x]==\"0\":\n",
    "                return\n",
    "            else:\n",
    "                grid[y][x]=\"0\"\n",
    "                dfs(grid,y-1,x)\n",
    "                dfs(grid,y,x-1)\n",
    "                dfs(grid,y+1,x)\n",
    "                dfs(grid,y,x+1)\n",
    "        ans = 0\n",
    "        for y in range(len(grid)):\n",
    "            for x in range(len(grid[0])):\n",
    "                if grid[y][x]==\"1\":\n",
    "                    ans +=1\n",
    "                    dfs(grid,y,x)\n",
    "        return ans"
   ]
  }
 ],
 "metadata": {
  "language_info": {
   "name": "python"
  },
  "orig_nbformat": 4
 },
 "nbformat": 4,
 "nbformat_minor": 2
}

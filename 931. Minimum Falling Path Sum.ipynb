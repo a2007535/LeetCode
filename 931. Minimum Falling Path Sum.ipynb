{
 "cells": [
  {
   "cell_type": "code",
   "execution_count": null,
   "metadata": {},
   "outputs": [],
   "source": [
    "class Solution:\n",
    "    def minFallingPathSum(self, matrix: List[List[int]]) -> int:\n",
    "        for y in range(1,len(matrix)):\n",
    "            for x in range(len(matrix[0])):\n",
    "                tmp = [inf,inf,inf]\n",
    "                for i in range(x-1,x+2):\n",
    "                    if i == -1 or i == len(matrix[0]):\n",
    "                        continue\n",
    "                    tmp[i-x+1] = matrix[y-1][i]\n",
    "                matrix[y][x] += min(tmp)\n",
    "        return min(matrix[-1])"
   ]
  }
 ],
 "metadata": {
  "language_info": {
   "name": "python"
  },
  "orig_nbformat": 4
 },
 "nbformat": 4,
 "nbformat_minor": 2
}

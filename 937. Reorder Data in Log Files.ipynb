{
 "cells": [
  {
   "cell_type": "code",
   "execution_count": null,
   "metadata": {},
   "outputs": [],
   "source": [
    "class Solution:\n",
    "    def reorderLogFiles(self, logs: List[str]) -> List[str]:\n",
    "        digitlogs = []\n",
    "        letterlogs = []\n",
    "        for i in logs:\n",
    "            i = i.split(\" \")\n",
    "            if i[1].isdigit():\n",
    "                digitlogs.append(\" \".join(i))\n",
    "            else:\n",
    "                letterlogs.append([i[0],\" \".join(i[1:])])\n",
    "        newletterlogs = sorted([[b,a]for a,b in letterlogs])\n",
    "        ans = []\n",
    "        for i in newletterlogs:\n",
    "            ans.append(i[1]+\" \"+i[0])\n",
    "        # print(ans+digitlogs)\n",
    "        return ans + digitlogs"
   ]
  }
 ],
 "metadata": {
  "language_info": {
   "name": "python"
  },
  "orig_nbformat": 4
 },
 "nbformat": 4,
 "nbformat_minor": 2
}

{
 "cells": [
  {
   "cell_type": "code",
   "execution_count": null,
   "metadata": {},
   "outputs": [],
   "source": [
    "class Solution:\n",
    "    def maxVowels(self, s: str, k: int) -> int:\n",
    "        vowel = {\"a\",\"e\",\"i\",\"o\",\"u\"}\n",
    "        count = 0\n",
    "        ans = 0\n",
    "        for i in s[:k]:\n",
    "            if i in vowel:\n",
    "                count +=1\n",
    "        ans = count\n",
    "        for i in range(k,len(s)):\n",
    "            if s[i] in vowel:\n",
    "                count +=1\n",
    "            if s[i-k] in vowel:\n",
    "                count -=1\n",
    "            ans = max(ans,count)\n",
    "        return ans"
   ]
  }
 ],
 "metadata": {
  "language_info": {
   "name": "python"
  },
  "orig_nbformat": 4
 },
 "nbformat": 4,
 "nbformat_minor": 2
}

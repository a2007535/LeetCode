{
 "cells": [
  {
   "cell_type": "code",
   "execution_count": null,
   "metadata": {},
   "outputs": [],
   "source": [
    "class Solution:\n",
    "    def matrixSum(self, nums: List[List[int]]) -> int:\n",
    "        numdict = {i:n for i,n in enumerate(sorted(nums[0],reverse=True))}\n",
    "        # print(numdict)\n",
    "        for i in nums[1:]:\n",
    "            i.sort(reverse=True)\n",
    "            for j in range(len(i)):\n",
    "                if i[j] > numdict[j]:\n",
    "                    numdict[j]=i[j]\n",
    "        # print(numdict)\n",
    "        return sum(numdict.values())"
   ]
  }
 ],
 "metadata": {
  "language_info": {
   "name": "python"
  },
  "orig_nbformat": 4
 },
 "nbformat": 4,
 "nbformat_minor": 2
}

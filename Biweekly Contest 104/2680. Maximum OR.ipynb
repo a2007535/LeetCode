{
 "cells": [
  {
   "cell_type": "code",
   "execution_count": null,
   "metadata": {},
   "outputs": [],
   "source": [
    "class Solution:\n",
    "    def maximumOr(self, nums: List[int], k: int) -> int:\n",
    "        dp = [i<<k for i in nums]\n",
    "        tmp = 0\n",
    "        for i in range(len(nums)):\n",
    "            dp[i]=dp[i]|tmp\n",
    "            tmp = tmp | nums[i]\n",
    "        tmp = 0\n",
    "        for i in range(len(nums)-1,-1,-1):\n",
    "            dp[i]=dp[i]|tmp\n",
    "            tmp = tmp | nums[i]\n",
    "        # print(dp)\n",
    "        return max(dp)"
   ]
  }
 ],
 "metadata": {
  "language_info": {
   "name": "python"
  },
  "orig_nbformat": 4
 },
 "nbformat": 4,
 "nbformat_minor": 2
}

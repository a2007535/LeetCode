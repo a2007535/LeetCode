{
 "cells": [
  {
   "cell_type": "code",
   "execution_count": null,
   "metadata": {},
   "outputs": [],
   "source": [
    "# Definition for a binary tree node.\n",
    "# class TreeNode:\n",
    "#     def __init__(self, val=0, left=None, right=None):\n",
    "#         self.val = val\n",
    "#         self.left = left\n",
    "#         self.right = right\n",
    "class Solution:\n",
    "    def kthSmallest(self, root: Optional[TreeNode], k: int) -> int:\n",
    "        self.ansArray=[]\n",
    "        self.DFS(root)\n",
    "        return self.ansArray[k-1]\n",
    "    def DFS(self,root):\n",
    "        if root:\n",
    "            self.DFS(root.left)\n",
    "            self.ansArray.append(root.val)\n",
    "            self.DFS(root.right)\n",
    "        "
   ]
  },
  {
   "cell_type": "code",
   "execution_count": null,
   "metadata": {},
   "outputs": [],
   "source": [
    "# Definition for a binary tree node.\n",
    "# class TreeNode:\n",
    "#     def __init__(self, val=0, left=None, right=None):\n",
    "#         self.val = val\n",
    "#         self.left = left\n",
    "#         self.right = right\n",
    "class Solution:\n",
    "    def kthSmallest(self, root: Optional[TreeNode], k: int) -> int:\n",
    "        self.ans = 0\n",
    "        self.curr = 1\n",
    "        self.find = False\n",
    "        def helper(root,k):\n",
    "            if not root:\n",
    "                return\n",
    "            helper(root.left,k)\n",
    "            if self.find:\n",
    "                return\n",
    "            if self.curr == k:\n",
    "                self.ans = root.val\n",
    "                self.find = True\n",
    "                return\n",
    "            else:\n",
    "                self.curr += 1\n",
    "            helper(root.right,k)\n",
    "        helper(root,k)\n",
    "        return self.ans"
   ]
  }
 ],
 "metadata": {
  "language_info": {
   "name": "python"
  },
  "orig_nbformat": 4
 },
 "nbformat": 4,
 "nbformat_minor": 2
}

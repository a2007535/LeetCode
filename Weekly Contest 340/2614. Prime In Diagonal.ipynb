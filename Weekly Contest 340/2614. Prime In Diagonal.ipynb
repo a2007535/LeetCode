{
 "cells": [
  {
   "cell_type": "code",
   "execution_count": null,
   "metadata": {},
   "outputs": [],
   "source": [
    "class Solution:\n",
    "    def diagonalPrime(self, nums: List[List[int]]) -> int:\n",
    "        res = []\n",
    "        def check_prime(x):\n",
    "            for n in range(2, round(sqrt(x))+1):\n",
    "                if x % n == 0:\n",
    "                    return False\n",
    "            return True\n",
    "        for i in range(len(nums)):\n",
    "            if nums[i][i] != 1:\n",
    "                if check_prime(nums[i][i]):\n",
    "                    res.append(nums[i][i])\n",
    "            if nums[len(nums)-i-1][i] != 1:\n",
    "                if check_prime(nums[len(nums)-i-1][i]):\n",
    "                    res.append(nums[len(nums)-i-1][i])\n",
    "        return max(res) if res else 0"
   ]
  }
 ],
 "metadata": {
  "language_info": {
   "name": "python"
  },
  "orig_nbformat": 4
 },
 "nbformat": 4,
 "nbformat_minor": 2
}

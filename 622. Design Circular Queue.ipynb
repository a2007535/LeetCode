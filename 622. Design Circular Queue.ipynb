{
 "cells": [
  {
   "cell_type": "code",
   "execution_count": 1,
   "metadata": {},
   "outputs": [],
   "source": [
    "class MyCircularQueue:\n",
    "\n",
    "    def __init__(self, k: int):\n",
    "        self.length = k\n",
    "        self.Headindex = 0\n",
    "        self.Tailindex = 0\n",
    "        self.Queue = [None]*k\n",
    "        \n",
    "    def enQueue(self, value: int) -> bool:\n",
    "        if self.isFull():\n",
    "            return False\n",
    "        if self.isEmpty():\n",
    "            self.Queue[self.Headindex] = value\n",
    "            return True\n",
    "        else:\n",
    "            self.Tailindex = (self.Tailindex +1) % self.length\n",
    "            self.Queue[self.Tailindex] = value\n",
    "            return True\n",
    "    def deQueue(self) -> bool:\n",
    "        if self.Queue[self.Headindex] == None:\n",
    "            return False\n",
    "        self.Queue[self.Headindex] = None\n",
    "        self.Headindex = (self.Headindex +1) % self.length\n",
    "        if self.isEmpty():\n",
    "            self.Headindex = 0\n",
    "            self.Tailindex = 0\n",
    "        return True\n",
    "\n",
    "    def Front(self) -> int:\n",
    "        if not self.isEmpty():\n",
    "            return self.Queue[self.Headindex]\n",
    "        else:\n",
    "            return -1\n",
    "    def Rear(self) -> int:\n",
    "        if not self.isEmpty():\n",
    "            return self.Queue[self.Tailindex]\n",
    "        else:\n",
    "            return -1\n",
    "    def isEmpty(self) -> bool:\n",
    "        if self.Queue[self.Headindex] == None:\n",
    "            return True\n",
    "        else:\n",
    "            return False\n",
    "            \n",
    "\n",
    "    def isFull(self) -> bool:\n",
    "        if self.length == 1 and self.Queue[self.Headindex] != None:\n",
    "            return True\n",
    "        if (self.Headindex - self.Tailindex) % self.length == 1:\n",
    "            return True\n",
    "        else:\n",
    "            return False\n",
    "\n",
    "\n",
    "# Your MyCircularQueue object will be instantiated and called as such:\n",
    "# obj = MyCircularQueue(k)\n",
    "# param_1 = obj.enQueue(value)\n",
    "# param_2 = obj.deQueue()\n",
    "# param_3 = obj.Front()\n",
    "# param_4 = obj.Rear()\n",
    "# param_5 = obj.isEmpty()\n",
    "# param_6 = obj.isFull()"
   ]
  },
  {
   "cell_type": "code",
   "execution_count": 2,
   "metadata": {},
   "outputs": [
    {
     "data": {
      "text/plain": [
       "[None, None, None]"
      ]
     },
     "execution_count": 2,
     "metadata": {},
     "output_type": "execute_result"
    }
   ],
   "source": [
    "Queue"
   ]
  },
  {
   "cell_type": "code",
   "execution_count": 3,
   "metadata": {},
   "outputs": [
    {
     "data": {
      "text/plain": [
       "2"
      ]
     },
     "execution_count": 3,
     "metadata": {},
     "output_type": "execute_result"
    }
   ],
   "source": [
    "-1%3"
   ]
  },
  {
   "cell_type": "code",
   "execution_count": null,
   "metadata": {},
   "outputs": [],
   "source": []
  }
 ],
 "metadata": {
  "kernelspec": {
   "display_name": "Python 3.8.9 64-bit",
   "language": "python",
   "name": "python3"
  },
  "language_info": {
   "codemirror_mode": {
    "name": "ipython",
    "version": 3
   },
   "file_extension": ".py",
   "mimetype": "text/x-python",
   "name": "python",
   "nbconvert_exporter": "python",
   "pygments_lexer": "ipython3",
   "version": "3.8.9"
  },
  "orig_nbformat": 4,
  "vscode": {
   "interpreter": {
    "hash": "31f2aee4e71d21fbe5cf8b01ff0e069b9275f58929596ceb00d14d90e3e16cd6"
   }
  }
 },
 "nbformat": 4,
 "nbformat_minor": 2
}

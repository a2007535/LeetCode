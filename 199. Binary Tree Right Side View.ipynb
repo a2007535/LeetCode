{
 "cells": [
  {
   "cell_type": "code",
   "execution_count": null,
   "metadata": {},
   "outputs": [],
   "source": [
    "# Definition for a binary tree node.\n",
    "# class TreeNode:\n",
    "#     def __init__(self, val=0, left=None, right=None):\n",
    "#         self.val = val\n",
    "#         self.left = left\n",
    "#         self.right = right\n",
    "class Solution:\n",
    "    def rightSideView(self, root: Optional[TreeNode]) -> List[int]:\n",
    "        q = []\n",
    "        ans = []\n",
    "        if root:\n",
    "            q.append(root)\n",
    "        while q:\n",
    "            res = []\n",
    "            for i in range(len(q)):\n",
    "                temp = q.pop(0)\n",
    "                if temp.left:\n",
    "                    q.append(temp.left)\n",
    "                if temp.right:\n",
    "                    q.append(temp.right)\n",
    "                res.append(temp.val)\n",
    "            ans.append(res[-1])\n",
    "        return ans"
   ]
  }
 ],
 "metadata": {
  "language_info": {
   "name": "python"
  },
  "orig_nbformat": 4
 },
 "nbformat": 4,
 "nbformat_minor": 2
}

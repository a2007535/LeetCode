{
 "cells": [
  {
   "cell_type": "code",
   "execution_count": null,
   "metadata": {},
   "outputs": [],
   "source": [
    "class Solution:\n",
    "    def asteroidCollision(self, asteroids: List[int]) -> List[int]:\n",
    "        stack = []\n",
    "        for i in asteroids:\n",
    "            if i <0:\n",
    "                Notexplode = True\n",
    "                while stack:\n",
    "                    if stack[-1]>0 and stack[-1]<-i:\n",
    "                        stack.pop()\n",
    "                    elif stack[-1]>0 and stack[-1]>-i:\n",
    "                        Notexplode = False\n",
    "                        break\n",
    "                    elif stack[-1]==-i:\n",
    "                        stack.pop()\n",
    "                        Notexplode = False\n",
    "                        break\n",
    "                    else:\n",
    "                        break\n",
    "                if Notexplode:\n",
    "                    stack.append(i)\n",
    "            else:\n",
    "                stack.append(i)\n",
    "        return stack"
   ]
  }
 ],
 "metadata": {
  "language_info": {
   "name": "python"
  },
  "orig_nbformat": 4
 },
 "nbformat": 4,
 "nbformat_minor": 2
}

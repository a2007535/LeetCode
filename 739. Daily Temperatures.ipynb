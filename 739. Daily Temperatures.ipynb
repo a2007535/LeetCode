{
 "cells": [
  {
   "cell_type": "code",
   "execution_count": null,
   "metadata": {},
   "outputs": [],
   "source": [
    "class Solution:\n",
    "    def dailyTemperatures(self, temperatures: List[int]) -> List[int]:\n",
    "        stack = []\n",
    "        ans = [0]*len(temperatures)\n",
    "        for i,v in enumerate(temperatures):\n",
    "            while stack and stack[-1][1] < v:\n",
    "                tempi, tempv = stack.pop()\n",
    "                ans[tempi] = i-tempi\n",
    "            stack.append([i,v])\n",
    "        return ans"
   ]
  }
 ],
 "metadata": {
  "language_info": {
   "name": "python"
  },
  "orig_nbformat": 4
 },
 "nbformat": 4,
 "nbformat_minor": 2
}

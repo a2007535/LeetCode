{
 "cells": [
  {
   "cell_type": "code",
   "execution_count": null,
   "metadata": {},
   "outputs": [],
   "source": [
    "class Solution:\n",
    "    def deleteAndEarn(self, nums: List[int]) -> int:\n",
    "        freq = [0] * (max(nums)+1)\n",
    "        for i in nums:\n",
    "            freq[i]+=i\n",
    "        dp = [0] * len(freq)\n",
    "        dp[0] = freq[0]\n",
    "        dp[1] = freq[1]\n",
    "        for i in range(2,max(nums)+1):\n",
    "            dp[i]=max(dp[i-1],dp[i-2]+freq[i])\n",
    "        return dp[-1]"
   ]
  }
 ],
 "metadata": {
  "language_info": {
   "name": "python"
  },
  "orig_nbformat": 4
 },
 "nbformat": 4,
 "nbformat_minor": 2
}

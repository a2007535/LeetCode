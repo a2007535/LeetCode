{
 "cells": [
  {
   "cell_type": "code",
   "execution_count": null,
   "metadata": {},
   "outputs": [],
   "source": [
    "class Solution: \n",
    "    def lengthOfLIS(self, nums: List[int]) -> int:\n",
    "        dp = [1]*len(nums)\n",
    "        for i in range(len(nums)):\n",
    "            for j in range(i):\n",
    "                if nums[i]>nums[j]:\n",
    "                    dp[i]=max(dp[i],dp[j]+1)\n",
    "        # print(dp)\n",
    "        return max(dp)"
   ]
  }
 ],
 "metadata": {
  "language_info": {
   "name": "python"
  },
  "orig_nbformat": 4
 },
 "nbformat": 4,
 "nbformat_minor": 2
}

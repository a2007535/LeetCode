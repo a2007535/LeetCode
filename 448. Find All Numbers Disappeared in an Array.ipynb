{
 "cells": [
  {
   "cell_type": "code",
   "execution_count": null,
   "metadata": {},
   "outputs": [],
   "source": [
    "class Solution:\n",
    "    def findDisappearedNumbers(self, nums: List[int]) -> List[int]:\n",
    "        n = len(nums)\n",
    "        nums = set(nums)\n",
    "        nums = list(nums)\n",
    "        heapify(list(nums))\n",
    "        i = 1\n",
    "        temp = heappop(nums)\n",
    "        ans = []\n",
    "        while i != n+1:\n",
    "            # print(i,temp)\n",
    "            if i == temp:\n",
    "                i+=1\n",
    "                if nums:\n",
    "                    temp = heappop(nums)\n",
    "            else:\n",
    "                ans.append(i)\n",
    "                i+=1\n",
    "        return ans"
   ]
  }
 ],
 "metadata": {
  "language_info": {
   "name": "python"
  },
  "orig_nbformat": 4
 },
 "nbformat": 4,
 "nbformat_minor": 2
}

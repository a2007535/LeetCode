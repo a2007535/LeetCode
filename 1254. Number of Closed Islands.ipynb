{
 "cells": [
  {
   "cell_type": "code",
   "execution_count": null,
   "metadata": {},
   "outputs": [],
   "source": [
    "class Solution:\n",
    "    def closedIsland(self, grid: List[List[int]]) -> int:\n",
    "        row, column = len(grid), len(grid[0])\n",
    "        visited = [[False]* column for _ in range(row)]\n",
    "        ans = 0\n",
    "        def helper(x,y):\n",
    "            if x<0 or x>=row or y<0 or y>=column:\n",
    "                return False\n",
    "            if visited[x][y]:\n",
    "                return True\n",
    "            visited[x][y] = True\n",
    "            if grid[x][y] == 1:\n",
    "                return True\n",
    "            isclose = True\n",
    "            isclose &= helper(x-1,y)\n",
    "            isclose &= helper(x+1,y)\n",
    "            isclose &= helper(x,y+1)\n",
    "            isclose &= helper(x,y-1)\n",
    "            return isclose\n",
    "        for x in range(1,row-1):\n",
    "            for y in range(1,column-1):\n",
    "                if grid[x][y] == 0 and not visited[x][y]:\n",
    "                    isclose = helper(x,y)\n",
    "                    if isclose:\n",
    "                        ans +=1\n",
    "        return ans\n",
    "                "
   ]
  }
 ],
 "metadata": {
  "language_info": {
   "name": "python"
  },
  "orig_nbformat": 4
 },
 "nbformat": 4,
 "nbformat_minor": 2
}

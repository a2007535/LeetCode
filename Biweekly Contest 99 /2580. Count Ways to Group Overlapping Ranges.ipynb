{
 "cells": [
  {
   "cell_type": "code",
   "execution_count": null,
   "metadata": {},
   "outputs": [],
   "source": [
    "class Solution:\n",
    "    def countWays(self, ranges: List[List[int]]) -> int:\n",
    "        ranges.sort()\n",
    "        ans = 1\n",
    "        tempstart,tempend = ranges[0]\n",
    "        for start,end in ranges[1:]:\n",
    "            if start<=tempend:\n",
    "                if end>tempend:\n",
    "                    tempend = end\n",
    "                else:\n",
    "                    continue\n",
    "            else:\n",
    "                tempstart,tempend = start,end\n",
    "                ans += 1\n",
    "        # print(ans)\n",
    "        return 2**ans % 1000000007"
   ]
  }
 ],
 "metadata": {
  "language_info": {
   "name": "python"
  },
  "orig_nbformat": 4
 },
 "nbformat": 4,
 "nbformat_minor": 2
}

{
 "cells": [
  {
   "cell_type": "code",
   "execution_count": null,
   "metadata": {},
   "outputs": [],
   "source": [
    "class Solution:\n",
    "    def maximizeGreatness(self, nums: List[int]) -> int:\n",
    "        # 1 1 1 2 3 3 5\n",
    "        # 2 3 3 5 1 1 1\n",
    "        nums = sorted(nums)\n",
    "        up = 0\n",
    "        down = 1\n",
    "        while down != len(nums):\n",
    "            if nums[down] > nums[up]:\n",
    "                down+=1\n",
    "                up+=1\n",
    "            else:\n",
    "                down +=1\n",
    "        return up"
   ]
  }
 ],
 "metadata": {
  "language_info": {
   "name": "python"
  },
  "orig_nbformat": 4
 },
 "nbformat": 4,
 "nbformat_minor": 2
}

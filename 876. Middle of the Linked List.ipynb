{
 "cells": [
  {
   "cell_type": "code",
   "execution_count": null,
   "metadata": {},
   "outputs": [],
   "source": [
    "# Definition for singly-linked list.\n",
    "# class ListNode:\n",
    "#     def __init__(self, val=0, next=None):\n",
    "#         self.val = val\n",
    "#         self.next = next\n",
    "class Solution:\n",
    "    def middleNode(self, head: Optional[ListNode]) -> Optional[ListNode]:\n",
    "        if head.next == None:\n",
    "            return head\n",
    "        if head.next.next == None:\n",
    "            return head.next\n",
    "        self.head=head\n",
    "        head=head.next.next\n",
    "        while head != None:\n",
    "            self.head=self.head.next\n",
    "            if head.next:\n",
    "                if not head.next.next:\n",
    "                    self.head=self.head.next\n",
    "                head=head.next.next\n",
    "            else:\n",
    "                head=head.next\n",
    "        return self.head"
   ]
  }
 ],
 "metadata": {
  "kernelspec": {
   "display_name": "Python 3.8.9 64-bit",
   "language": "python",
   "name": "python3"
  },
  "language_info": {
   "name": "python",
   "version": "3.8.9"
  },
  "orig_nbformat": 4,
  "vscode": {
   "interpreter": {
    "hash": "31f2aee4e71d21fbe5cf8b01ff0e069b9275f58929596ceb00d14d90e3e16cd6"
   }
  }
 },
 "nbformat": 4,
 "nbformat_minor": 2
}

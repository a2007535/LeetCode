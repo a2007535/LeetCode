{
 "cells": [
  {
   "cell_type": "code",
   "execution_count": null,
   "metadata": {},
   "outputs": [],
   "source": [
    "class SmallestInfiniteSet:\n",
    "    def __init__(self):\n",
    "        self.exist = set(list(range(1,1001)))\n",
    "        self.heapq = list(range(1,1001))\n",
    "        heapify(self.heapq)\n",
    "        \n",
    "    def popSmallest(self) -> int:\n",
    "        temp = heappop(self.heapq)\n",
    "        self.exist.remove(temp)\n",
    "        return temp\n",
    "    def addBack(self, num: int) -> None:\n",
    "        if num in self.exist:\n",
    "            return\n",
    "        else:\n",
    "            self.exist.add(num)\n",
    "            heappush(self.heapq,num)\n",
    "# Your SmallestInfiniteSet object will be instantiated and called as such:\n",
    "# obj = SmallestInfiniteSet()\n",
    "# param_1 = obj.popSmallest()\n",
    "# obj.addBack(num)"
   ]
  },
  {
   "cell_type": "code",
   "execution_count": null,
   "metadata": {},
   "outputs": [],
   "source": []
  }
 ],
 "metadata": {
  "language_info": {
   "name": "python"
  },
  "orig_nbformat": 4
 },
 "nbformat": 4,
 "nbformat_minor": 2
}

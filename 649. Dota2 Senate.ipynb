{
 "cells": [
  {
   "cell_type": "code",
   "execution_count": null,
   "metadata": {},
   "outputs": [],
   "source": [
    "class Solution:\n",
    "    def predictPartyVictory(self, senate: str) -> str:\n",
    "        q = deque(senate)\n",
    "        counter = Counter(senate)\n",
    "        tmpq = deque()\n",
    "        tmpmap = {\"R\":\"D\",\"D\":\"R\"}\n",
    "        while(counter[\"R\"]!= 0 and counter[\"D\"]!=0):\n",
    "            tmp = q.popleft()\n",
    "            if not tmpq:\n",
    "                q.append(tmp)\n",
    "                tmpq.append(tmpmap[tmp])\n",
    "                continue\n",
    "            else:\n",
    "                if tmp == tmpq[0]:\n",
    "                    tmpq.popleft()\n",
    "                    counter[tmp]-=1\n",
    "                else:\n",
    "                    tmpq.append(tmpmap[tmp])\n",
    "                    q.append(tmp)\n",
    "        return \"Dire\" if counter[\"D\"]!=0 else \"Radiant\""
   ]
  }
 ],
 "metadata": {
  "language_info": {
   "name": "python"
  },
  "orig_nbformat": 4
 },
 "nbformat": 4,
 "nbformat_minor": 2
}

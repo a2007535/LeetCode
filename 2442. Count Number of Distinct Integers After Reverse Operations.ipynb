{
 "cells": [
  {
   "cell_type": "code",
   "execution_count": null,
   "metadata": {},
   "outputs": [],
   "source": [
    "class Solution:\n",
    "    def countDistinctIntegers(self, nums: List[int]) -> int:\n",
    "        newList = list(nums)\n",
    "        for i in nums:\n",
    "            temp = int(''.join(list(str(i))[::-1]))\n",
    "            newList.append(temp)\n",
    "        return len(set(newList))"
   ]
  }
 ],
 "metadata": {
  "language_info": {
   "name": "python"
  },
  "orig_nbformat": 4
 },
 "nbformat": 4,
 "nbformat_minor": 2
}

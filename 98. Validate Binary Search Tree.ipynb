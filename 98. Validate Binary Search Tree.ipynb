{
 "cells": [
  {
   "cell_type": "code",
   "execution_count": null,
   "metadata": {},
   "outputs": [],
   "source": [
    "# Definition for a binary tree node.\n",
    "# class TreeNode:\n",
    "#     def __init__(self, val=0, left=None, right=None):\n",
    "#         self.val = val\n",
    "#         self.left = left\n",
    "#         self.right = right\n",
    "class Solution:\n",
    "    \n",
    "    def isValidBST(self, root: Optional[TreeNode]) -> bool:\n",
    "        self.ans=True\n",
    "        self.DFS(root)\n",
    "        return self.ans\n",
    "    def DFS(self,root):\n",
    "        if not self.ans:\n",
    "            return [0,0]\n",
    "        if not root.left and not root.right:\n",
    "            return [root.val,root.val]\n",
    "        if root.left and not root.right:\n",
    "            if root.left.val>=root.val:\n",
    "                self.ans=False\n",
    "                return [0,0]\n",
    "            low,high=self.DFS(root.left)\n",
    "            if high >= root.val:\n",
    "                self.ans=False \n",
    "                return [0,0]\n",
    "            else:\n",
    "                return [low,root.val]\n",
    "        if not root.left and root.right:\n",
    "            if root.right.val <= root.val:\n",
    "                self.ans=False\n",
    "                return [0,0]\n",
    "            low,high=self.DFS(root.right)\n",
    "            if low <= root.val:\n",
    "                self.ans=False \n",
    "                return [0,0]\n",
    "            else:\n",
    "                return [root.val,high]\n",
    "        if root.left and root.right:\n",
    "            if root.left.val >= root.val or root.right.val <= root.val:\n",
    "                self.ans=False\n",
    "                return [0,0]\n",
    "            [llow,lhigh]=self.DFS(root.left)\n",
    "            [rlow,rhigh]=self.DFS(root.right)\n",
    "            if lhigh >=root.val or rlow <= root.val:\n",
    "                self.ans=False\n",
    "                return [0,0]\n",
    "            else:\n",
    "                return [llow,rhigh]\n",
    "        \n",
    "            \n"
   ]
  },
  {
   "cell_type": "code",
   "execution_count": null,
   "metadata": {},
   "outputs": [],
   "source": [
    "# Definition for a binary tree node.\n",
    "# class TreeNode:\n",
    "#     def __init__(self, val=0, left=None, right=None):\n",
    "#         self.val = val\n",
    "#         self.left = left\n",
    "#         self.right = right\n",
    "class Solution:\n",
    "    \n",
    "    def isValidBST(self, root: Optional[TreeNode]) -> bool:\n",
    "        return self.DFS(root,inf,-inf)\n",
    "    def DFS(self,root,high,low):\n",
    "        if not root:\n",
    "            return True\n",
    "        if root.val<high and root.val >low:\n",
    "            return self.DFS(root.left,root.val,low) and self.DFS(root.right,high,root.val)\n",
    "        else:\n",
    "            return False\n",
    "            \n"
   ]
  }
 ],
 "metadata": {
  "kernelspec": {
   "display_name": "Python 3",
   "language": "python",
   "name": "python3"
  },
  "language_info": {
   "name": "python",
   "version": "3.9.6 (default, Sep 13 2022, 22:03:16) \n[Clang 14.0.0 (clang-1400.0.29.102)]"
  },
  "orig_nbformat": 4,
  "vscode": {
   "interpreter": {
    "hash": "31f2aee4e71d21fbe5cf8b01ff0e069b9275f58929596ceb00d14d90e3e16cd6"
   }
  }
 },
 "nbformat": 4,
 "nbformat_minor": 2
}

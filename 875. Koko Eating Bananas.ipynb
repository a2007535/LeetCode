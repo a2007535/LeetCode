{
 "cells": [
  {
   "cell_type": "code",
   "execution_count": null,
   "metadata": {},
   "outputs": [],
   "source": [
    "class Solution:\n",
    "    def minEatingSpeed(self, piles: List[int], h: int) -> int:\n",
    "        left = 1\n",
    "        right = max(piles)\n",
    "        ans = right\n",
    "        while right > left:\n",
    "            mid = (right+left)//2\n",
    "            times = 0\n",
    "            for b in piles:\n",
    "                times += ceil(b/mid)\n",
    "            if times <= h:\n",
    "                ans = min(ans,mid)\n",
    "                right = mid\n",
    "            else:\n",
    "                left = mid+1\n",
    "        return ans"
   ]
  }
 ],
 "metadata": {
  "language_info": {
   "name": "python"
  },
  "orig_nbformat": 4
 },
 "nbformat": 4,
 "nbformat_minor": 2
}

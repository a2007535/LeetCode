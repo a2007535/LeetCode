{
 "cells": [
  {
   "cell_type": "code",
   "execution_count": null,
   "metadata": {},
   "outputs": [],
   "source": [
    "class Solution:\n",
    "    def longestConsecutive(self, nums: List[int]) -> int:\n",
    "        checkSet=set()\n",
    "        numsSet=set(nums)\n",
    "        ans=0\n",
    "        for i in nums:\n",
    "            if i in checkSet:\n",
    "                continue\n",
    "            checkSet.add(i)\n",
    "            res=1\n",
    "            temp=i\n",
    "            while temp+1 in numsSet:\n",
    "                checkSet.add(temp+1)\n",
    "                res+=1\n",
    "                temp+=1\n",
    "            temp=i\n",
    "            while temp-1 in numsSet:\n",
    "                checkSet.add(temp-1)\n",
    "                res+=1\n",
    "                temp-=1\n",
    "            ans=max(res,ans)\n",
    "            \n",
    "        return ans\n"
   ]
  },
  {
   "cell_type": "code",
   "execution_count": null,
   "metadata": {},
   "outputs": [],
   "source": []
  }
 ],
 "metadata": {
  "language_info": {
   "name": "python"
  },
  "orig_nbformat": 4
 },
 "nbformat": 4,
 "nbformat_minor": 2
}

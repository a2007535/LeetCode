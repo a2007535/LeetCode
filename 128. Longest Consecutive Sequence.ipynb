{
 "cells": [
  {
   "cell_type": "code",
   "execution_count": null,
   "metadata": {},
   "outputs": [],
   "source": [
    "class Solution:\n",
    "    def longestConsecutive(self, nums: List[int]) -> int:\n",
    "        checkSet=set()\n",
    "        numsSet=set(nums)\n",
    "        ans=0\n",
    "        for i in nums:\n",
    "            if i in checkSet:\n",
    "                continue\n",
    "            checkSet.add(i)\n",
    "            res=1\n",
    "            temp=i\n",
    "            while temp+1 in numsSet:\n",
    "                checkSet.add(temp+1)\n",
    "                res+=1\n",
    "                temp+=1\n",
    "            temp=i\n",
    "            while temp-1 in numsSet:\n",
    "                checkSet.add(temp-1)\n",
    "                res+=1\n",
    "                temp-=1\n",
    "            ans=max(res,ans)\n",
    "            \n",
    "        return ans\n"
   ]
  },
  {
   "cell_type": "code",
   "execution_count": 11,
   "metadata": {},
   "outputs": [
    {
     "data": {
      "text/plain": [
       "9"
      ]
     },
     "execution_count": 11,
     "metadata": {},
     "output_type": "execute_result"
    }
   ],
   "source": [
    "class Solution:\n",
    "    def longestConsecutive(self, nums: List[int]) -> int:\n",
    "        nums = set(nums)\n",
    "        if len(nums) == 0:\n",
    "            return 0\n",
    "        h = []\n",
    "        for i in nums:\n",
    "            heapq.heappush(h,i)\n",
    "        ans = 1\n",
    "        lcs = 1\n",
    "        init = heapq.heappop(h)\n",
    "        for i in range(len(nums)-1):\n",
    "            temp = heapq.heappop(h)\n",
    "            if init+1 == temp:\n",
    "                init = temp\n",
    "                lcs += 1\n",
    "            else:\n",
    "                ans = max(ans, lcs)\n",
    "                lcs = 1\n",
    "                init = temp\n",
    "        return max(ans,lcs)"
   ]
  }
 ],
 "metadata": {
  "kernelspec": {
   "display_name": "Python 3",
   "language": "python",
   "name": "python3"
  },
  "language_info": {
   "codemirror_mode": {
    "name": "ipython",
    "version": 3
   },
   "file_extension": ".py",
   "mimetype": "text/x-python",
   "name": "python",
   "nbconvert_exporter": "python",
   "pygments_lexer": "ipython3",
   "version": "3.11.1"
  },
  "orig_nbformat": 4,
  "vscode": {
   "interpreter": {
    "hash": "c36892433cb4678e8e18e102d61482daaf1eaa7c72471b8a896202a24f4706d1"
   }
  }
 },
 "nbformat": 4,
 "nbformat_minor": 2
}

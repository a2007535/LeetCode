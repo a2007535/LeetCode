{
 "cells": [
  {
   "cell_type": "code",
   "execution_count": null,
   "metadata": {},
   "outputs": [],
   "source": [
    "class Solution:\n",
    "    def circularGameLosers(self, n: int, k: int) -> List[int]:\n",
    "        catch = set()\n",
    "        tmp = 1 \n",
    "        ball = 0\n",
    "        while ball not in catch:\n",
    "            catch.add(ball)\n",
    "            ball = (ball+(k*tmp))%n\n",
    "            tmp+=1\n",
    "        ans = []\n",
    "        for i in range(n):\n",
    "            if i not in catch:\n",
    "                ans.append(i+1)\n",
    "        return ans"
   ]
  }
 ],
 "metadata": {
  "language_info": {
   "name": "python"
  },
  "orig_nbformat": 4
 },
 "nbformat": 4,
 "nbformat_minor": 2
}

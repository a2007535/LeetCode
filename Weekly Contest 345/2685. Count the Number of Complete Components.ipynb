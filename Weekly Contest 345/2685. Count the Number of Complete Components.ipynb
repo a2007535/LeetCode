{
 "cells": [
  {
   "cell_type": "code",
   "execution_count": null,
   "metadata": {},
   "outputs": [],
   "source": [
    "class Solution:\n",
    "    def countCompleteComponents(self, n: int, edges: List[List[int]]) -> int:\n",
    "        edgesdict = defaultdict(set)\n",
    "        for src,des in edges:\n",
    "            edgesdict[src].add(des)\n",
    "            edgesdict[src].add(src)\n",
    "            edgesdict[des].add(src)\n",
    "            edgesdict[des].add(des)\n",
    "        ans = 0\n",
    "        visit = set()\n",
    "        for i in range(n):\n",
    "            if i in visit:\n",
    "                continue\n",
    "            if edgesdict[i]==0:\n",
    "                ans +=1\n",
    "                continue\n",
    "            tmpset = edgesdict[i]\n",
    "            Complete = True\n",
    "            for j in tmpset:\n",
    "                visit.add(j)\n",
    "                if tmpset == edgesdict[j]:\n",
    "                    continue\n",
    "                else:\n",
    "                    Complete = False\n",
    "                    break\n",
    "            if Complete:\n",
    "                ans +=1\n",
    "        return ans"
   ]
  }
 ],
 "metadata": {
  "language_info": {
   "name": "python"
  },
  "orig_nbformat": 4
 },
 "nbformat": 4,
 "nbformat_minor": 2
}

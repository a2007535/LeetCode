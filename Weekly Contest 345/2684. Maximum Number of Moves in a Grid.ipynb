{
 "cells": [
  {
   "cell_type": "code",
   "execution_count": null,
   "metadata": {},
   "outputs": [],
   "source": [
    "class Solution:\n",
    "    def maxMoves(self, grid: List[List[int]]) -> int:\n",
    "        dp = [[1]+[0]*(len(grid[0])-1) for _ in range(len(grid))]\n",
    "        ans = 1\n",
    "        for x in range(len(grid[0])-1):\n",
    "            for y in range(len(grid)):\n",
    "                if dp[y][x] == 0:\n",
    "                    continue\n",
    "                if y-1 >= 0:\n",
    "                    if grid[y-1][x+1] > grid[y][x]:\n",
    "                        dp[y-1][x+1] = dp[y][x]+1\n",
    "                        ans = max(ans,dp[y][x]+1)\n",
    "                if grid[y][x+1] > grid[y][x]:\n",
    "                    dp[y][x+1] = dp[y][x]+1\n",
    "                    ans = max(ans,dp[y][x]+1)\n",
    "                if y+1 != len(grid):\n",
    "                    if grid[y+1][x+1] > grid[y][x]:\n",
    "                        dp[y+1][x+1] = dp[y][x]+1\n",
    "                        ans = max(ans,dp[y][x]+1)\n",
    "        return ans -1"
   ]
  }
 ],
 "metadata": {
  "language_info": {
   "name": "python"
  },
  "orig_nbformat": 4
 },
 "nbformat": 4,
 "nbformat_minor": 2
}

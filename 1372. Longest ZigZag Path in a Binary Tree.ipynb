{
 "cells": [
  {
   "cell_type": "code",
   "execution_count": null,
   "metadata": {},
   "outputs": [],
   "source": [
    "# Definition for a binary tree node.\n",
    "# class TreeNode:\n",
    "#     def __init__(self, val=0, left=None, right=None):\n",
    "#         self.val = val\n",
    "#         self.left = left\n",
    "#         self.right = right\n",
    "class Solution:\n",
    "    def longestZigZag(self, root: Optional[TreeNode]) -> int:\n",
    "        self.ans = 0\n",
    "        def dfs(root,left,count):\n",
    "            if not root:\n",
    "                self.ans = max(self.ans,count)\n",
    "                return\n",
    "            if left:\n",
    "                dfs(root.right,not left,count+1)\n",
    "                dfs(root.left,True,0)\n",
    "            else:\n",
    "                dfs(root.left,not left,count+1)\n",
    "                dfs(root.right,False,0)\n",
    "        dfs(root,False,-1)\n",
    "        return self.ans"
   ]
  }
 ],
 "metadata": {
  "language_info": {
   "name": "python"
  },
  "orig_nbformat": 4
 },
 "nbformat": 4,
 "nbformat_minor": 2
}

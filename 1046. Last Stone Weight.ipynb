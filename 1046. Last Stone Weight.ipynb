{
 "cells": [
  {
   "cell_type": "code",
   "execution_count": null,
   "metadata": {},
   "outputs": [],
   "source": [
    "class Solution:\n",
    "    def lastStoneWeight(self, stones: List[int]) -> int:\n",
    "        h = []\n",
    "        for i in stones:\n",
    "            heappush(h,-i)\n",
    "        while(len(h)!= 1):\n",
    "            stone1 = heappop(h)\n",
    "            stone2 = heappop(h)\n",
    "            newStone = abs(stone1 - stone2)\n",
    "            heappush(h,-newStone)\n",
    "        return - heappop(h)"
   ]
  }
 ],
 "metadata": {
  "language_info": {
   "name": "python"
  },
  "orig_nbformat": 4
 },
 "nbformat": 4,
 "nbformat_minor": 2
}

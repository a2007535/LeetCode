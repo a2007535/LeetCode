{
 "cells": [
  {
   "cell_type": "code",
   "execution_count": null,
   "metadata": {},
   "outputs": [],
   "source": [
    "class Solution:\n",
    "    def canPlaceFlowers(self, flowerbed: List[int], n: int) -> bool:\n",
    "        flowerbed.insert(0,0)\n",
    "        flowerbed.append(0)\n",
    "        i=1\n",
    "        flowercount=0\n",
    "        while i < len(flowerbed)-1:\n",
    "            if flowerbed[i]==0 and flowerbed[i-1]==0 and flowerbed[i+1]==0:\n",
    "                flowerbed[i]=1\n",
    "                flowercount+=1\n",
    "            i+=1\n",
    "        return flowercount >= n\n",
    "                "
   ]
  }
 ],
 "metadata": {
  "language_info": {
   "name": "python"
  },
  "orig_nbformat": 4
 },
 "nbformat": 4,
 "nbformat_minor": 2
}

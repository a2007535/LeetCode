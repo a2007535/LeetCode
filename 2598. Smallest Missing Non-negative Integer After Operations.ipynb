{
 "cells": [
  {
   "cell_type": "code",
   "execution_count": null,
   "metadata": {},
   "outputs": [],
   "source": [
    "class Solution:\n",
    "    def findSmallestInteger(self, nums: List[int], value: int) -> int:\n",
    "        mem = {}\n",
    "        for i in nums:\n",
    "            mem[i%value] = mem.get(i%value,0)+1\n",
    "        ans = 0\n",
    "        while ans != len(nums):\n",
    "            if ans%value in mem:\n",
    "                if mem[ans%value] != 0:\n",
    "                    mem[ans%value] -= 1\n",
    "                    ans+=1\n",
    "                else:\n",
    "                    return ans\n",
    "            else:\n",
    "                return ans\n",
    "        return ans"
   ]
  }
 ],
 "metadata": {
  "language_info": {
   "name": "python"
  },
  "orig_nbformat": 4
 },
 "nbformat": 4,
 "nbformat_minor": 2
}

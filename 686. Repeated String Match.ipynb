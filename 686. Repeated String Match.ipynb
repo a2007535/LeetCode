{
 "cells": [
  {
   "cell_type": "code",
   "execution_count": null,
   "metadata": {},
   "outputs": [],
   "source": [
    "class Solution:\n",
    "    def repeatedStringMatch(self, a: str, b: str) -> int:\n",
    "        ansStr = a * (len(b)//len(a))\n",
    "        ansStr_1 = a * ((len(b)//len(a)) +1)\n",
    "        ansStr_2 = a * ((len(b)//len(a)) +2)\n",
    "        if b in ansStr:\n",
    "            return len(b)//len(a)\n",
    "        elif b in ansStr_1:\n",
    "            return len(b)//len(a) +1\n",
    "        elif b in ansStr_2:\n",
    "            return len(b)//len(a) +2\n",
    "        else:\n",
    "            return -1\n",
    "        "
   ]
  }
 ],
 "metadata": {
  "kernelspec": {
   "display_name": "Python 3.8.9 64-bit",
   "language": "python",
   "name": "python3"
  },
  "language_info": {
   "name": "python",
   "version": "3.8.9"
  },
  "orig_nbformat": 4,
  "vscode": {
   "interpreter": {
    "hash": "31f2aee4e71d21fbe5cf8b01ff0e069b9275f58929596ceb00d14d90e3e16cd6"
   }
  }
 },
 "nbformat": 4,
 "nbformat_minor": 2
}

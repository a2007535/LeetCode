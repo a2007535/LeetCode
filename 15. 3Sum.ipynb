{
 "cells": [
  {
   "cell_type": "code",
   "execution_count": 1,
   "metadata": {},
   "outputs": [
    {
     "data": {
      "text/plain": [
       "False"
      ]
     },
     "execution_count": 1,
     "metadata": {},
     "output_type": "execute_result"
    }
   ],
   "source": [
    "class Solution:\n",
    "    def threeSum(self, nums: List[int]) -> List[List[int]]:\n",
    "        nums=sorted(nums)\n",
    "        count=0\n",
    "        currentNum=nums[0]\n",
    "        newNums=[]\n",
    "        for i in nums:\n",
    "            if i != currentNum:\n",
    "                count=1\n",
    "                currentNum=i\n",
    "                newNums.append(i)\n",
    "            elif i == currentNum and count == 3:\n",
    "                continue\n",
    "            elif i == currentNum and count !=3:\n",
    "                count+=1\n",
    "                newNums.append(i)\n",
    "        nums=newNums\n",
    "        ans=[]\n",
    "        for i in range(len(nums)):\n",
    "            l=i+1\n",
    "            r=len(nums)-1\n",
    "            while r>l:\n",
    "                res=nums[i]+nums[l]+nums[r]\n",
    "                if res>0:\n",
    "                    r-=1\n",
    "                elif res<0:\n",
    "                    l+=1\n",
    "                elif res==0:\n",
    "                    if [nums[i],nums[l],nums[r]] not in  ans:\n",
    "                        ans.append([nums[i],nums[l],nums[r]])\n",
    "                    l+=1\n",
    "                    r-=1\n",
    "                    continue\n",
    "        return ans"
   ]
  },
  {
   "cell_type": "code",
   "execution_count": 3,
   "metadata": {},
   "outputs": [
    {
     "name": "stdout",
     "output_type": "stream",
     "text": [
      "{(0, 0, 0)}\n"
     ]
    }
   ],
   "source": [
    "class Solution:\n",
    "    def threeSum(self, nums: List[int]) -> List[List[int]]:\n",
    "        nums=sorted(nums)\n",
    "        ans = set()\n",
    "        for i in range(len(nums)-2):\n",
    "            L, R = i+1, len(nums)-1\n",
    "            while R > L:\n",
    "                if nums[R]+nums[L]+nums[i]==0:\n",
    "                    ans.add((nums[i],nums[L],nums[R]))\n",
    "                    L+=1\n",
    "                    R-=1\n",
    "                elif nums[R]+nums[L]+nums[i]>0:\n",
    "                    R-=1\n",
    "                else:\n",
    "                    L+=1\n",
    "        return list(ans)"
   ]
  },
  {
   "cell_type": "code",
   "execution_count": null,
   "metadata": {},
   "outputs": [],
   "source": []
  }
 ],
 "metadata": {
  "kernelspec": {
   "display_name": "Python 3",
   "language": "python",
   "name": "python3"
  },
  "language_info": {
   "codemirror_mode": {
    "name": "ipython",
    "version": 3
   },
   "file_extension": ".py",
   "mimetype": "text/x-python",
   "name": "python",
   "nbconvert_exporter": "python",
   "pygments_lexer": "ipython3",
   "version": "3.11.1"
  },
  "orig_nbformat": 4,
  "vscode": {
   "interpreter": {
    "hash": "c36892433cb4678e8e18e102d61482daaf1eaa7c72471b8a896202a24f4706d1"
   }
  }
 },
 "nbformat": 4,
 "nbformat_minor": 2
}

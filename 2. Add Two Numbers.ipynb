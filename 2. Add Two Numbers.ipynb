{
 "cells": [
  {
   "cell_type": "code",
   "execution_count": null,
   "metadata": {},
   "outputs": [],
   "source": [
    "# Definition for singly-linked list.\n",
    "# class ListNode:\n",
    "#     def __init__(self, val=0, next=None):\n",
    "#         self.val = val\n",
    "#         self.next = next\n",
    "class Solution:\n",
    "    def addTwoNumbers(self, l1: Optional[ListNode], l2: Optional[ListNode]) -> Optional[ListNode]:\n",
    "        carry = 0\n",
    "        head = temp = ListNode()\n",
    "        prev = None\n",
    "        while l1 and l2:\n",
    "            prev = temp\n",
    "            tempsum = l1.val + l2.val + carry\n",
    "            temp.val = tempsum % 10\n",
    "            carry = tempsum //10\n",
    "            tempnode = ListNode()\n",
    "            temp.next = tempnode\n",
    "            temp = tempnode\n",
    "            l1 = l1.next\n",
    "            l2 = l2.next\n",
    "        if l1 or l2:\n",
    "            templist = l1 if l1 else l2\n",
    "        else:\n",
    "            templist = None\n",
    "        while templist:\n",
    "            prev = temp\n",
    "            tempsum = templist.val + carry\n",
    "            temp.val = tempsum % 10\n",
    "            carry = tempsum //10\n",
    "            tempnode = ListNode()\n",
    "            temp.next = tempnode\n",
    "            temp = tempnode\n",
    "            templist = templist.next\n",
    "        if carry:\n",
    "            temp.val = 1\n",
    "        else:\n",
    "            prev.next = None\n",
    "        return head"
   ]
  }
 ],
 "metadata": {
  "language_info": {
   "name": "python"
  },
  "orig_nbformat": 4
 },
 "nbformat": 4,
 "nbformat_minor": 2
}

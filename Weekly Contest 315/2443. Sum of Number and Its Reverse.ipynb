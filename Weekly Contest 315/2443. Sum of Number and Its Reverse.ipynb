{
 "cells": [
  {
   "cell_type": "code",
   "execution_count": null,
   "metadata": {},
   "outputs": [],
   "source": [
    "class Solution:\n",
    "    def sumOfNumberAndReverse(self, num: int) -> bool:\n",
    "        for i in range(0,num+1):\n",
    "            reverse = \"\".join(list(str(i))[::-1])\n",
    "            if int(reverse) + i == num:\n",
    "                return True\n",
    "        return False"
   ]
  }
 ],
 "metadata": {
  "language_info": {
   "name": "python"
  },
  "orig_nbformat": 4
 },
 "nbformat": 4,
 "nbformat_minor": 2
}

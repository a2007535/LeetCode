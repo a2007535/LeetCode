{
 "cells": [
  {
   "cell_type": "code",
   "execution_count": null,
   "metadata": {},
   "outputs": [],
   "source": [
    "class Solution:\n",
    "    def findMaxK(self, nums: List[int]) -> int:\n",
    "        ans = 0\n",
    "        tempset = set(nums)\n",
    "        for i in nums:\n",
    "            if -i in tempset:\n",
    "                ans = max (ans, abs(i))\n",
    "        return ans if ans != 0 else -1"
   ]
  }
 ],
 "metadata": {
  "language_info": {
   "name": "python"
  },
  "orig_nbformat": 4
 },
 "nbformat": 4,
 "nbformat_minor": 2
}

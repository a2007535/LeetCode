{
 "cells": [
  {
   "cell_type": "code",
   "execution_count": null,
   "metadata": {},
   "outputs": [],
   "source": [
    "class Solution:\n",
    "    res=0\n",
    "    def backTracking(self,arr,index,localStr):\n",
    "        if len(set(localStr)) != len(localStr):\n",
    "            return\n",
    "        self.res = max(self.res,len(localStr))\n",
    "        for i in range(index,len(arr)):\n",
    "            self.backTracking(arr,i,localStr+arr[i])\n",
    "    def maxLength(self, arr: List[str]) -> int:\n",
    "        self.backTracking(arr,0,\"\")\n",
    "        return self.res"
   ]
  }
 ],
 "metadata": {
  "language_info": {
   "name": "python"
  },
  "orig_nbformat": 4
 },
 "nbformat": 4,
 "nbformat_minor": 2
}

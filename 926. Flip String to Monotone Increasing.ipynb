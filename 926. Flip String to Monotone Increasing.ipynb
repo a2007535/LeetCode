{
 "cells": [
  {
   "cell_type": "code",
   "execution_count": null,
   "metadata": {},
   "outputs": [],
   "source": [
    "class Solution:\n",
    "    def minFlipsMonoIncr(self, s: str) -> int:\n",
    "        best=s.count('0')\n",
    "        res=best\n",
    "        for i in s:\n",
    "            if i=='0':\n",
    "                res-=1\n",
    "            else:\n",
    "                res+=1\n",
    "            best=min(best,res)\n",
    "        return best\n",
    "    "
   ]
  }
 ],
 "metadata": {
  "language_info": {
   "name": "python"
  },
  "orig_nbformat": 4
 },
 "nbformat": 4,
 "nbformat_minor": 2
}

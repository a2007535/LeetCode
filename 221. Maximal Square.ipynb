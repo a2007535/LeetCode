{
 "cells": [
  {
   "cell_type": "code",
   "execution_count": null,
   "metadata": {},
   "outputs": [],
   "source": [
    "class Solution:\n",
    "    def maximalSquare(self, matrix: List[List[str]]) -> int:\n",
    "        result = 0\n",
    "        dp = [[0]*len(matrix[0]) for _ in range(len(matrix))]\n",
    "        for y in range(0,len(matrix)):\n",
    "            for x in range(0,len(matrix[0])):\n",
    "                if matrix[y][x] == '1':\n",
    "                    if y==0 or x==0:\n",
    "                        dp[y][x]=1\n",
    "                    else:\n",
    "                        dp[y][x] = min(dp[y-1][x-1],dp[y-1][x],dp[y][x-1])+1\n",
    "                    result = max(result,dp[y][x])\n",
    "        # print(matrix)\n",
    "        return result*result"
   ]
  }
 ],
 "metadata": {
  "language_info": {
   "name": "python"
  },
  "orig_nbformat": 4
 },
 "nbformat": 4,
 "nbformat_minor": 2
}

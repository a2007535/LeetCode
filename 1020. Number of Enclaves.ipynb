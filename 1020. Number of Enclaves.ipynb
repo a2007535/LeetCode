{
 "cells": [
  {
   "cell_type": "code",
   "execution_count": null,
   "metadata": {},
   "outputs": [],
   "source": [
    "class Solution:\n",
    "    def numEnclaves(self, grid: List[List[int]]) -> int:\n",
    "        def helper(grid,x,y):\n",
    "            if x == len(grid[0]) or x < 0 or y < 0 or y==len(grid):\n",
    "                return -1\n",
    "            if grid[y][x] == 0:\n",
    "                return 0\n",
    "            if grid[y][x] == 1:\n",
    "                grid[y][x]=0\n",
    "                A = helper(grid,x+1,y)\n",
    "                B = helper(grid,x-1,y)\n",
    "                C = helper(grid,x,y+1)\n",
    "                D = helper(grid,x,y-1)\n",
    "                if A == -1 or B == -1 or C == -1 or D == -1:\n",
    "                    return -1\n",
    "                else:\n",
    "                    return A+B+C+D+1\n",
    "        ans = 0\n",
    "        for x in range(len(grid[0])):\n",
    "            for y in range(len(grid)):\n",
    "                temp = helper(grid,x,y)\n",
    "                ans += temp if temp != -1 else 0 \n",
    "        return ans"
   ]
  },
  {
   "cell_type": "markdown",
   "metadata": {},
   "source": []
  },
  {
   "attachments": {},
   "cell_type": "markdown",
   "metadata": {},
   "source": [
    "神奇的思路\n",
    "把所有邊緣的1改成0\n",
    "然後再數剩下多少個1\n",
    "\n"
   ]
  },
  {
   "cell_type": "code",
   "execution_count": null,
   "metadata": {},
   "outputs": [],
   "source": [
    "class Solution:\n",
    "    def numEnclaves(self, grid: List[List[int]]) -> int:\n",
    "        def helper(grid,x,y):\n",
    "            if x < 0 or x == len(grid[0]) or y<0 or y == len(grid):\n",
    "                return\n",
    "            if grid[y][x] == 0:\n",
    "                return\n",
    "            else:\n",
    "                grid[y][x] = 0\n",
    "                helper(grid,x+1,y)\n",
    "                helper(grid,x-1,y)\n",
    "                helper(grid,x,y+1)\n",
    "                helper(grid,x,y-1)\n",
    "        for y in range(len(grid)):\n",
    "            helper(grid,0,y)\n",
    "            helper(grid,len(grid[0])-1,y)\n",
    "        for x in range(len(grid[0])):\n",
    "            helper(grid,x,0)\n",
    "            helper(grid,x,len(grid)-1)\n",
    "        ans = 0\n",
    "        for y in range(len(grid)):\n",
    "            print(grid[y])\n",
    "            ans += sum(grid[y])\n",
    "        return ans"
   ]
  }
 ],
 "metadata": {
  "language_info": {
   "name": "python"
  },
  "orig_nbformat": 4
 },
 "nbformat": 4,
 "nbformat_minor": 2
}

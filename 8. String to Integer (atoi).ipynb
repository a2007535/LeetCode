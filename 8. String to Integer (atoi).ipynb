{
 "cells": [
  {
   "cell_type": "code",
   "execution_count": null,
   "metadata": {},
   "outputs": [],
   "source": [
    "class Solution:\n",
    "    def myAtoi(self, s: str) -> int:\n",
    "        finddigit = False\n",
    "        findnegative = False\n",
    "        findpositive = False\n",
    "        ans = []\n",
    "        for i in s:\n",
    "            if ord(i)-ord('0') >= 0 and ord(i)-ord('0') <= 9:\n",
    "                ans.append(i)\n",
    "                finddigit = True\n",
    "            else:\n",
    "                if finddigit:\n",
    "                    break\n",
    "                elif findnegative or findpositive:\n",
    "                    break\n",
    "                elif i == ' ':\n",
    "                    continue\n",
    "                elif i == '-':\n",
    "                    findnegative = True\n",
    "                elif i == '+':\n",
    "                    findpositive = True\n",
    "                else:\n",
    "                    break\n",
    "                \n",
    "        ansint = 0\n",
    "        # print(ans)\n",
    "        for i in ans:\n",
    "            ansint = ansint*10 + (ord(i)-ord('0'))\n",
    "        # print(ansint)\n",
    "        ansint = -ansint if findnegative else ansint\n",
    "        if ansint >= 2**31 -1 :\n",
    "            ansint = 2**31 -1\n",
    "        if ansint <= - 2**31:\n",
    "            ansint = - 2**31\n",
    "        return ansint"
   ]
  }
 ],
 "metadata": {
  "language_info": {
   "name": "python"
  },
  "orig_nbformat": 4
 },
 "nbformat": 4,
 "nbformat_minor": 2
}

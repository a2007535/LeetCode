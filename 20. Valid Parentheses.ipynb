{
 "cells": [
  {
   "cell_type": "code",
   "execution_count": null,
   "metadata": {},
   "outputs": [],
   "source": [
    "class Solution:\n",
    "    def isValid(self, s: str) -> bool:\n",
    "        res=[]\n",
    "        for i in s:\n",
    "            if i ==\"(\" or i==\"{\" or i==\"[\":\n",
    "                res.append(i)\n",
    "            else:\n",
    "                if len(res)==0:\n",
    "                    return False\n",
    "                if i == \")\" and res[-1]==\"(\":\n",
    "                    del res[-1]\n",
    "                    continue\n",
    "                if i == \"]\" and res[-1]==\"[\":\n",
    "                    del res[-1]\n",
    "                    continue\n",
    "                if i == \"}\" and res[-1]==\"{\":\n",
    "                    del res[-1]\n",
    "                    continue\n",
    "                return False\n",
    "        if len(res)==0:\n",
    "            return True\n",
    "        return False\n",
    "        "
   ]
  },
  {
   "cell_type": "code",
   "execution_count": null,
   "metadata": {},
   "outputs": [],
   "source": [
    "class Solution:\n",
    "    def isValid(self, s: str) -> bool:\n",
    "        ans = [' ']\n",
    "        for i in s:\n",
    "            if i == ')' and ans[-1]=='(':\n",
    "                del ans[-1]\n",
    "            elif i == ']' and ans[-1]=='[':\n",
    "                del ans[-1]\n",
    "            elif i == '}' and ans[-1]=='{':\n",
    "                del ans[-1]\n",
    "            else:\n",
    "                ans.append(i)\n",
    "        return len(ans)==1"
   ]
  }
 ],
 "metadata": {
  "language_info": {
   "name": "python"
  },
  "orig_nbformat": 4
 },
 "nbformat": 4,
 "nbformat_minor": 2
}

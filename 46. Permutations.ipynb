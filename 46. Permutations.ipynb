{
 "cells": [
  {
   "cell_type": "code",
   "execution_count": null,
   "metadata": {},
   "outputs": [],
   "source": [
    "class Solution:\n",
    "    def combinationSum(self, candidates: List[int], target: int) -> List[List[int]]:\n",
    "        self.ans=[]\n",
    "        self.helper(candidates,target,[])\n",
    "        return self.ans\n",
    "    def helper(self,candidates,target,res):\n",
    "        if target==0:\n",
    "            self.ans.append(res)\n",
    "            return\n",
    "        for i in candidates:\n",
    "            if i <= target:\n",
    "                self.helper(candidates[candidates.index(i):],target-i,list(res+[i]))\n",
    "        return"
   ]
  }
 ],
 "metadata": {
  "language_info": {
   "name": "python"
  },
  "orig_nbformat": 4
 },
 "nbformat": 4,
 "nbformat_minor": 2
}

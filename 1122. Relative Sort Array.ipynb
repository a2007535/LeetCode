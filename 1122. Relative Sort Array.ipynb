{
 "cells": [
  {
   "cell_type": "code",
   "execution_count": null,
   "metadata": {},
   "outputs": [],
   "source": [
    "class Solution:\n",
    "    def relativeSortArray(self, arr1: List[int], arr2: List[int]) -> List[int]:\n",
    "        counter = dict(Counter(arr1))\n",
    "        ans = []\n",
    "        for i in arr2:\n",
    "            if i in counter:\n",
    "                for j in range(counter[i]):\n",
    "                    ans.append(i)\n",
    "                del counter[i]\n",
    "        for n,count in sorted([[i,n] for i,n in counter.items()]):\n",
    "            for i in range(count):\n",
    "                ans.append(n)\n",
    "        return ans\n",
    "                "
   ]
  }
 ],
 "metadata": {
  "language_info": {
   "name": "python"
  },
  "orig_nbformat": 4
 },
 "nbformat": 4,
 "nbformat_minor": 2
}

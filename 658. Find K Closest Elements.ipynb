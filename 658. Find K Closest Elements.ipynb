{
 "cells": [
  {
   "cell_type": "code",
   "execution_count": null,
   "metadata": {},
   "outputs": [],
   "source": [
    "class Solution:\n",
    "    def findClosestElements(self, arr: List[int], k: int, x: int) -> List[int]:\n",
    "        if x <= arr[0]: return arr[:k]\n",
    "        if x >= arr[-1]: return arr[-k:]\n",
    "        l,r = 0, len(arr)-k\n",
    "        while l <r:\n",
    "            m =(l+r)>>1\n",
    "            if x-arr[m]> arr[m+k]-x:\n",
    "                l = m + 1\n",
    "            else:\n",
    "                r = m\n",
    "        return arr[l:l+k]"
   ]
  }
 ],
 "metadata": {
  "language_info": {
   "name": "python"
  },
  "orig_nbformat": 4
 },
 "nbformat": 4,
 "nbformat_minor": 2
}

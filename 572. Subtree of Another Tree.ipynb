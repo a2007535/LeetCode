{
 "cells": [
  {
   "cell_type": "code",
   "execution_count": null,
   "metadata": {},
   "outputs": [],
   "source": [
    "# Definition for a binary tree node.\n",
    "# class TreeNode:\n",
    "#     def __init__(self, val=0, left=None, right=None):\n",
    "#         self.val = val\n",
    "#         self.left = left\n",
    "#         self.right = right\n",
    "class Solution:\n",
    "    def isSubtree(self, root: Optional[TreeNode], subRoot: Optional[TreeNode]) -> bool:\n",
    "        if not root:\n",
    "            return False\n",
    "        if self.isSameTree(root,subRoot):\n",
    "            return True\n",
    "        return self.isSubtree(root.right,subRoot) or self.isSubtree(root.left,subRoot)\n",
    "            \n",
    "    def isSameTree(self,p,q):\n",
    "        if not p and not q:\n",
    "            return True\n",
    "        if p and q:\n",
    "            if p.val == q.val:\n",
    "                return self.isSameTree(p.right,q.right) and self.isSameTree(p.left,q.left)\n",
    "            else:\n",
    "                return False\n",
    "        else:\n",
    "            return False"
   ]
  }
 ],
 "metadata": {
  "language_info": {
   "name": "python"
  },
  "orig_nbformat": 4
 },
 "nbformat": 4,
 "nbformat_minor": 2
}

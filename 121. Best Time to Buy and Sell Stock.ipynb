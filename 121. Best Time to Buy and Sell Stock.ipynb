{
 "cells": [
  {
   "cell_type": "code",
   "execution_count": null,
   "metadata": {},
   "outputs": [],
   "source": [
    "import math\n",
    "class Solution:\n",
    "    def maxProfit(self, prices: List[int]) -> int:\n",
    "        minPrice=100000\n",
    "        ans=0\n",
    "        for i in prices:\n",
    "            if i > minPrice:\n",
    "                ans = max(ans,i-minPrice)\n",
    "            else:\n",
    "                minPrice=i\n",
    "        return ans"
   ]
  }
 ],
 "metadata": {
  "kernelspec": {
   "display_name": "Python 3",
   "language": "python",
   "name": "python3"
  },
  "language_info": {
   "name": "python",
   "version": "3.11.1"
  },
  "orig_nbformat": 4,
  "vscode": {
   "interpreter": {
    "hash": "c36892433cb4678e8e18e102d61482daaf1eaa7c72471b8a896202a24f4706d1"
   }
  }
 },
 "nbformat": 4,
 "nbformat_minor": 2
}

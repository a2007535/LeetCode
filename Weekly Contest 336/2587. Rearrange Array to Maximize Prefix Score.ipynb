{
 "cells": [
  {
   "cell_type": "code",
   "execution_count": null,
   "metadata": {},
   "outputs": [],
   "source": [
    "class Solution:\n",
    "    def maxScore(self, nums: List[int]) -> int:\n",
    "        ans = 0\n",
    "        heaparr = []\n",
    "        for i in nums:\n",
    "            heappush(heaparr,-i)\n",
    "        temp = -heappop(heaparr)\n",
    "        while temp > 0 and heaparr:\n",
    "            temp -= heappop(heaparr)\n",
    "            ans += 1\n",
    "        return ans if temp <=0 else ans+1"
   ]
  }
 ],
 "metadata": {
  "language_info": {
   "name": "python"
  },
  "orig_nbformat": 4
 },
 "nbformat": 4,
 "nbformat_minor": 2
}

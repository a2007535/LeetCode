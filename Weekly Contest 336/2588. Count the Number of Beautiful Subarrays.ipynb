{
 "cells": [
  {
   "cell_type": "code",
   "execution_count": null,
   "metadata": {},
   "outputs": [],
   "source": [
    "class Solution:\n",
    "    def beautifulSubarrays(self, A):\n",
    "        dp = Counter({0: 1})\n",
    "        res = pre = 0\n",
    "        for a in A:\n",
    "            pre ^= a\n",
    "            res += dp[pre]\n",
    "            dp[pre] += 1\n",
    "        return res"
   ]
  }
 ],
 "metadata": {
  "language_info": {
   "name": "python"
  },
  "orig_nbformat": 4
 },
 "nbformat": 4,
 "nbformat_minor": 2
}

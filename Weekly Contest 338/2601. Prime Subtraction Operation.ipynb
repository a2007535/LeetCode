{
 "cells": [
  {
   "cell_type": "code",
   "execution_count": null,
   "metadata": {},
   "outputs": [],
   "source": [
    "class Solution:\n",
    "    def primeSubOperation(self, nums: List[int]) -> bool:\n",
    "        primes = [2,2,2]\n",
    "        temp = 2\n",
    "        for i in range(3, 1000):\n",
    "            if not any(i % prime == 0 for prime in primes):\n",
    "                primes = primes + [i]*(i-temp)\n",
    "                temp = i\n",
    "        # print(primes)\n",
    "        \n",
    "        \n",
    "        pre = nums[-1]\n",
    "        for i in nums[::-1][1:]:\n",
    "            print(pre,i)\n",
    "            if pre > i:\n",
    "                pre = i\n",
    "                continue\n",
    "            else:\n",
    "                temp = i-pre+1\n",
    "                if temp == len(primes):\n",
    "                    return False\n",
    "                pre  = i - primes[temp]\n",
    "            if pre <= 0:\n",
    "                return False\n",
    "        return True\n",
    "        "
   ]
  }
 ],
 "metadata": {
  "language_info": {
   "name": "python"
  },
  "orig_nbformat": 4
 },
 "nbformat": 4,
 "nbformat_minor": 2
}

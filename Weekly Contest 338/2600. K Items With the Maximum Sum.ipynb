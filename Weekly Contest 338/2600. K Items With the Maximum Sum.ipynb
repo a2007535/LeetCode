{
 "cells": [
  {
   "cell_type": "code",
   "execution_count": null,
   "metadata": {},
   "outputs": [],
   "source": [
    "class Solution:\n",
    "    def kItemsWithMaximumSum(self, numOnes: int, numZeros: int, numNegOnes: int, k: int) -> int:\n",
    "        ans = 0\n",
    "        if k > numOnes:\n",
    "            ans += numOnes\n",
    "            k -= numOnes\n",
    "        else:\n",
    "            return k\n",
    "        if k > numZeros:\n",
    "            k -= numZeros\n",
    "        else:\n",
    "            return ans\n",
    "        if k == numNegOnes:\n",
    "            ans -= numNegOnes\n",
    "            return ans\n",
    "        else:\n",
    "            ans -= k\n",
    "            return ans"
   ]
  }
 ],
 "metadata": {
  "language_info": {
   "name": "python"
  },
  "orig_nbformat": 4
 },
 "nbformat": 4,
 "nbformat_minor": 2
}

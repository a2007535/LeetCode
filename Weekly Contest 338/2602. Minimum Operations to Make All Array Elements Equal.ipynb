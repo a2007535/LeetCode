{
 "cells": [
  {
   "cell_type": "code",
   "execution_count": null,
   "metadata": {},
   "outputs": [],
   "source": [
    "class Solution:\n",
    "    def minOperations(self, nums: List[int], queries: List[int]) -> List[int]:\n",
    "        nums.sort()\n",
    "        ans, n, prefix = [], len(nums), [0] + list(accumulate(nums))\n",
    "        for x in queries:\n",
    "            i = bisect_right(nums, x)\n",
    "            print(i)\n",
    "            ans.append(x*i-prefix[i-1] + prefix[n-1]x*(n-i))\n",
    "        return ans"
   ]
  }
 ],
 "metadata": {
  "language_info": {
   "name": "python"
  },
  "orig_nbformat": 4
 },
 "nbformat": 4,
 "nbformat_minor": 2
}

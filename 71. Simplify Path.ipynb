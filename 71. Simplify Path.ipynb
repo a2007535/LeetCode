{
 "cells": [
  {
   "cell_type": "code",
   "execution_count": null,
   "metadata": {},
   "outputs": [],
   "source": [
    "class Solution:\n",
    "    def simplifyPath(self, path: str) -> str:\n",
    "        path = path.split('/')\n",
    "        ans = []\n",
    "        for i in path:\n",
    "            if i =='' or i =='.':\n",
    "                continue\n",
    "            elif i == '..':\n",
    "                if ans:\n",
    "                    ans.pop()\n",
    "            else:\n",
    "                ans.append(i)\n",
    "        return '/'+'/'.join(ans)\n"
   ]
  }
 ],
 "metadata": {
  "language_info": {
   "name": "python"
  },
  "orig_nbformat": 4
 },
 "nbformat": 4,
 "nbformat_minor": 2
}

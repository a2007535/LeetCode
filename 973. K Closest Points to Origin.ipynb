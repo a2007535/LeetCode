{
 "cells": [
  {
   "cell_type": "code",
   "execution_count": null,
   "metadata": {},
   "outputs": [],
   "source": [
    "class Solution:\n",
    "    def kClosest(self, points: List[List[int]], k: int) -> List[List[int]]:\n",
    "        heapq = []\n",
    "        pointsDict = defaultdict(list)\n",
    "        ans = []\n",
    "        for i in points:\n",
    "            dist = i[0]**2 + i[1] **2\n",
    "            pointsDict[dist].append(i)\n",
    "            heappush(heapq,dist)\n",
    "        for i in range(k):\n",
    "            ans.append(pointsDict[heappop(heapq)].pop())\n",
    "        return ans"
   ]
  }
 ],
 "metadata": {
  "language_info": {
   "name": "python"
  },
  "orig_nbformat": 4
 },
 "nbformat": 4,
 "nbformat_minor": 2
}

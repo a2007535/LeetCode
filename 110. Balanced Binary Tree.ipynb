{
 "cells": [
  {
   "cell_type": "code",
   "execution_count": null,
   "metadata": {},
   "outputs": [],
   "source": [
    "# Definition for a binary tree node.\n",
    "# class TreeNode:\n",
    "#     def __init__(self, val=0, left=None, right=None):\n",
    "#         self.val = val\n",
    "#         self.left = left\n",
    "#         self.right = right\n",
    "class Solution:\n",
    "    def isBalanced(self, root: Optional[TreeNode]) -> bool:\n",
    "        def helper(root):\n",
    "            if not root:\n",
    "                return 0\n",
    "            else:\n",
    "                return 1 + max(helper(root.right),helper(root.left))\n",
    "        if not root:\n",
    "            return True\n",
    "        left = helper(root.left)\n",
    "        right = helper(root.right)\n",
    "        return True if abs(left-right) <= 1 and self.isBalanced(root.right) and self.isBalanced(root.left) else False"
   ]
  },
  {
   "cell_type": "code",
   "execution_count": null,
   "metadata": {},
   "outputs": [],
   "source": [
    "# Definition for a binary tree node.\n",
    "# class TreeNode:\n",
    "#     def __init__(self, val=0, left=None, right=None):\n",
    "#         self.val = val\n",
    "#         self.left = left\n",
    "#         self.right = right\n",
    "class Solution:\n",
    "    def isBalanced(self, root: Optional[TreeNode]) -> bool:\n",
    "        def dfs(root):\n",
    "            if root == None:\n",
    "                return [True, 0]\n",
    "            \n",
    "            left = dfs(root.left)\n",
    "            right = dfs(root.right)\n",
    "\n",
    "            b = left[0] and right[0] and abs(left[1] - right[1]) <= 1\n",
    "\n",
    "            return [b, 1 + max(left[1], right[1])]\n",
    "\n",
    "        \n",
    "        return dfs(root)[0]"
   ]
  }
 ],
 "metadata": {
  "language_info": {
   "name": "python"
  },
  "orig_nbformat": 4
 },
 "nbformat": 4,
 "nbformat_minor": 2
}

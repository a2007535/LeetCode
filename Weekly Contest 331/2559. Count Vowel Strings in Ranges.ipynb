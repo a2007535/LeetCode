{
 "cells": [
  {
   "cell_type": "code",
   "execution_count": null,
   "metadata": {},
   "outputs": [],
   "source": [
    "class Solution:\n",
    "    def vowelStrings(self, words: List[str], queries: List[List[int]]) -> List[int]:\n",
    "        vowel = {\"a\",\"e\",\"i\",\"o\",\"u\"}\n",
    "        dp = [0]*len(words)\n",
    "        for i in range(len(words)):\n",
    "            if words[i][0] in vowel and words[i][-1] in vowel:\n",
    "                dp[i] = dp[i-1] + 1\n",
    "            else:\n",
    "                dp[i] = dp[i-1]\n",
    "        dp = [0] + dp\n",
    "        # print(dp)\n",
    "        ans = []\n",
    "        for i,j in queries:\n",
    "            ans.append(dp[j+1]-dp[i])\n",
    "        return ans"
   ]
  }
 ],
 "metadata": {
  "language_info": {
   "name": "python"
  },
  "orig_nbformat": 4
 },
 "nbformat": 4,
 "nbformat_minor": 2
}

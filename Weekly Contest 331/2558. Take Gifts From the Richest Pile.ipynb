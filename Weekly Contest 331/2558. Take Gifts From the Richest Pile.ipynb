{
 "cells": [
  {
   "cell_type": "code",
   "execution_count": null,
   "metadata": {},
   "outputs": [],
   "source": [
    "class Solution:\n",
    "    def pickGifts(self, gifts: List[int], k: int) -> int:\n",
    "        ans = sum(gifts)\n",
    "        heap = []\n",
    "        for i in gifts:\n",
    "            heappush(heap,-i)\n",
    "        for i in range(k):\n",
    "            tmp = abs(heappop(heap))\n",
    "            # print(tmp)\n",
    "            tmp2 = int(tmp**0.5)\n",
    "            heappush(heap,-tmp2)\n",
    "            ans -= (tmp-tmp2)\n",
    "        return ans"
   ]
  }
 ],
 "metadata": {
  "language_info": {
   "name": "python"
  },
  "orig_nbformat": 4
 },
 "nbformat": 4,
 "nbformat_minor": 2
}

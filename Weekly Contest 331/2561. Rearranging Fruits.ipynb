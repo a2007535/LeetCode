{
 "cells": [
  {
   "cell_type": "code",
   "execution_count": null,
   "metadata": {},
   "outputs": [],
   "source": [
    "class Solution:\n",
    "    def minCost(self, basket1: List[int], basket2: List[int]) -> int:\n",
    "        counter1 ={}\n",
    "        allcounter = {}\n",
    "        minnum = min(basket1+basket2)\n",
    "        for i in basket1:\n",
    "            counter1[i] = counter1.get(i,0)+1\n",
    "            allcounter[i] = allcounter.get(i,0)+1\n",
    "            if allcounter[i] ==2:\n",
    "                del allcounter[i]\n",
    "        counter2 ={}\n",
    "        for i in basket2:\n",
    "            counter2[i] = counter2.get(i,0)+1\n",
    "            allcounter[i] = allcounter.get(i,0)+1\n",
    "            if allcounter[i] ==2:\n",
    "                del allcounter[i]\n",
    "        if allcounter:\n",
    "            return -1\n",
    "        for num,count in counter1.items():\n",
    "            if num in counter2:\n",
    "                tmp = min(counter1[num],counter2[num])\n",
    "                counter2[num] -= tmp\n",
    "                counter1[num] -= tmp\n",
    "        counter1 = {k: v for k, v in counter1.items() if v}\n",
    "        counter2 = {k: v for k, v in counter2.items() if v}\n",
    "        print(counter1,counter2)\n",
    "        ans = []\n",
    "        for k,v in counter1.items():\n",
    "            ans += [k]*(v//2)\n",
    "        for k,v in counter2.items():\n",
    "            ans += [k]*(v//2)\n",
    "        res = 0\n",
    "        ans.sort()\n",
    "        while ans:\n",
    "            if (minnum*2) > ans[0]:\n",
    "                res+=ans[0]\n",
    "            else:\n",
    "                res += (minnum*2)\n",
    "            del ans[0]\n",
    "            del ans[-1]\n",
    "        return res\n",
    "        "
   ]
  }
 ],
 "metadata": {
  "language_info": {
   "name": "python"
  },
  "orig_nbformat": 4
 },
 "nbformat": 4,
 "nbformat_minor": 2
}

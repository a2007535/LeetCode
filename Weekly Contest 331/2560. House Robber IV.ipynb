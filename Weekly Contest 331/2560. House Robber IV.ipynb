{
 "cells": [
  {
   "cell_type": "code",
   "execution_count": null,
   "metadata": {},
   "outputs": [],
   "source": [
    "class Solution:\n",
    "    def minCapability(self, A: List[int], k: int) -> int:\n",
    "        l, r = min(A), max(A)\n",
    "        while l < r:\n",
    "            m = (l + r) // 2\n",
    "            last = take = 0\n",
    "            for a in A:\n",
    "                if last:\n",
    "                    last = 0\n",
    "                    continue\n",
    "                if a <= m:\n",
    "                    take += 1\n",
    "                    last = 1\n",
    "            if take >= k:\n",
    "                r = m\n",
    "            else:\n",
    "                l = m + 1\n",
    "        return l"
   ]
  }
 ],
 "metadata": {
  "language_info": {
   "name": "python"
  },
  "orig_nbformat": 4
 },
 "nbformat": 4,
 "nbformat_minor": 2
}

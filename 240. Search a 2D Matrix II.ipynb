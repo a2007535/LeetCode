{
 "cells": [
  {
   "cell_type": "code",
   "execution_count": null,
   "metadata": {},
   "outputs": [],
   "source": [
    "##only for square matrix\n",
    "class Solution:\n",
    "    def findColandRow(self, matrix,low,high,target):\n",
    "        print(low,high)\n",
    "        if low == high:\n",
    "            return low\n",
    "        mid = (low+high)//2\n",
    "\n",
    "        if matrix[mid][mid] > target:\n",
    "            return self.findColandRow(matrix,low,mid,target)\n",
    "        elif matrix[mid][mid]<target:\n",
    "            return self.findColandRow(matrix,mid+1,high,target)\n",
    "        else:\n",
    "            return mid\n",
    "    def searchMatrix(self, matrix: List[List[int]], target: int) -> bool:\n",
    "        \n",
    "        x=self.findColandRow(matrix,0,len(matrix)-1,target)\n",
    "        x+=1\n",
    "        for i in range(x):\n",
    "            for j in range(x):\n",
    "                if matrix[i][j] == target or matrix[j][i]==target:\n",
    "                    return True\n",
    "        return False\n",
    "\n",
    "        "
   ]
  },
  {
   "cell_type": "code",
   "execution_count": null,
   "metadata": {},
   "outputs": [],
   "source": [
    "class Solution:\n",
    "    def DandC(self,matrix,rlow,rhigh,clow,chigh,target):\n",
    "        if rlow>=rhigh and clow>=chigh:\n",
    "            if matrix[rhigh][chigh] == target:\n",
    "                return True\n",
    "            else:\n",
    "                return False\n",
    "        cmid=(clow+chigh)//2\n",
    "        rmid=(rlow+rhigh)//2\n",
    "        a=self.DandC(matrix,rmid+1,rhigh,cmid+1,chigh,target)\n",
    "        b=self.DandC(matrix,rlow,rmid,cmid+1,chigh,target)\n",
    "        c=self.DandC(matrix,rmid+1,rhigh,clow,cmid,target)\n",
    "        d=self.DandC(matrix,rlow,rmid,clow,cmid,target)\n",
    "        return a or b or c or d\n",
    "    def searchMatrix(self, matrix: List[List[int]], target: int) -> bool:\n",
    "        return self.DandC(matrix,0,len(matrix)-1,0,len(matrix[0])-1,target)"
   ]
  }
 ],
 "metadata": {
  "kernelspec": {
   "display_name": "Python 3.9.6 64-bit",
   "language": "python",
   "name": "python3"
  },
  "language_info": {
   "name": "python",
   "version": "3.9.6"
  },
  "orig_nbformat": 4,
  "vscode": {
   "interpreter": {
    "hash": "31f2aee4e71d21fbe5cf8b01ff0e069b9275f58929596ceb00d14d90e3e16cd6"
   }
  }
 },
 "nbformat": 4,
 "nbformat_minor": 2
}

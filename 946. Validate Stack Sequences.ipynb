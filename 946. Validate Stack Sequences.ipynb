{
 "cells": [
  {
   "cell_type": "code",
   "execution_count": null,
   "metadata": {},
   "outputs": [],
   "source": [
    "class Solution:\n",
    "    def validateStackSequences(self, pushed: List[int], popped: List[int]) -> bool:\n",
    "        stack = []\n",
    "        for i in pushed:\n",
    "            stack.append(i)\n",
    "            while stack:\n",
    "                if stack[-1] == popped[0]:\n",
    "                    del stack[-1]\n",
    "                    del popped[0]\n",
    "                else:\n",
    "                    break\n",
    "        return True if not stack else False"
   ]
  }
 ],
 "metadata": {
  "language_info": {
   "name": "python"
  },
  "orig_nbformat": 4
 },
 "nbformat": 4,
 "nbformat_minor": 2
}

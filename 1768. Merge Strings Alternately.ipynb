{
 "cells": [
  {
   "cell_type": "code",
   "execution_count": null,
   "metadata": {},
   "outputs": [],
   "source": [
    "class Solution:\n",
    "    def mergeAlternately(self, word1: str, word2: str) -> str:\n",
    "        ans = \"\"\n",
    "        while word1 and word2:\n",
    "            ans = ans +word1[0] + word2[0]\n",
    "            word1 = word1[1:]\n",
    "            word2 = word2[1:]\n",
    "        if word1:\n",
    "            ans = ans + word1\n",
    "        if word2:\n",
    "            ans = ans + word2\n",
    "        return ans"
   ]
  }
 ],
 "metadata": {
  "language_info": {
   "name": "python"
  },
  "orig_nbformat": 4
 },
 "nbformat": 4,
 "nbformat_minor": 2
}

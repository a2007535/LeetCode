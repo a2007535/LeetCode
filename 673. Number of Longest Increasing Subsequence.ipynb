{
 "cells": [
  {
   "cell_type": "code",
   "execution_count": null,
   "metadata": {},
   "outputs": [],
   "source": [
    "class Solution:\n",
    "    def findNumberOfLIS(self, nums: List[int]) -> int:\n",
    "        dp1 = [1] *len(nums)\n",
    "        dp2 = [0] *len(nums)\n",
    "        for i in range(len(nums)):\n",
    "            for j in range(i):\n",
    "                if nums[j]<nums[i]:\n",
    "                    dp1[i] = max(dp1[i],dp1[j]+1)\n",
    "        for i in range(len(nums)):\n",
    "            for j in range(i):\n",
    "                if nums[j]<nums[i]:\n",
    "                    if dp1[i]-1 == dp1[j]:\n",
    "                        dp2[i]+=(dp2[j] or 1)\n",
    "        tmp = max(dp1)\n",
    "        ans = 0\n",
    "        for i in range(len(dp1)):\n",
    "            if dp1[i] == tmp:\n",
    "                ans += dp2[i] or 1\n",
    "        return ans"
   ]
  }
 ],
 "metadata": {
  "language_info": {
   "name": "python"
  },
  "orig_nbformat": 4
 },
 "nbformat": 4,
 "nbformat_minor": 2
}

{
 "cells": [
  {
   "cell_type": "code",
   "execution_count": null,
   "metadata": {},
   "outputs": [],
   "source": [
    "class Solution:\n",
    "    def intToRoman(self, num: int) -> str:\n",
    "        numdict = {\n",
    "            0:['','I','II','III','IV','V','VI','VII','VIII','IX'],\n",
    "            1:['','X','XX','XXX','XL','L','LX','LXX','LXXX','XC'],\n",
    "            2:['','C','CC','CCC','CD','D','DC','DCC','DCCC','CM'],\n",
    "            3:['','M','MM','MMM']\n",
    "        }\n",
    "        i = 0\n",
    "        ans = ''\n",
    "        while num != 0:\n",
    "            ans =  numdict[i][num%10] + ans\n",
    "            num //= 10\n",
    "            i+=1\n",
    "        return ans"
   ]
  }
 ],
 "metadata": {
  "language_info": {
   "name": "python"
  },
  "orig_nbformat": 4
 },
 "nbformat": 4,
 "nbformat_minor": 2
}

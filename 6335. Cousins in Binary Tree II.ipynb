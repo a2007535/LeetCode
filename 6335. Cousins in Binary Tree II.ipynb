{
 "cells": [
  {
   "cell_type": "code",
   "execution_count": null,
   "metadata": {},
   "outputs": [],
   "source": [
    "# Definition for a binary tree node.\n",
    "# class TreeNode:\n",
    "#     def __init__(self, val=0, left=None, right=None):\n",
    "#         self.val = val\n",
    "#         self.left = left\n",
    "#         self.right = right\n",
    "class Solution:\n",
    "    def replaceValueInTree(self, root: Optional[TreeNode]) -> Optional[TreeNode]:\n",
    "        treeDict = defaultdict(list)\n",
    "        def dfs(root,parent,depth):\n",
    "            if not root:\n",
    "                return\n",
    "            treeDict[depth].append((parent,root.val))\n",
    "            dfs(root.left,root,depth+1)\n",
    "            dfs(root.right,root,depth+1)\n",
    "        dfs(root,None,0)\n",
    "        def helper(root,parent,depth):\n",
    "            if not root:\n",
    "                return\n",
    "            tmp = 0\n",
    "            for (sameDepPar,sameDepVal) in treeDict[depth]:\n",
    "                if parent == None:\n",
    "                    root.val = None\n",
    "                if parent == sameDepPar:\n",
    "                    continue\n",
    "                else:\n",
    "                    tmp += sameDepVal\n",
    "            root.val = tmp\n",
    "            helper(root.left,root,depth+1)\n",
    "            helper(root.right,root,depth+1)\n",
    "        helper(root,None,0)\n",
    "        return root"
   ]
  }
 ],
 "metadata": {
  "language_info": {
   "name": "python"
  },
  "orig_nbformat": 4
 },
 "nbformat": 4,
 "nbformat_minor": 2
}

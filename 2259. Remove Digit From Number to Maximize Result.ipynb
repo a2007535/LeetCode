{
 "cells": [
  {
   "cell_type": "code",
   "execution_count": null,
   "metadata": {},
   "outputs": [],
   "source": [
    "class Solution:\n",
    "    def removeDigit(self, number: str, digit: str) -> str:\n",
    "        templen = len(number)\n",
    "        number = list(number)\n",
    "        tempindex = 0\n",
    "        for i,n in enumerate(number):\n",
    "            if n == digit:\n",
    "                tempindex = i\n",
    "                if i != len(number)-1:\n",
    "                    if number[i+1]>number[i]:\n",
    "                        del number[i]\n",
    "                        break\n",
    "                else:\n",
    "                    break\n",
    "        if len(number) == templen:\n",
    "            del number[tempindex]\n",
    "        return ''.join(number)"
   ]
  }
 ],
 "metadata": {
  "language_info": {
   "name": "python"
  },
  "orig_nbformat": 4
 },
 "nbformat": 4,
 "nbformat_minor": 2
}

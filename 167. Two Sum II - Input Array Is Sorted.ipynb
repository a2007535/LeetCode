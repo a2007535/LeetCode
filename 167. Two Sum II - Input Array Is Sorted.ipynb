{
 "cells": [
  {
   "cell_type": "code",
   "execution_count": null,
   "metadata": {},
   "outputs": [],
   "source": [
    "class Solution:\n",
    "    def twoSum(self, numbers: List[int], target: int) -> List[int]:\n",
    "        L, R = 0, len(numbers)-1\n",
    "        while (R > L):\n",
    "            if numbers[L] + numbers[R] == target:\n",
    "                return [L+1,R+1]\n",
    "            elif numbers[L] + numbers[R] > target:\n",
    "                R-=1\n",
    "            else:\n",
    "                L+=1"
   ]
  }
 ],
 "metadata": {
  "kernelspec": {
   "display_name": "Python 3",
   "language": "python",
   "name": "python3"
  },
  "language_info": {
   "name": "python",
   "version": "3.11.1"
  },
  "orig_nbformat": 4,
  "vscode": {
   "interpreter": {
    "hash": "c36892433cb4678e8e18e102d61482daaf1eaa7c72471b8a896202a24f4706d1"
   }
  }
 },
 "nbformat": 4,
 "nbformat_minor": 2
}

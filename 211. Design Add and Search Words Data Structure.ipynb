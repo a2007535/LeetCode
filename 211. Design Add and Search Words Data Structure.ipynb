{
 "cells": [
  {
   "cell_type": "code",
   "execution_count": null,
   "metadata": {},
   "outputs": [],
   "source": [
    "class Node:\n",
    "    def __init__(self):\n",
    "        self.children={}\n",
    "        self.isEnd=False\n",
    "class WordDictionary:\n",
    "    def __init__(self):\n",
    "        self.root=Node()\n",
    "\n",
    "    def addWord(self, word: str) -> None:\n",
    "        temp=self.root\n",
    "        for i in word:\n",
    "            if i not in temp.children:\n",
    "                tempNode=Node()\n",
    "                temp.children[i]=tempNode\n",
    "            temp=temp.children[i]\n",
    "        temp.isEnd=True\n",
    "    def search(self, word: str) -> bool:\n",
    "        self.res=False\n",
    "        self.DFS(word,self.root)\n",
    "        return self.res\n",
    "    \n",
    "    def DFS(self,word,node):\n",
    "        if not word:\n",
    "            if node.isEnd:\n",
    "                self.res=True\n",
    "            return\n",
    "        if word[0] == '.':\n",
    "            for i in node.children.values():\n",
    "                self.DFS(word[1:],i)\n",
    "        else:\n",
    "            if word[0] in node.children:\n",
    "                self.DFS(word[1:],node.children[word[0]])    \n",
    "            else:\n",
    "                return\n",
    "\n",
    "\n",
    "# Your WordDictionary object will be instantiated and called as such:\n",
    "# obj = WordDictionary()\n",
    "# obj.addWord(word)\n",
    "# param_2 = obj.search(word)"
   ]
  },
  {
   "cell_type": "code",
   "execution_count": 9,
   "metadata": {},
   "outputs": [
    {
     "name": "stdout",
     "output_type": "stream",
     "text": [
      "123\n"
     ]
    }
   ],
   "source": [
    "word='0123'\n",
    "word=word[1:]\n",
    "word=word[1:]\n",
    "word=word[1:]\n",
    "word=word[1:]\n",
    "word\n",
    "if not word:\n",
    "    print(\"123\")"
   ]
  },
  {
   "cell_type": "code",
   "execution_count": null,
   "metadata": {},
   "outputs": [],
   "source": []
  }
 ],
 "metadata": {
  "kernelspec": {
   "display_name": "Python 3.8.9 64-bit",
   "language": "python",
   "name": "python3"
  },
  "language_info": {
   "codemirror_mode": {
    "name": "ipython",
    "version": 3
   },
   "file_extension": ".py",
   "mimetype": "text/x-python",
   "name": "python",
   "nbconvert_exporter": "python",
   "pygments_lexer": "ipython3",
   "version": "3.9.6"
  },
  "orig_nbformat": 4,
  "vscode": {
   "interpreter": {
    "hash": "31f2aee4e71d21fbe5cf8b01ff0e069b9275f58929596ceb00d14d90e3e16cd6"
   }
  }
 },
 "nbformat": 4,
 "nbformat_minor": 2
}

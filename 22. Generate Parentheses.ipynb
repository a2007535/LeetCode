{
 "cells": [
  {
   "cell_type": "code",
   "execution_count": null,
   "metadata": {},
   "outputs": [],
   "source": [
    "class Solution:\n",
    "    def generateParenthesis(self, n: int) -> List[str]:\n",
    "        left = 0\n",
    "        right = 0\n",
    "        self.ans = []\n",
    "        def dp(left,right,string,n):\n",
    "            if left == n and right == n:\n",
    "                self.ans.append(string)\n",
    "                return\n",
    "            if left != n:\n",
    "                dp(left+1,right,string+\"(\",n)\n",
    "            if left > right:\n",
    "                dp(left,right+1,string+\")\",n)\n",
    "        dp(0,0,\"\",n)\n",
    "        return self.ans"
   ]
  }
 ],
 "metadata": {
  "language_info": {
   "name": "python"
  },
  "orig_nbformat": 4
 },
 "nbformat": 4,
 "nbformat_minor": 2
}

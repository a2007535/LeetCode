{
 "cells": [
  {
   "cell_type": "code",
   "execution_count": null,
   "metadata": {},
   "outputs": [],
   "source": [
    "class Solution:\n",
    "    def passThePillow(self, n: int, time: int) -> int:\n",
    "        temp = (n-2)*2+2\n",
    "        if time % temp == 0:\n",
    "            return 1\n",
    "        elif time % temp == n-1:\n",
    "            return n\n",
    "        elif time % temp > n-1:\n",
    "            return n-(time%temp - n+1)\n",
    "        else:\n",
    "            return n+(time%temp- n+1)\n",
    "            "
   ]
  }
 ],
 "metadata": {
  "language_info": {
   "name": "python"
  },
  "orig_nbformat": 4
 },
 "nbformat": 4,
 "nbformat_minor": 2
}

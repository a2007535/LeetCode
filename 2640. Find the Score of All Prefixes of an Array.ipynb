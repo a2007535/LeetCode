{
 "cells": [
  {
   "cell_type": "code",
   "execution_count": null,
   "metadata": {},
   "outputs": [],
   "source": [
    "class Solution:\n",
    "    def findPrefixScore(self, nums: List[int]) -> List[int]:\n",
    "        ans = []\n",
    "        maxVal = 0\n",
    "        res = 0\n",
    "        for i in nums:\n",
    "            res += i\n",
    "            maxVal = max(maxVal, i)\n",
    "            res += maxVal\n",
    "            ans.append(res)\n",
    "        return ans"
   ]
  }
 ],
 "metadata": {
  "language_info": {
   "name": "python"
  },
  "orig_nbformat": 4
 },
 "nbformat": 4,
 "nbformat_minor": 2
}

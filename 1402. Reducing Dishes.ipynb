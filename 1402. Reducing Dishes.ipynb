{
 "cells": [
  {
   "cell_type": "code",
   "execution_count": 6,
   "metadata": {},
   "outputs": [
    {
     "name": "stdout",
     "output_type": "stream",
     "text": [
      "3\n"
     ]
    }
   ],
   "source": [
    "class Solution:\n",
    "    def maxSatisfaction(self, satisfaction: List[int]) -> int:\n",
    "        sat = sorted(satisfaction)\n",
    "        sat = sat[::-1]\n",
    "        sat_sum = 0\n",
    "        lastElement = True\n",
    "        for i in range(len(sat)):\n",
    "            if sat[i]+sat_sum >= 0:\n",
    "                sat_sum += sat[i]\n",
    "            else:\n",
    "                lastElement = False\n",
    "                break\n",
    "        print(i)\n",
    "        if i == len(sat)-1 and lastElement:\n",
    "            i+=1\n",
    "        sat = sat[:i][::-1]\n",
    "        ans = 0\n",
    "        for i in range(len(sat)):\n",
    "            ans = ans + sat[i]*(i+1)\n",
    "        return ans"
   ]
  },
  {
   "cell_type": "code",
   "execution_count": null,
   "metadata": {},
   "outputs": [],
   "source": []
  }
 ],
 "metadata": {
  "kernelspec": {
   "display_name": "Python 3",
   "language": "python",
   "name": "python3"
  },
  "language_info": {
   "name": "python",
   "version": "3.11.1"
  },
  "orig_nbformat": 4,
  "vscode": {
   "interpreter": {
    "hash": "c36892433cb4678e8e18e102d61482daaf1eaa7c72471b8a896202a24f4706d1"
   }
  }
 },
 "nbformat": 4,
 "nbformat_minor": 2
}

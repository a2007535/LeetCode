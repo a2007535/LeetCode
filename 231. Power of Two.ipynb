{
 "cells": [
  {
   "cell_type": "code",
   "execution_count": null,
   "metadata": {},
   "outputs": [],
   "source": [
    "class Solution:\n",
    "    def isPowerOfTwo(self, n: int) -> bool:\n",
    "        if n <0:\n",
    "            return False\n",
    "        s = format(n,'b')\n",
    "        s= str(s)\n",
    "        counter = Counter(s)\n",
    "        return counter['1'] == 1"
   ]
  }
 ],
 "metadata": {
  "language_info": {
   "name": "python"
  },
  "orig_nbformat": 4
 },
 "nbformat": 4,
 "nbformat_minor": 2
}

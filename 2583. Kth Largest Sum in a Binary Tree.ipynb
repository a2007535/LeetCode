{
 "cells": [
  {
   "cell_type": "code",
   "execution_count": null,
   "metadata": {},
   "outputs": [],
   "source": [
    "# Definition for a binary tree node.\n",
    "# class TreeNode:\n",
    "#     def __init__(self, val=0, left=None, right=None):\n",
    "#         self.val = val\n",
    "#         self.left = left\n",
    "#         self.right = right\n",
    "class Solution:\n",
    "    def kthLargestLevelSum(self, root: Optional[TreeNode], k: int) -> int:\n",
    "        self.maxVal = 0\n",
    "        self.ans = 0\n",
    "        self.dict = {}\n",
    "        def helper(root,level):\n",
    "            if not root:\n",
    "                return \n",
    "            self.dict[level] = self.dict.get(level,0) + root.val\n",
    "            helper(root.left,level+1)\n",
    "            helper(root.right,level+1)\n",
    "        helper(root,0)\n",
    "        res = sorted(list(self.dict.values()))\n",
    "        return -1 if k > len(res) else res[-k]\n",
    "            \n",
    "    "
   ]
  }
 ],
 "metadata": {
  "language_info": {
   "name": "python"
  },
  "orig_nbformat": 4
 },
 "nbformat": 4,
 "nbformat_minor": 2
}

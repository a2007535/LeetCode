{
 "cells": [
  {
   "cell_type": "code",
   "execution_count": null,
   "metadata": {},
   "outputs": [],
   "source": [
    "# Definition for a binary tree node.\n",
    "# class TreeNode:\n",
    "#     def __init__(self, val=0, left=None, right=None):\n",
    "#         self.val = val\n",
    "#         self.left = left\n",
    "#         self.right = right\n",
    "class Solution:\n",
    "    def BFS(self, root1,root2):\n",
    "        if root1 == None and root2 == None:\n",
    "            return None\n",
    "        if root1 == None and root2 != None:\n",
    "            return root2\n",
    "        if root1 != None and root2 == None:\n",
    "            return root1\n",
    "        else:\n",
    "            root1.val += root2.val\n",
    "            root1.left=self.BFS(root1.left,root2.left)\n",
    "            root1.right=self.BFS(root1.right,root2.right)\n",
    "            return root1\n",
    "    def mergeTrees(self, root1: Optional[TreeNode], root2: Optional[TreeNode]) -> Optional[TreeNode]:\n",
    "        return self.BFS(root1,root2)"
   ]
  }
 ],
 "metadata": {
  "kernelspec": {
   "display_name": "Python 3.8.9 64-bit",
   "language": "python",
   "name": "python3"
  },
  "language_info": {
   "name": "python",
   "version": "3.8.9"
  },
  "orig_nbformat": 4,
  "vscode": {
   "interpreter": {
    "hash": "31f2aee4e71d21fbe5cf8b01ff0e069b9275f58929596ceb00d14d90e3e16cd6"
   }
  }
 },
 "nbformat": 4,
 "nbformat_minor": 2
}

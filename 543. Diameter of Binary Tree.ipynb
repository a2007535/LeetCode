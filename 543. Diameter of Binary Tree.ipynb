{
 "cells": [
  {
   "cell_type": "code",
   "execution_count": null,
   "metadata": {},
   "outputs": [],
   "source": [
    "# Definition for a binary tree node.\n",
    "# class TreeNode:\n",
    "#     def __init__(self, val=0, left=None, right=None):\n",
    "#         self.val = val\n",
    "#         self.left = left\n",
    "#         self.right = right\n",
    "class Solution:\n",
    "    def diameterOfBinaryTree(self, root: Optional[TreeNode]) -> int:\n",
    "        self.ans = 0\n",
    "        def helper(root):\n",
    "            if not root:\n",
    "                return 0\n",
    "            leftdeep = helper(root.left)\n",
    "            rightdeep = helper(root.right)\n",
    "            self.ans = max(self.ans, leftdeep + rightdeep)\n",
    "            return max(leftdeep,rightdeep)+1\n",
    "        helper(root)\n",
    "        return self.ans\n",
    "        # return 0"
   ]
  }
 ],
 "metadata": {
  "language_info": {
   "name": "python"
  },
  "orig_nbformat": 4
 },
 "nbformat": 4,
 "nbformat_minor": 2
}

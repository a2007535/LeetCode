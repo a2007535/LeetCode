{
 "cells": [
  {
   "cell_type": "code",
   "execution_count": null,
   "metadata": {},
   "outputs": [],
   "source": [
    "class Solution:\n",
    "    def reorganizeString(self, s: str) -> str:\n",
    "        counter = Counter(s)\n",
    "        heapq = []\n",
    "        for char, count in counter.items():\n",
    "            heappush(heapq,(-count,char))\n",
    "        ans = \"\"\n",
    "        while len(heapq)>1:\n",
    "            count1,char1 = heappop(heapq)\n",
    "            count2,char2 = heappop(heapq)\n",
    "            if count1+1 != 0:\n",
    "                heappush(heapq,(count1+1,char1))\n",
    "            if count2+1 != 0:\n",
    "                heappush(heapq,(count2+1,char2))\n",
    "            ans+= char1 + char2\n",
    "        # print(heapq)\n",
    "        if heapq:\n",
    "            count,char = heappop(heapq)\n",
    "            if not ans and count==-1:\n",
    "                return char\n",
    "            if count == -1 and ans[-1] != char:\n",
    "                ans+=char\n",
    "            else:\n",
    "                return \"\"\n",
    "        # print(ans)\n",
    "        # print(heapq)\n",
    "        return ans"
   ]
  }
 ],
 "metadata": {
  "language_info": {
   "name": "python"
  },
  "orig_nbformat": 4
 },
 "nbformat": 4,
 "nbformat_minor": 2
}

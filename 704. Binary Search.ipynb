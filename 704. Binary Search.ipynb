{
 "cells": [
  {
   "cell_type": "code",
   "execution_count": null,
   "metadata": {},
   "outputs": [],
   "source": [
    "class Solution:\n",
    "    def search(self, nums: List[int], target: int) -> int:\n",
    "        highIndex = len(nums)\n",
    "        lowIndex = 0\n",
    "        while highIndex > lowIndex:\n",
    "            mid=(highIndex+lowIndex)//2\n",
    "            if target > nums[mid]:\n",
    "                lowIndex = mid+1\n",
    "            elif target < nums[mid]:\n",
    "                highIndex = mid\n",
    "            else:\n",
    "                return mid\n",
    "        return -1\n",
    "            "
   ]
  }
 ],
 "metadata": {
  "language_info": {
   "name": "python"
  },
  "orig_nbformat": 4
 },
 "nbformat": 4,
 "nbformat_minor": 2
}

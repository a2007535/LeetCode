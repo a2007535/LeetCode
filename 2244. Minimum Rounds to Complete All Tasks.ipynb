{
 "cells": [
  {
   "cell_type": "code",
   "execution_count": 1,
   "metadata": {},
   "outputs": [
    {
     "ename": "NameError",
     "evalue": "name 'List' is not defined",
     "output_type": "error",
     "traceback": [
      "\u001b[0;31m---------------------------------------------------------------------------\u001b[0m",
      "\u001b[0;31mNameError\u001b[0m                                 Traceback (most recent call last)",
      "Cell \u001b[0;32mIn [1], line 1\u001b[0m\n\u001b[0;32m----> 1\u001b[0m \u001b[39mclass\u001b[39;00m \u001b[39mSolution\u001b[39;00m:\n\u001b[1;32m      2\u001b[0m     \u001b[39mdef\u001b[39;00m \u001b[39mminimumRounds\u001b[39m(\u001b[39mself\u001b[39m, tasks: List[\u001b[39mint\u001b[39m]) \u001b[39m-\u001b[39m\u001b[39m>\u001b[39m \u001b[39mint\u001b[39m:\n\u001b[1;32m      3\u001b[0m         taskDict\u001b[39m=\u001b[39m{}\n",
      "Cell \u001b[0;32mIn [1], line 2\u001b[0m, in \u001b[0;36mSolution\u001b[0;34m()\u001b[0m\n\u001b[1;32m      1\u001b[0m \u001b[39mclass\u001b[39;00m \u001b[39mSolution\u001b[39;00m:\n\u001b[0;32m----> 2\u001b[0m     \u001b[39mdef\u001b[39;00m \u001b[39mminimumRounds\u001b[39m(\u001b[39mself\u001b[39m, tasks: List[\u001b[39mint\u001b[39m]) \u001b[39m-\u001b[39m\u001b[39m>\u001b[39m \u001b[39mint\u001b[39m:\n\u001b[1;32m      3\u001b[0m         taskDict\u001b[39m=\u001b[39m{}\n\u001b[1;32m      4\u001b[0m         ans\u001b[39m=\u001b[39m\u001b[39m0\u001b[39m\n",
      "\u001b[0;31mNameError\u001b[0m: name 'List' is not defined"
     ]
    }
   ],
   "source": [
    "class Solution:\n",
    "    def minimumRounds(self, tasks: List[int]) -> int:\n",
    "        taskDict={}\n",
    "        ans=0\n",
    "        for i in tasks:\n",
    "            if i not in taskDict:\n",
    "                taskDict[i]=1\n",
    "            else:\n",
    "                taskDict[i]+=1\n",
    "        # 2%3=2 [1,0]\n",
    "        # 3%3=0 [0,1]\n",
    "        # 4%3=1 [2,0]\n",
    "        # 5%3=2 [1,1]\n",
    "        # 6%3=0 [0,2]\n",
    "        for i in taskDict.values():\n",
    "            if i < 2:\n",
    "                return -1\n",
    "            if i%3==0:\n",
    "                ans+= (i//3)\n",
    "            else:\n",
    "                ans+=(i//3)+1\n",
    "        return ans"
   ]
  },
  {
   "cell_type": "code",
   "execution_count": null,
   "metadata": {},
   "outputs": [],
   "source": [
    "class Solution:\n",
    "    def minimumRounds(self, tasks: List[int]) -> int:\n",
    "        ans=0\n",
    "        for i in Counter(tasks).values():\n",
    "            if i == 1:\n",
    "                return -1\n",
    "            else:\n",
    "                ans += (i+2)//3\n",
    "        return ans"
   ]
  }
 ],
 "metadata": {
  "kernelspec": {
   "display_name": "Python 3",
   "language": "python",
   "name": "python3"
  },
  "language_info": {
   "codemirror_mode": {
    "name": "ipython",
    "version": 3
   },
   "file_extension": ".py",
   "mimetype": "text/x-python",
   "name": "python",
   "nbconvert_exporter": "python",
   "pygments_lexer": "ipython3",
   "version": "3.9.6 (default, Sep 13 2022, 22:03:16) \n[Clang 14.0.0 (clang-1400.0.29.102)]"
  },
  "orig_nbformat": 4,
  "vscode": {
   "interpreter": {
    "hash": "31f2aee4e71d21fbe5cf8b01ff0e069b9275f58929596ceb00d14d90e3e16cd6"
   }
  }
 },
 "nbformat": 4,
 "nbformat_minor": 2
}

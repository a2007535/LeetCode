{
 "cells": [
  {
   "cell_type": "code",
   "execution_count": null,
   "metadata": {},
   "outputs": [],
   "source": [
    "class Solution:\n",
    "    def minimizeArrayValue(self, nums: List[int]) -> int:\n",
    "        total = 0\n",
    "        ans = 0\n",
    "        for i,n in enumerate(nums):\n",
    "            total += n\n",
    "            ans = max(ans,ceil(total/(i+1)))\n",
    "        return ans\n",
    "        "
   ]
  }
 ],
 "metadata": {
  "language_info": {
   "name": "python"
  },
  "orig_nbformat": 4
 },
 "nbformat": 4,
 "nbformat_minor": 2
}

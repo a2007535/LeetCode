{
 "cells": [
  {
   "cell_type": "code",
   "execution_count": null,
   "metadata": {},
   "outputs": [],
   "source": [
    "class Solution:\n",
    "    def numRollsToTarget(self, n: int, k: int, target: int) -> int:\n",
    "        modulo = 10**9+7\n",
    "        \n",
    "        @lru_cache(None)\n",
    "        def helper(nn,tt):\n",
    "            if nn == 0:\n",
    "                if tt == 0:\n",
    "                    return 1\n",
    "                return 0\n",
    "            ans = 0\n",
    "            for i in range(1,k+1):\n",
    "                ans += helper(nn-1,tt-i)\n",
    "                ans %= modulo\n",
    "            return ans%modulo\n",
    "        return helper(n,target)"
   ]
  }
 ],
 "metadata": {
  "language_info": {
   "name": "python"
  },
  "orig_nbformat": 4
 },
 "nbformat": 4,
 "nbformat_minor": 2
}

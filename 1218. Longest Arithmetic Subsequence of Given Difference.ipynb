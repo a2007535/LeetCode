{
 "cells": [
  {
   "cell_type": "code",
   "execution_count": null,
   "metadata": {},
   "outputs": [],
   "source": [
    "class Solution:\n",
    "    def longestSubsequence(self, arr: List[int], difference: int) -> int:\n",
    "        dp = {}\n",
    "        for i in arr:\n",
    "            if i-difference in dp:\n",
    "                dp[i] = dp[i-difference]+1\n",
    "            else:\n",
    "                dp[i]=1\n",
    "        return max(dp.values())"
   ]
  }
 ],
 "metadata": {
  "language_info": {
   "name": "python"
  },
  "orig_nbformat": 4
 },
 "nbformat": 4,
 "nbformat_minor": 2
}

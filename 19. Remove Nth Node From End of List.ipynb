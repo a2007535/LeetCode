{
 "cells": [
  {
   "cell_type": "code",
   "execution_count": null,
   "metadata": {},
   "outputs": [],
   "source": [
    "# Definition for singly-linked list.\n",
    "# class ListNode:\n",
    "#     def __init__(self, val=0, next=None):\n",
    "#         self.val = val\n",
    "#         self.next = next\n",
    "class Solution:\n",
    "    def DFS(self,target,head):\n",
    "        if head == None:\n",
    "            return 1\n",
    "\n",
    "        a=self.DFS(target,head.next)\n",
    "        print(head.val,target,a)\n",
    "        if target == a:\n",
    "            self.isHead=1\n",
    "        if target+1 == a:\n",
    "            self.isHead=0\n",
    "            head.next=head.next.next\n",
    "        return a+1\n",
    "    def removeNthFromEnd(self, head: Optional[ListNode], n: int) -> Optional[ListNode]:\n",
    "        self.isHead=0\n",
    "        if head.next == None:\n",
    "            return None\n",
    "        self.head=head\n",
    "        self.DFS(n,self.head)\n",
    "        if self.isHead==1:\n",
    "            self.head=self.head.next\n",
    "        return self.head"
   ]
  }
 ],
 "metadata": {
  "kernelspec": {
   "display_name": "Python 3.8.9 64-bit",
   "language": "python",
   "name": "python3"
  },
  "language_info": {
   "name": "python",
   "version": "3.8.9"
  },
  "orig_nbformat": 4,
  "vscode": {
   "interpreter": {
    "hash": "31f2aee4e71d21fbe5cf8b01ff0e069b9275f58929596ceb00d14d90e3e16cd6"
   }
  }
 },
 "nbformat": 4,
 "nbformat_minor": 2
}

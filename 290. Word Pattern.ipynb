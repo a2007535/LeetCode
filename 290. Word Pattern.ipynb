{
 "cells": [
  {
   "cell_type": "code",
   "execution_count": null,
   "metadata": {},
   "outputs": [],
   "source": [
    "class Solution:\n",
    "    def wordPattern(self, pattern: str, s: str) -> bool:\n",
    "        setA=set()\n",
    "        setB=set()\n",
    "        setC=set()\n",
    "        s=s.split(' ')\n",
    "        if len(s) != len(pattern):\n",
    "            return False\n",
    "        for i,j in zip(pattern,s):\n",
    "            if i in setA or j in setB:\n",
    "                if (i,j) in setC:\n",
    "                    continue\n",
    "                else:\n",
    "                    return False\n",
    "            else:\n",
    "                setA.add(i)\n",
    "                setB.add(j)\n",
    "                setC.add((i,j))\n",
    "        return True"
   ]
  }
 ],
 "metadata": {
  "language_info": {
   "name": "python"
  },
  "orig_nbformat": 4
 },
 "nbformat": 4,
 "nbformat_minor": 2
}

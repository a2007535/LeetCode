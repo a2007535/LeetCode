{
 "cells": [
  {
   "cell_type": "code",
   "execution_count": null,
   "metadata": {},
   "outputs": [],
   "source": [
    "class Solution:\n",
    "    def diStringMatch(self, s: str) -> List[int]:\n",
    "        ans = []\n",
    "        bigNum = len(s)\n",
    "        smallNum = 0\n",
    "        for i in s:\n",
    "            if i == \"D\":\n",
    "                ans.append(bigNum)\n",
    "                bigNum -=1\n",
    "            else:\n",
    "                ans.append(smallNum)\n",
    "                smallNum +=1\n",
    "        ans.append(bigNum)\n",
    "        return ans"
   ]
  }
 ],
 "metadata": {
  "language_info": {
   "name": "python"
  },
  "orig_nbformat": 4
 },
 "nbformat": 4,
 "nbformat_minor": 2
}

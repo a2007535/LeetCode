{
 "cells": [
  {
   "cell_type": "code",
   "execution_count": null,
   "metadata": {},
   "outputs": [],
   "source": [
    "#Without Queue package\n",
    "\"\"\"\n",
    "# Definition for a Node.\n",
    "class Node:\n",
    "    def __init__(self, val: int = 0, left: 'Node' = None, right: 'Node' = None, next: 'Node' = None):\n",
    "        self.val = val\n",
    "        self.left = left\n",
    "        self.right = right\n",
    "        self.next = next\n",
    "\"\"\"\n",
    "class Solution:\n",
    "    def DFS(self, root, height):\n",
    "        if root == None:\n",
    "            return\n",
    "        if height >= len(self.height) :\n",
    "            self.height.append([root])\n",
    "        else:\n",
    "            self.height[height].append(root)\n",
    "        self.DFS(root.left,height+1)\n",
    "        self.DFS(root.right,height+1)\n",
    "    def connect(self, root: 'Optional[Node]') -> 'Optional[Node]':\n",
    "        self.height=[[]]\n",
    "        self.DFS(root,0)\n",
    "        for i in range(len(self.height)):\n",
    "            for j in range(len(self.height[i])):\n",
    "                if j == len(self.height[i])-1:\n",
    "                    self.height[i][j].next = None\n",
    "                else:\n",
    "                    self.height[i][j].next = self.height[i][j+1]\n",
    "        return root\n",
    "        "
   ]
  }
 ],
 "metadata": {
  "kernelspec": {
   "display_name": "Python 3.8.9 64-bit",
   "language": "python",
   "name": "python3"
  },
  "language_info": {
   "name": "python",
   "version": "3.8.9"
  },
  "orig_nbformat": 4,
  "vscode": {
   "interpreter": {
    "hash": "31f2aee4e71d21fbe5cf8b01ff0e069b9275f58929596ceb00d14d90e3e16cd6"
   }
  }
 },
 "nbformat": 4,
 "nbformat_minor": 2
}

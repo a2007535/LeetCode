{
 "cells": [
  {
   "cell_type": "code",
   "execution_count": null,
   "metadata": {},
   "outputs": [],
   "source": [
    "class Solution:\n",
    "    def DFS(self, grid,x,y):\n",
    "\n",
    "        if y > self.yLength or y < 0:\n",
    "            return 0\n",
    "        if x > self.xLength or x < 0:\n",
    "            return 0\n",
    "        if grid[y][x] != 1:\n",
    "            return 0\n",
    "        grid[y][x] = 0\n",
    "        \n",
    "        return(1 + self.DFS(grid,x+1,y)+ self.DFS(grid,x-1,y)+ self.DFS(grid,x,y+1)+ self.DFS(grid,x,y-1))\n",
    "    def maxAreaOfIsland(self, grid: List[List[int]]) -> int:\n",
    "        maxCount=0\n",
    "        self.xLength = len(grid[0])-1\n",
    "        self.yLength = len(grid)-1\n",
    "        for i in range(len(grid)):\n",
    "            for j in range(len(grid[0])):\n",
    "                if grid[i][j] == 1 :\n",
    "                    maxCount = max(self.DFS(grid,j,i),maxCount)\n",
    "        return maxCount"
   ]
  }
 ],
 "metadata": {
  "language_info": {
   "name": "python"
  },
  "orig_nbformat": 4
 },
 "nbformat": 4,
 "nbformat_minor": 2
}

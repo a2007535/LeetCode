{
 "cells": [
  {
   "cell_type": "code",
   "execution_count": null,
   "metadata": {},
   "outputs": [],
   "source": [
    "class Solution:\n",
    "    def DFS(self, image, sr,sc,color,oriColor):\n",
    "        if image[sr][sc]==color:\n",
    "            return\n",
    "        if sr > len(image)-1 or sr < 0:\n",
    "            return\n",
    "        if sc > len(image[0])-1 or sc < 0:\n",
    "            return \n",
    "        \n",
    "        if image[sr][sc] == oriColor:\n",
    "            image[sr][sc] = color\n",
    "        else:\n",
    "            return\n",
    "        self.DFS(image,sr+1,sc,color,oriColor)\n",
    "        self.DFS(image,sr,sc-1,color,oriColor)\n",
    "        self.DFS(image,sr,sc+1,color,oriColor)\n",
    "        self.DFS(image,sr-1,sc,color,oriColor)\n",
    "        \n",
    "    def floodFill(self, image: List[List[int]], sr: int, sc: int, color: int) -> List[List[int]]:\n",
    "        self.DFS(image,sr,sc,color,image[sr][sc])\n",
    "        return image"
   ]
  },
  {
   "cell_type": "code",
   "execution_count": null,
   "metadata": {},
   "outputs": [],
   "source": []
  },
  {
   "cell_type": "code",
   "execution_count": null,
   "metadata": {},
   "outputs": [],
   "source": []
  }
 ],
 "metadata": {
  "kernelspec": {
   "display_name": "Python 3.8.9 64-bit",
   "language": "python",
   "name": "python3"
  },
  "language_info": {
   "codemirror_mode": {
    "name": "ipython",
    "version": 3
   },
   "file_extension": ".py",
   "mimetype": "text/x-python",
   "name": "python",
   "nbconvert_exporter": "python",
   "pygments_lexer": "ipython3",
   "version": "3.8.9"
  },
  "orig_nbformat": 4,
  "vscode": {
   "interpreter": {
    "hash": "31f2aee4e71d21fbe5cf8b01ff0e069b9275f58929596ceb00d14d90e3e16cd6"
   }
  }
 },
 "nbformat": 4,
 "nbformat_minor": 2
}

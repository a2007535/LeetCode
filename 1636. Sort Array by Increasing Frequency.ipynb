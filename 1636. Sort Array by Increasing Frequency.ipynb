{
 "cells": [
  {
   "cell_type": "code",
   "execution_count": null,
   "metadata": {},
   "outputs": [],
   "source": [
    "class Solution:\n",
    "    def frequencySort(self, nums: List[int]) -> List[int]:\n",
    "        numsDict = {}\n",
    "        numsDict_2 = {}\n",
    "        timesList=[]\n",
    "        ans=[]\n",
    "        for i in nums:\n",
    "            if i not in numsDict:\n",
    "                numsDict[i]=1\n",
    "            else:\n",
    "                numsDict[i]+=1\n",
    "        for i in numsDict.items():\n",
    "            if i[1] not in numsDict_2:\n",
    "                timesList.append(i[1])\n",
    "                numsDict_2[i[1]] = [i[0]]\n",
    "            else:\n",
    "                numsDict_2[i[1]].append(i[0])\n",
    "        \n",
    "        timesList.sort()\n",
    "        for i in timesList:\n",
    "            numsDict_2[i].sort(reverse=True)\n",
    "            for j in numsDict_2[i]:\n",
    "                tmp = [j]*i\n",
    "                ans=ans+tmp\n",
    "        return ans\n",
    "                "
   ]
  }
 ],
 "metadata": {
  "kernelspec": {
   "display_name": "Python 3.8.9 64-bit",
   "language": "python",
   "name": "python3"
  },
  "language_info": {
   "name": "python",
   "version": "3.8.9"
  },
  "orig_nbformat": 4,
  "vscode": {
   "interpreter": {
    "hash": "31f2aee4e71d21fbe5cf8b01ff0e069b9275f58929596ceb00d14d90e3e16cd6"
   }
  }
 },
 "nbformat": 4,
 "nbformat_minor": 2
}

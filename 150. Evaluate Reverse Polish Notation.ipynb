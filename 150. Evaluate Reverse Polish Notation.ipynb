{
 "cells": [
  {
   "cell_type": "code",
   "execution_count": 6,
   "metadata": {},
   "outputs": [
    {
     "data": {
      "text/plain": [
       "-1"
      ]
     },
     "execution_count": 6,
     "metadata": {},
     "output_type": "execute_result"
    }
   ],
   "source": [
    "class Solution:\n",
    "    def evalRPN(self, tokens: List[str]) -> int:\n",
    "        stack = []\n",
    "        sign = \"+-*/\"\n",
    "        for i in tokens:\n",
    "            if i in sign:\n",
    "                temp1 = stack[-1]\n",
    "                temp2 = stack[-2]\n",
    "                del stack[-1]\n",
    "                del stack[-1]\n",
    "                if i == '+':\n",
    "                    temp = temp2+temp1\n",
    "                elif i == '-':\n",
    "                    temp = temp2-temp1\n",
    "                elif i == '*':\n",
    "                    temp = temp2*temp1\n",
    "                elif i == '/':\n",
    "                    temp = temp2/temp1\n",
    "                    if temp%1 != 0:\n",
    "                        if temp >=0:\n",
    "                            temp =temp//1\n",
    "                        else:\n",
    "                            temp = temp //1 +1\n",
    "                stack.append(int(temp))\n",
    "            else:\n",
    "                stack.append(int(i))\n",
    "        return stack[0]"
   ]
  },
  {
   "cell_type": "code",
   "execution_count": null,
   "metadata": {},
   "outputs": [],
   "source": []
  }
 ],
 "metadata": {
  "kernelspec": {
   "display_name": "Python 3",
   "language": "python",
   "name": "python3"
  },
  "language_info": {
   "codemirror_mode": {
    "name": "ipython",
    "version": 3
   },
   "file_extension": ".py",
   "mimetype": "text/x-python",
   "name": "python",
   "nbconvert_exporter": "python",
   "pygments_lexer": "ipython3",
   "version": "3.10.10"
  },
  "orig_nbformat": 4
 },
 "nbformat": 4,
 "nbformat_minor": 2
}

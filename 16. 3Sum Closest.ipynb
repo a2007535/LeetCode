{
 "cells": [
  {
   "cell_type": "code",
   "execution_count": null,
   "metadata": {},
   "outputs": [],
   "source": [
    "class Solution:\n",
    "    def threeSumClosest(self, nums: List[int], target: int) -> int:\n",
    "        nums.sort()\n",
    "        choose = 0\n",
    "        ans = None\n",
    "        while choose != len(nums)-2:\n",
    "            temptar = target - nums[choose]\n",
    "            left = choose + 1\n",
    "            right = len(nums)-1\n",
    "            while right > left:\n",
    "                temp = nums[right] + nums[left]\n",
    "                tempans = temp - temptar + target\n",
    "                if not ans:\n",
    "                    ans = tempans\n",
    "                else:\n",
    "                    if abs(ans-target) > abs(tempans-target):\n",
    "                        ans = tempans\n",
    "                if temp > temptar:\n",
    "                    right -= 1\n",
    "                elif temp < temptar:\n",
    "                    left += 1\n",
    "                else:\n",
    "                    return tempans\n",
    "            choose += 1\n",
    "        return ans"
   ]
  }
 ],
 "metadata": {
  "language_info": {
   "name": "python"
  },
  "orig_nbformat": 4
 },
 "nbformat": 4,
 "nbformat_minor": 2
}

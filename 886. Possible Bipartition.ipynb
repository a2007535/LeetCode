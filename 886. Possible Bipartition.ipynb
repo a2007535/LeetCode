{
 "cells": [
  {
   "cell_type": "code",
   "execution_count": 4,
   "metadata": {},
   "outputs": [
    {
     "data": {
      "text/plain": [
       "[1, 4]"
      ]
     },
     "execution_count": 4,
     "metadata": {},
     "output_type": "execute_result"
    }
   ],
   "source": [
    "class Solution:\n",
    "    def possibleBipartition(self, n: int, dislikes: List[List[int]]) -> bool:\n",
    "        groupA=set()\n",
    "        groupB=set()\n",
    "        graph={}\n",
    "        for i in range(1,n+1):\n",
    "            graph[i]=[]\n",
    "        for i in dislikes:\n",
    "            graph[i[0]].append(i[1])\n",
    "            graph[i[1]].append(i[0])\n",
    "        q=deque()\n",
    "        while(len(graph)!=0):\n",
    "            temp=list(graph.keys())[0]\n",
    "            groupA.add(temp)\n",
    "            q.append(temp)\n",
    "            while(len(q)!=0):\n",
    "                temp=q.popleft()\n",
    "                if temp not in graph:\n",
    "                        continue\n",
    "                if temp in groupA:\n",
    "                    for i in graph[temp]:\n",
    "                        if i in groupA:\n",
    "                            return False\n",
    "                        else:\n",
    "                            groupB.add(i)\n",
    "                            q.append(i)\n",
    "                if temp in groupB:\n",
    "                    for i in graph[temp]:\n",
    "                        if i in groupB:\n",
    "                            return False\n",
    "                        else:\n",
    "                            groupA.add(i)\n",
    "                            q.append(i)\n",
    "                del graph[temp]\n",
    "        return True\n",
    "            \n",
    "        \n"
   ]
  },
  {
   "cell_type": "code",
   "execution_count": null,
   "metadata": {},
   "outputs": [],
   "source": []
  }
 ],
 "metadata": {
  "kernelspec": {
   "display_name": "Python 3",
   "language": "python",
   "name": "python3"
  },
  "language_info": {
   "codemirror_mode": {
    "name": "ipython",
    "version": 3
   },
   "file_extension": ".py",
   "mimetype": "text/x-python",
   "name": "python",
   "nbconvert_exporter": "python",
   "pygments_lexer": "ipython3",
   "version": "3.9.6 (default, Sep 13 2022, 22:03:16) \n[Clang 14.0.0 (clang-1400.0.29.102)]"
  },
  "orig_nbformat": 4,
  "vscode": {
   "interpreter": {
    "hash": "31f2aee4e71d21fbe5cf8b01ff0e069b9275f58929596ceb00d14d90e3e16cd6"
   }
  }
 },
 "nbformat": 4,
 "nbformat_minor": 2
}

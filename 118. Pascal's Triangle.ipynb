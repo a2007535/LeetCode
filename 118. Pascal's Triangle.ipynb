{
 "cells": [
  {
   "cell_type": "code",
   "execution_count": null,
   "metadata": {},
   "outputs": [],
   "source": [
    "class Solution:\n",
    "    def generate(self, numRows: int) -> List[List[int]]:\n",
    "        dp = [[1]]\n",
    "        for i in range(1,numRows):\n",
    "            arr=[1]\n",
    "            for j in range(1,i):\n",
    "                arr.append(dp[i-1][j]+dp[i-1][j-1])\n",
    "            arr=arr+[1]\n",
    "            dp.append(arr)\n",
    "        return dp"
   ]
  }
 ],
 "metadata": {
  "language_info": {
   "name": "python"
  },
  "orig_nbformat": 4
 },
 "nbformat": 4,
 "nbformat_minor": 2
}

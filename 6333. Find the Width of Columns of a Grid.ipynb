{
 "cells": [
  {
   "cell_type": "code",
   "execution_count": null,
   "metadata": {},
   "outputs": [],
   "source": [
    "class Solution:\n",
    "    def findColumnWidth(self, grid: List[List[int]]) -> List[int]:\n",
    "        ans = []\n",
    "        for i in range(len(grid[0])):\n",
    "            temp = 0\n",
    "            for j in range(len(grid)):\n",
    "                tempint = grid[j][i]\n",
    "                temp = max(temp,len(str(tempint)))\n",
    "            ans.append(temp)\n",
    "        return ans"
   ]
  }
 ],
 "metadata": {
  "language_info": {
   "name": "python"
  },
  "orig_nbformat": 4
 },
 "nbformat": 4,
 "nbformat_minor": 2
}

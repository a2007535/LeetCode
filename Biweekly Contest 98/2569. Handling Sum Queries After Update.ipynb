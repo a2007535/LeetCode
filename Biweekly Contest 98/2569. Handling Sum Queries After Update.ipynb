{
 "cells": [
  {
   "cell_type": "code",
   "execution_count": null,
   "metadata": {},
   "outputs": [],
   "source": [
    "class Solution:\n",
    "    def handleQuery(self, nums1: List[int], nums2: List[int], queries: List[List[int]]) -> List[int]:\n",
    "        l = len(nums1)\n",
    "        init = 1<<l\n",
    "        nums1 = int(\"\".join(map(str, nums1)), 2)\n",
    "        cur= sum(nums2)\n",
    "        ans =[]\n",
    "        for f,s,t in queries:\n",
    "            if f==1:\n",
    "                a = (init>>s)-1\n",
    "                b = (init>>(t+1))-1\n",
    "                nums1 = nums1^a^b\n",
    "            elif f==2:\n",
    "                cnt =nums1.bit_count()\n",
    "                cur+=s*cnt\n",
    "            else:\n",
    "                ans.append(cur)\n",
    "        return ans\n",
    "                \n",
    "            "
   ]
  }
 ],
 "metadata": {
  "language_info": {
   "name": "python"
  },
  "orig_nbformat": 4
 },
 "nbformat": 4,
 "nbformat_minor": 2
}

{
 "cells": [
  {
   "cell_type": "code",
   "execution_count": null,
   "metadata": {},
   "outputs": [],
   "source": [
    "class Solution:\n",
    "    def minMaxDifference(self, num: int) -> int:\n",
    "        num = str(num)\n",
    "        maxnum = ''\n",
    "        maxremap = '9'\n",
    "        for i in num:\n",
    "            if i != '9':\n",
    "                maxremap = i\n",
    "                break\n",
    "        for i in num:\n",
    "            if i == maxremap:\n",
    "                maxnum+='9'\n",
    "            else:\n",
    "                maxnum+=i\n",
    "        minremap = num[0]\n",
    "        minnum = ''\n",
    "        for i in num:\n",
    "            if i == minremap:\n",
    "                minnum += '0'\n",
    "            else:\n",
    "                minnum += i\n",
    "        return int(maxnum)-int(minnum)"
   ]
  }
 ],
 "metadata": {
  "language_info": {
   "name": "python"
  },
  "orig_nbformat": 4
 },
 "nbformat": 4,
 "nbformat_minor": 2
}

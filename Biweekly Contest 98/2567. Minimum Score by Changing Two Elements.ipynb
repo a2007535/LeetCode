{
 "cells": [
  {
   "cell_type": "code",
   "execution_count": null,
   "metadata": {},
   "outputs": [],
   "source": [
    "class Solution:\n",
    "    def minimizeSum(self, nums: List[int]) -> int:\n",
    "        nums.sort()\n",
    "        return min(nums[-2]-nums[1],nums[-1]-nums[2],nums[-3]-nums[0])"
   ]
  }
 ],
 "metadata": {
  "language_info": {
   "name": "python"
  },
  "orig_nbformat": 4
 },
 "nbformat": 4,
 "nbformat_minor": 2
}

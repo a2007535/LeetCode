{
 "cells": [
  {
   "cell_type": "code",
   "execution_count": null,
   "metadata": {},
   "outputs": [],
   "source": [
    "class Solution:\n",
    "    def minImpossibleOR(self, nums: List[int]) -> int:\n",
    "        nums = set(nums)\n",
    "        for i in range(100):\n",
    "            if 2**i not in nums:\n",
    "                return 2**i"
   ]
  }
 ],
 "metadata": {
  "language_info": {
   "name": "python"
  },
  "orig_nbformat": 4
 },
 "nbformat": 4,
 "nbformat_minor": 2
}

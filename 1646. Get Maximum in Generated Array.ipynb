{
 "cells": [
  {
   "cell_type": "code",
   "execution_count": null,
   "metadata": {},
   "outputs": [],
   "source": [
    "class Solution:\n",
    "    def getMaximumGenerated(self, n: int) -> int:\n",
    "        dp = [0,1]\n",
    "        for i in range(2,n+1):\n",
    "            if i%2==0:\n",
    "                dp.append(dp[i//2])\n",
    "            else:\n",
    "                dp.append(dp[i//2]+dp[(i//2)+1])\n",
    "        # print(dp)\n",
    "        return max(dp[:n+1])"
   ]
  }
 ],
 "metadata": {
  "language_info": {
   "name": "python"
  },
  "orig_nbformat": 4
 },
 "nbformat": 4,
 "nbformat_minor": 2
}

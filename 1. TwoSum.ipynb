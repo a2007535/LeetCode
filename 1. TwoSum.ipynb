{
 "cells": [
  {
   "cell_type": "code",
   "execution_count": null,
   "metadata": {},
   "outputs": [],
   "source": [
    "class Solution:\n",
    "    def twoSum(self, nums: List[int], target: int) -> List[int]:\n",
    "        IntDict={}\n",
    "        for i in range(len(nums)):\n",
    "            if target-nums[i] in IntDict:\n",
    "                return [i,IntDict[target-nums[i]]]\n",
    "            else:\n",
    "                IntDict[nums[i]]=i\n",
    "                    "
   ]
  }
 ],
 "metadata": {
  "language_info": {
   "name": "python"
  },
  "orig_nbformat": 4
 },
 "nbformat": 4,
 "nbformat_minor": 2
}

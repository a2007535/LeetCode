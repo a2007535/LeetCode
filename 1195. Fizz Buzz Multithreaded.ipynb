{
 "cells": [
  {
   "cell_type": "code",
   "execution_count": null,
   "metadata": {},
   "outputs": [],
   "source": [
    "class FizzBuzz:\n",
    "    def __init__(self, n: int):\n",
    "        self.n = n\n",
    "        self.currN=1\n",
    "    # printFizz() outputs \"fizz\"\n",
    "    def fizz(self, printFizz: 'Callable[[], None]') -> None:\n",
    "        while self.currN <= self.n:\n",
    "            n = self.currN\n",
    "            if n %3 == 0 and n %5 != 0 and n<=self.n:\n",
    "                printFizz()\n",
    "                self.currN+=1\n",
    "    # printBuzz() outputs \"buzz\"\n",
    "    def buzz(self, printBuzz: 'Callable[[], None]') -> None:\n",
    "        while self.currN <= self.n:\n",
    "            n = self.currN\n",
    "            if n %3 != 0 and n %5 ==0 and n<=self.n:\n",
    "                printBuzz()\n",
    "                self.currN+=1\n",
    "    # printFizzBuzz() outputs \"fizzbuzz\"\n",
    "    def fizzbuzz(self, printFizzBuzz: 'Callable[[], None]') -> None:\n",
    "        while self.currN <= self.n:\n",
    "            n = self.currN\n",
    "            if n %3 == 0 and n %5 ==0 and n<=self.n:\n",
    "                printFizzBuzz()\n",
    "                self.currN+=1\n",
    "\n",
    "    # printNumber(x) outputs \"x\", where x is an integer.\n",
    "    def number(self, printNumber: 'Callable[[int], None]') -> None:\n",
    "        while self.currN <= self.n:\n",
    "            n = self.currN\n",
    "            if n %3 != 0 and n %5 != 0 and n<=self.n:\n",
    "                printNumber(n)\n",
    "                self.currN+=1"
   ]
  }
 ],
 "metadata": {
  "language_info": {
   "name": "python"
  },
  "orig_nbformat": 4
 },
 "nbformat": 4,
 "nbformat_minor": 2
}

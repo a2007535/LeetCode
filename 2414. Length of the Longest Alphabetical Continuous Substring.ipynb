{
 "cells": [
  {
   "cell_type": "code",
   "execution_count": null,
   "metadata": {},
   "outputs": [],
   "source": [
    "def lengthOfLongestSubstring(s: str) -> int:\n",
    "    returnValue = 0\n",
    "    charList=\"\"\n",
    "    for i in range(len(s)):\n",
    "        if s[i] not in charList:\n",
    "            charList += s[i]\n",
    "        elif returnValue < len(charList):\n",
    "            returnValue = len(charList)\n",
    "            charList=s[i]\n",
    "    return returnValue\n",
    "lengthOfLongestSubstring(\" \")"
   ]
  },
  {
   "cell_type": "code",
   "execution_count": null,
   "metadata": {},
   "outputs": [],
   "source": [
    "class Solution:\n",
    "    def longestContinuousSubstring(self, s: str) -> int:\n",
    "        first = 0\n",
    "        dict = {}\n",
    "        returnValue = 0\n",
    "        for i in range(len(s)):\n",
    "            if s[i] not in dict:\n",
    "                dict[s[i]]=i\n",
    "                returnValue+=1\n",
    "            else:\n",
    "                returnValue = i-dict[s[i]]\n",
    "                dict[s[i]]=i\n",
    "        return returnValue"
   ]
  }
 ],
 "metadata": {
  "kernelspec": {
   "display_name": "Python 3.8.9 64-bit",
   "language": "python",
   "name": "python3"
  },
  "language_info": {
   "codemirror_mode": {
    "name": "ipython",
    "version": 3
   },
   "file_extension": ".py",
   "mimetype": "text/x-python",
   "name": "python",
   "nbconvert_exporter": "python",
   "pygments_lexer": "ipython3",
   "version": "3.8.9"
  },
  "orig_nbformat": 4,
  "vscode": {
   "interpreter": {
    "hash": "31f2aee4e71d21fbe5cf8b01ff0e069b9275f58929596ceb00d14d90e3e16cd6"
   }
  }
 },
 "nbformat": 4,
 "nbformat_minor": 2
}

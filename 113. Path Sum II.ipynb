{
 "cells": [
  {
   "cell_type": "code",
   "execution_count": null,
   "metadata": {},
   "outputs": [],
   "source": [
    "# Definition for a binary tree node.\n",
    "# class TreeNode:\n",
    "#     def __init__(self, val=0, left=None, right=None):\n",
    "#         self.val = val\n",
    "#         self.left = left\n",
    "#         self.right = right\n",
    "class Solution:\n",
    "    def DFS(self,root,targetSum,numsList:List[int]):\n",
    "        if root == None:\n",
    "            return \n",
    "        print(root.val,numsList,targetSum)\n",
    "        if targetSum == root.val:\n",
    "            if root.left==None and root.right==None:\n",
    "                newList = copy.deepcopy(numsList)\n",
    "                newList.append(root.val)\n",
    "                self.List.append(newList)\n",
    "                return\n",
    "        if numsList != None:\n",
    "            newList = copy.deepcopy(numsList)\n",
    "            newList.append(root.val)\n",
    "            self.DFS(root.left,targetSum-root.val,newList)\n",
    "            self.DFS(root.right,targetSum-root.val,newList)\n",
    "        else:\n",
    "            self.DFS(root.left,targetSum-root.val,[root.val])\n",
    "            self.DFS(root.right,targetSum-root.val,[root.val])\n",
    "            \n",
    "    def pathSum(self, root: Optional[TreeNode], targetSum: int) -> List[List[int]]:\n",
    "        self.List =[]\n",
    "        self.testList=[]\n",
    "        self.DFS(root,targetSum,[])\n",
    "        return self.List\n"
   ]
  },
  {
   "cell_type": "code",
   "execution_count": null,
   "metadata": {},
   "outputs": [],
   "source": [
    "    def dfs(self, root, path, ans, remainingSum):\n",
    "  \n",
    "        if not root:\n",
    "            return\n",
    "\n",
    "        path.append(root.val)\n",
    "\n",
    "        if not root.left and not root.right and remainingSum == root.val:\n",
    "            ans.append(list(path))\n",
    "\n",
    "        self.dfs(root.left, path, ans, remainingSum - root.val)\n",
    "\n",
    "        self.dfs(root.right, path, ans, remainingSum - root.val)\n",
    "        \n",
    "        path.pop()\n",
    "    \n",
    "    def pathSum(self, root: Optional[TreeNode], targetSum: int) -> List[List[int]]:\n",
    "        ans = []\n",
    "        self.dfs(root, [], ans, targetSum)\n",
    "        return ans"
   ]
  }
 ],
 "metadata": {
  "kernelspec": {
   "display_name": "Python 3.8.9 64-bit",
   "language": "python",
   "name": "python3"
  },
  "language_info": {
   "name": "python",
   "version": "3.9.6 (default, Sep 13 2022, 22:03:16) \n[Clang 14.0.0 (clang-1400.0.29.102)]"
  },
  "orig_nbformat": 4,
  "vscode": {
   "interpreter": {
    "hash": "31f2aee4e71d21fbe5cf8b01ff0e069b9275f58929596ceb00d14d90e3e16cd6"
   }
  }
 },
 "nbformat": 4,
 "nbformat_minor": 2
}

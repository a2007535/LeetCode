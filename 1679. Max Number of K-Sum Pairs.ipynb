{
 "cells": [
  {
   "cell_type": "code",
   "execution_count": null,
   "metadata": {},
   "outputs": [],
   "source": [
    "class Solution:\n",
    "    def maxOperations(self, nums: List[int], k: int) -> int:\n",
    "        numsdict = {}\n",
    "        ans = 0\n",
    "        for i in nums:\n",
    "            if k-i in numsdict:\n",
    "                numsdict[k-i]-=1\n",
    "                if numsdict[k-i] == 0:\n",
    "                    del numsdict[k-i]\n",
    "                ans += 1\n",
    "            else:\n",
    "                numsdict[i] = numsdict.get(i,0) + 1\n",
    "        return ans"
   ]
  }
 ],
 "metadata": {
  "language_info": {
   "name": "python"
  },
  "orig_nbformat": 4
 },
 "nbformat": 4,
 "nbformat_minor": 2
}

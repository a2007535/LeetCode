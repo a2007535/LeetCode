{
 "cells": [
  {
   "cell_type": "code",
   "execution_count": null,
   "metadata": {},
   "outputs": [],
   "source": [
    "class Solution:\n",
    "    def equationsPossible(self, equations: List[str]) -> bool:\n",
    "        letterDict = {}\n",
    "        index = 0\n",
    "        for i in equations:\n",
    "            if i[1] == \"=\":\n",
    "                if i[0] in letterDict and i[3] in letterDict:\n",
    "                    if letterDict[i[0]] == letterDict[i[3]]:\n",
    "                        pass\n",
    "                    else:\n",
    "                        key = [key for key in letterDict if letterDict[key]==letterDict[i[3]]]\n",
    "                        for keyIndex in key:\n",
    "                            letterDict[keyIndex] = letterDict[i[0]]\n",
    "                if i[0] in letterDict and i[3] not in letterDict:\n",
    "                    letterDict[i[3]]= letterDict[i[0]]\n",
    "                if i[0] not in letterDict and i[3] in letterDict:\n",
    "                    letterDict[i[0]]= letterDict[i[3]]\n",
    "                if i[0] not in letterDict and i[3] not in letterDict:\n",
    "                    letterDict[i[3]]= index\n",
    "                    letterDict[i[0]]= index\n",
    "                    index +=1\n",
    "        for i in equations:\n",
    "            if i[1]==\"!\":\n",
    "                if i[0] == i[3]:\n",
    "                    return False\n",
    "                if i[0] in letterDict and i[3] in letterDict:\n",
    "                    if letterDict[i[0]] == letterDict[i[3]]:\n",
    "                        return False\n",
    "                if i[0] in letterDict and i[3] not in letterDict:\n",
    "                    letterDict[i[3]]= index\n",
    "                    index +=1\n",
    "                if i[0] not in letterDict and i[3] in letterDict:\n",
    "                    letterDict[i[0]]= index\n",
    "                    index +=1\n",
    "                if i[0] not in letterDict and i[3] not in letterDict:\n",
    "                    letterDict[i[3]]= index\n",
    "                    index+=1\n",
    "                    letterDict[i[0]]= index\n",
    "                    index +=1\n",
    "        print(letterDict)\n",
    "        return True"
   ]
  }
 ],
 "metadata": {
  "kernelspec": {
   "display_name": "Python 3.8.9 64-bit",
   "language": "python",
   "name": "python3"
  },
  "language_info": {
   "codemirror_mode": {
    "name": "ipython",
    "version": 3
   },
   "file_extension": ".py",
   "mimetype": "text/x-python",
   "name": "python",
   "nbconvert_exporter": "python",
   "pygments_lexer": "ipython3",
   "version": "3.8.9"
  },
  "orig_nbformat": 4,
  "vscode": {
   "interpreter": {
    "hash": "31f2aee4e71d21fbe5cf8b01ff0e069b9275f58929596ceb00d14d90e3e16cd6"
   }
  }
 },
 "nbformat": 4,
 "nbformat_minor": 2
}

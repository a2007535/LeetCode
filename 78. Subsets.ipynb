{
 "cells": [
  {
   "cell_type": "code",
   "execution_count": null,
   "metadata": {},
   "outputs": [],
   "source": [
    "class Solution:\n",
    "    def subsets(self, nums: List[int]) -> List[List[int]]:\n",
    "        self.ans = []\n",
    "        def helper(nums,arr):\n",
    "            if not nums:\n",
    "                self.ans.append(arr)\n",
    "                return\n",
    "            helper(nums[1:],arr+[nums[0]])\n",
    "            helper(nums[1:],arr)\n",
    "        helper(nums,[])\n",
    "        return self.ans"
   ]
  }
 ],
 "metadata": {
  "language_info": {
   "name": "python"
  },
  "orig_nbformat": 4
 },
 "nbformat": 4,
 "nbformat_minor": 2
}

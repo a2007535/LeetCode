{
 "cells": [
  {
   "cell_type": "code",
   "execution_count": 1,
   "metadata": {},
   "outputs": [
    {
     "name": "stdout",
     "output_type": "stream",
     "text": [
      "-1\n",
      "0\n"
     ]
    }
   ],
   "source": [
    "class Solution:\n",
    "    def isValidSudoku(self, board: List[List[str]]) -> bool:\n",
    "        for i in range(9):\n",
    "            setA=set()\n",
    "            setB=set()\n",
    "            for j in range(9):\n",
    "                if board[i][j] in setA or board[j][i] in setB:\n",
    "                    return False\n",
    "                if board[i][j] != '.':\n",
    "                    setA.add(board[i][j])\n",
    "                if board[j][i] != '.':\n",
    "                    setB.add(board[j][i])\n",
    "                if i%3==1 and j%3==1:\n",
    "                    setC=set()\n",
    "                    for k in range(-1,2,1):\n",
    "                        for l in range(-1,2,1):\n",
    "                            if board[i+k][j+l] in setC:\n",
    "                                return False\n",
    "                            if board[i+k][j+l] !='.':\n",
    "                                setC.add(board[i+k][j+l])\n",
    "\n",
    "        return True"
   ]
  },
  {
   "cell_type": "code",
   "execution_count": null,
   "metadata": {},
   "outputs": [],
   "source": [
    "[\n",
    "[\".\",\".\",\"4\",\".\",\".\",\".\",\"6\",\"3\",\".\"],\n",
    "[\".\",\".\",\".\",\".\",\".\",\".\",\".\",\".\",\".\"],\n",
    "[\"5\",\".\",\".\",\".\",\".\",\".\",\".\",\"9\",\".\"],\n",
    "[\".\",\".\",\".\",\"5\",\"6\",\".\",\".\",\".\",\".\"],\n",
    "[\"4\",\".\",\"3\",\".\",\".\",\".\",\".\",\".\",\"1\"],\n",
    "[\".\",\".\",\".\",\"7\",\".\",\".\",\".\",\".\",\".\"],\n",
    "[\".\",\".\",\".\",\"5\",\".\",\".\",\".\",\".\",\".\"],\n",
    "[\".\",\".\",\".\",\".\",\".\",\".\",\".\",\".\",\".\"],\n",
    "[\".\",\".\",\".\",\".\",\".\",\".\",\".\",\".\",\".\"]]"
   ]
  }
 ],
 "metadata": {
  "kernelspec": {
   "display_name": "Python 3",
   "language": "python",
   "name": "python3"
  },
  "language_info": {
   "codemirror_mode": {
    "name": "ipython",
    "version": 3
   },
   "file_extension": ".py",
   "mimetype": "text/x-python",
   "name": "python",
   "nbconvert_exporter": "python",
   "pygments_lexer": "ipython3",
   "version": "3.9.6"
  },
  "orig_nbformat": 4,
  "vscode": {
   "interpreter": {
    "hash": "31f2aee4e71d21fbe5cf8b01ff0e069b9275f58929596ceb00d14d90e3e16cd6"
   }
  }
 },
 "nbformat": 4,
 "nbformat_minor": 2
}

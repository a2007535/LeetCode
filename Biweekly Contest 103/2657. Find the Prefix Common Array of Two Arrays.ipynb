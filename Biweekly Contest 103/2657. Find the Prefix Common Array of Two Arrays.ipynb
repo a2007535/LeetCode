{
 "cells": [
  {
   "cell_type": "code",
   "execution_count": null,
   "metadata": {},
   "outputs": [],
   "source": [
    "class Solution:\n",
    "    def findThePrefixCommonArray(self, A: List[int], B: List[int]) -> List[int]:\n",
    "        counter = {}\n",
    "        ans = []\n",
    "        for i in range(len(A)):\n",
    "            counter[A[i]] = 1 + counter.get(A[i],0)\n",
    "            counter[B[i]] = 1 + counter.get(B[i],0)\n",
    "            ans.append(list(counter.values()).count(2))\n",
    "        return ans"
   ]
  }
 ],
 "metadata": {
  "language_info": {
   "name": "python"
  },
  "orig_nbformat": 4
 },
 "nbformat": 4,
 "nbformat_minor": 2
}

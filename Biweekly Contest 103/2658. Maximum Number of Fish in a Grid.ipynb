{
 "cells": [
  {
   "cell_type": "code",
   "execution_count": null,
   "metadata": {},
   "outputs": [],
   "source": [
    "class Solution:\n",
    "    def findMaxFish(self, grid: List[List[int]]) -> int:\n",
    "        ans = 0\n",
    "        \n",
    "        def dfs(grid,x,y):\n",
    "            if x<0 or x==len(grid[0]) or y<0 or y==len(grid):\n",
    "                return 0\n",
    "            if grid[y][x]==0:\n",
    "                return 0\n",
    "            temp = grid[y][x]\n",
    "            grid[y][x]=0\n",
    "            return temp + dfs(grid,x+1,y)+ dfs(grid,x-1,y)+ dfs(grid,x,y+1)+ dfs(grid,x,y-1)\n",
    "        for y in range(len(grid)):\n",
    "            for x in range(len(grid[0])):\n",
    "                ans = max(ans,dfs(grid,x,y))\n",
    "        return ans"
   ]
  }
 ],
 "metadata": {
  "language_info": {
   "name": "python"
  },
  "orig_nbformat": 4
 },
 "nbformat": 4,
 "nbformat_minor": 2
}

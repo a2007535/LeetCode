{
 "cells": [
  {
   "cell_type": "code",
   "execution_count": null,
   "metadata": {},
   "outputs": [],
   "source": [
    "class Solution:\n",
    "    def totalFruit(self, fruits: List[int]) -> int:\n",
    "        ans = 0\n",
    "        fruitsindexdict = {}\n",
    "        fruitset = set()\n",
    "        tempindex = 0\n",
    "        for i,n in enumerate(fruits):\n",
    "            if len(fruitset) != 2:\n",
    "                fruitset.add(n)\n",
    "                fruitsindexdict[n]=i\n",
    "            else:\n",
    "                if n in fruitset:\n",
    "                    fruitsindexdict[n]=i\n",
    "                else:\n",
    "                    ans = max(ans,i - tempindex)\n",
    "                    temp = [[0,0],[0,0]]\n",
    "                    for j,k in enumerate(fruitset):\n",
    "                        temp[j] = [k,fruitsindexdict[k]]\n",
    "                    if temp[0][1] > temp[1][1]:\n",
    "                        fruitset.remove(temp[1][0])\n",
    "                        tempindex = temp[1][1]+1\n",
    "                    else:\n",
    "                        fruitset.remove(temp[0][0])\n",
    "                        tempindex = temp[0][1]+1\n",
    "                    fruitset.add(n)\n",
    "                    fruitsindexdict[n]=i\n",
    "            print(ans,fruitset)\n",
    "        ans = max(ans,i+1 - tempindex)\n",
    "        return ans"
   ]
  }
 ],
 "metadata": {
  "language_info": {
   "name": "python"
  },
  "orig_nbformat": 4
 },
 "nbformat": 4,
 "nbformat_minor": 2
}

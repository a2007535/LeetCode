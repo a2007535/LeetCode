{
 "cells": [
  {
   "cell_type": "code",
   "execution_count": null,
   "metadata": {},
   "outputs": [],
   "source": [
    "class Solution:\n",
    "    def rowAndMaximumOnes(self, mat: List[List[int]]) -> List[int]:\n",
    "        ans = [0,0]\n",
    "        for i in range(len(mat)):\n",
    "            temp = 0\n",
    "            for j in range(len(mat[0])):\n",
    "                if mat[i][j] == 1:\n",
    "                    temp += 1\n",
    "            if temp > ans[1]:\n",
    "                ans = [i,temp]\n",
    "        return ans"
   ]
  }
 ],
 "metadata": {
  "language_info": {
   "name": "python"
  },
  "orig_nbformat": 4
 },
 "nbformat": 4,
 "nbformat_minor": 2
}

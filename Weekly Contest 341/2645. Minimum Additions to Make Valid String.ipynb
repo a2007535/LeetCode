{
 "cells": [
  {
   "cell_type": "code",
   "execution_count": null,
   "metadata": {},
   "outputs": [],
   "source": [
    "class Solution:\n",
    "    def addMinimum(self, word: str) -> int:\n",
    "        temp = ['a','b','c']\n",
    "        ans = 0 \n",
    "        index = 0\n",
    "        i = 0\n",
    "        while i != len(word):\n",
    "            if word[i] == temp[index]:\n",
    "                i += 1\n",
    "                index += 1\n",
    "                index %= 3\n",
    "            else:\n",
    "                while word[i] != temp[index]:\n",
    "                    index += 1\n",
    "                    ans +=1\n",
    "                    index %=3\n",
    "        while index != 0:\n",
    "            index += 1\n",
    "            ans +=1\n",
    "            index %=3\n",
    "        return ans"
   ]
  }
 ],
 "metadata": {
  "language_info": {
   "name": "python"
  },
  "orig_nbformat": 4
 },
 "nbformat": 4,
 "nbformat_minor": 2
}

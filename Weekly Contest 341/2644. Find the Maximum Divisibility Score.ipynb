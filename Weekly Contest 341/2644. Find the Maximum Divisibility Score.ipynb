{
 "cells": [
  {
   "cell_type": "code",
   "execution_count": null,
   "metadata": {},
   "outputs": [],
   "source": [
    "class Solution:\n",
    "    def maxDivScore(self, nums: List[int], divisors: List[int]) -> int:\n",
    "        ans = [0] * len(divisors)\n",
    "        for i in nums:\n",
    "            index = 0\n",
    "            for j in divisors:\n",
    "                if i%j == 0:\n",
    "                    ans[index] +=1\n",
    "                index +=1\n",
    "        maxVal = -inf\n",
    "        returnVal = 0\n",
    "        for i in range(len(divisors)):\n",
    "            if ans[i] == maxVal and divisors[i] < returnVal:\n",
    "                returnVal = divisors[i]\n",
    "            if ans[i] >maxVal:\n",
    "                returnVal = divisors[i]\n",
    "                maxVal = ans[i]\n",
    "                \n",
    "        return returnVal"
   ]
  }
 ],
 "metadata": {
  "language_info": {
   "name": "python"
  },
  "orig_nbformat": 4
 },
 "nbformat": 4,
 "nbformat_minor": 2
}

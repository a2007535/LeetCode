{
 "cells": [
  {
   "cell_type": "code",
   "execution_count": null,
   "metadata": {},
   "outputs": [],
   "source": [
    "class Solution:\n",
    "    def reverse(self, x: int) -> int:\n",
    "        strx= str(x)\n",
    "        \n",
    "        if strx[0] == \"-\":\n",
    "            ans = -int(strx[::-1][:-1])\n",
    "        else:\n",
    "            ans = int(strx[::-1])\n",
    "        if ans > (2**31)-1 or ans < -(2**31):\n",
    "            return 0\n",
    "        else:\n",
    "            return ans"
   ]
  }
 ],
 "metadata": {
  "language_info": {
   "name": "python"
  },
  "orig_nbformat": 4
 },
 "nbformat": 4,
 "nbformat_minor": 2
}

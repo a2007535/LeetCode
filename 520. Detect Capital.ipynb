{
 "cells": [
  {
   "cell_type": "code",
   "execution_count": null,
   "metadata": {},
   "outputs": [],
   "source": [
    "class Solution:\n",
    "    def detectCapitalUse(self, word: str) -> bool:\n",
    "        if len(word) <= 1:\n",
    "            return True\n",
    "\n",
    "        if word[0].islower():\n",
    "            return all(w.islower() for w in word[1:])\n",
    "        upper = word[1].isupper()\n",
    "        return all(w.isupper() == upper for w in word[2:])"
   ]
  }
 ],
 "metadata": {
  "language_info": {
   "name": "python"
  },
  "orig_nbformat": 4
 },
 "nbformat": 4,
 "nbformat_minor": 2
}

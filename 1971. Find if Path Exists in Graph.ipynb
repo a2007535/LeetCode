{
 "cells": [
  {
   "cell_type": "code",
   "execution_count": 1,
   "metadata": {},
   "outputs": [],
   "source": [
    "from collections import deque\n",
    "class Solution:\n",
    "    def validPath(self, n: int, edges: List[List[int]], source: int, destination: int) -> bool:\n",
    "        if source == destination:\n",
    "            return True\n",
    "        NoneCheck=list(range(len(edges)))\n",
    "        check=[]\n",
    "        q = deque()\n",
    "        q.append(source)\n",
    "        while len(q)!=0:\n",
    "            node=q.popleft()\n",
    "            check.clear()\n",
    "            for i in NoneCheck:\n",
    "                if node == edges[i][0]:\n",
    "                    check.append(i)\n",
    "                    q.append(edges[i][1])\n",
    "                    if edges[i][1]==destination:\n",
    "                        return True\n",
    "                if node == edges[i][1]:\n",
    "                    check.append(i)\n",
    "                    q.append(edges[i][0])\n",
    "                    if edges[i][0]==destination:\n",
    "                        return True\n",
    "            for i in check:\n",
    "                NoneCheck.remove(i)\n",
    "\n",
    "                    \n",
    "\n",
    "        return False"
   ]
  }
 ],
 "metadata": {
  "kernelspec": {
   "display_name": "Python 3",
   "language": "python",
   "name": "python3"
  },
  "language_info": {
   "codemirror_mode": {
    "name": "ipython",
    "version": 3
   },
   "file_extension": ".py",
   "mimetype": "text/x-python",
   "name": "python",
   "nbconvert_exporter": "python",
   "pygments_lexer": "ipython3",
   "version": "3.9.6"
  },
  "orig_nbformat": 4,
  "vscode": {
   "interpreter": {
    "hash": "31f2aee4e71d21fbe5cf8b01ff0e069b9275f58929596ceb00d14d90e3e16cd6"
   }
  }
 },
 "nbformat": 4,
 "nbformat_minor": 2
}

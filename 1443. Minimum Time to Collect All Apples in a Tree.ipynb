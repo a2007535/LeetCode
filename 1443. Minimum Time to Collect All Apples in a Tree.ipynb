{
 "cells": [
  {
   "cell_type": "code",
   "execution_count": null,
   "metadata": {},
   "outputs": [],
   "source": [
    "class Solution:\n",
    "    def minTime(self, n: int, edges: List[List[int]], hasApple: List[bool]) -> int:\n",
    "        self.hasApple=set()\n",
    "        for i in range(len(hasApple)):\n",
    "            if hasApple[i]:\n",
    "                self.hasApple.add(i)\n",
    "        self.nodeDict=defaultdict(list)\n",
    "        for (i,j) in edges:\n",
    "            self.nodeDict[i].append(j)\n",
    "            self.nodeDict[j].append(i)\n",
    "        self.alreadyPoint=set()\n",
    "        return self.DFS(0)\n",
    "        \n",
    "    def DFS(self,point):\n",
    "        appleLink=0\n",
    "        self.alreadyPoint.add(point)\n",
    "        for i in self.nodeDict[point]:\n",
    "            if i not in self.alreadyPoint:\n",
    "                appleLink+=self.DFS(i)\n",
    "                \n",
    "        if point ==0:\n",
    "            return appleLink\n",
    "        elif appleLink>0:\n",
    "            return appleLink+2\n",
    "        elif point in self.hasApple:\n",
    "            return 2\n",
    "        else:\n",
    "            return 0"
   ]
  }
 ],
 "metadata": {
  "language_info": {
   "name": "python"
  },
  "orig_nbformat": 4
 },
 "nbformat": 4,
 "nbformat_minor": 2
}

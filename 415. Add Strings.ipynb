{
 "cells": [
  {
   "cell_type": "code",
   "execution_count": null,
   "metadata": {},
   "outputs": [],
   "source": [
    "class Solution:\n",
    "    def addStrings(self, num1: str, num2: str) -> str:\n",
    "        res = 0\n",
    "        for i,n in enumerate(num1[::-1]):\n",
    "            res += (ord(n)-ord('0')) * 10**i\n",
    "        for i,n in enumerate(num2[::-1]):\n",
    "            res += (ord(n)-ord('0')) * 10**i\n",
    "        ans = \"\"\n",
    "        while res != 0:\n",
    "            ans = chr(ord('0') +res%10 ) + ans\n",
    "            res = res //10\n",
    "        return ans if ans else \"0\""
   ]
  }
 ],
 "metadata": {
  "language_info": {
   "name": "python"
  },
  "orig_nbformat": 4
 },
 "nbformat": 4,
 "nbformat_minor": 2
}

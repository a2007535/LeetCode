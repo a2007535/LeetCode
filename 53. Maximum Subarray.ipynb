{
 "cells": [
  {
   "cell_type": "code",
   "execution_count": null,
   "metadata": {},
   "outputs": [],
   "source": [
    "class Solution:\n",
    "    def maxSubArray(self, nums: List[int]) -> int:\n",
    "        res = ans = nums[0]\n",
    "        for i in nums[1:]:\n",
    "            if res + i >= i:\n",
    "                res = res+i\n",
    "            else:\n",
    "                res = i\n",
    "            ans = max(ans, res)\n",
    "        return ans"
   ]
  }
 ],
 "metadata": {
  "language_info": {
   "name": "python"
  },
  "orig_nbformat": 4
 },
 "nbformat": 4,
 "nbformat_minor": 2
}

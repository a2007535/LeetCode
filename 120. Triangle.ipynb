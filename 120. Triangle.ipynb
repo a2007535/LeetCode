{
 "cells": [
  {
   "cell_type": "code",
   "execution_count": null,
   "metadata": {},
   "outputs": [],
   "source": [
    "class Solution:\n",
    "    def minimumTotal(self, triangle: List[List[int]]) -> int:\n",
    "        for height in range(1,len(triangle)):\n",
    "            for i in range(len(triangle[height])):\n",
    "                if i != len(triangle[height-1]):\n",
    "                    tmp1 = triangle[height-1][i]\n",
    "                else:\n",
    "                    tmp1 = inf\n",
    "                if i == 0:\n",
    "                    tmp2 = inf\n",
    "                else:\n",
    "                    tmp2 = triangle[height-1][i-1]\n",
    "                triangle[height][i] += min(tmp1,tmp2)\n",
    "        return min(triangle[-1])"
   ]
  }
 ],
 "metadata": {
  "language_info": {
   "name": "python"
  },
  "orig_nbformat": 4
 },
 "nbformat": 4,
 "nbformat_minor": 2
}

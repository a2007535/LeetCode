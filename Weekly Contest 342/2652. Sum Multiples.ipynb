{
 "cells": [
  {
   "cell_type": "code",
   "execution_count": null,
   "metadata": {},
   "outputs": [],
   "source": [
    "class Solution:\n",
    "    def sumOfMultiples(self, n: int) -> int:\n",
    "        ans = 0\n",
    "        for i in range(1,n+1):\n",
    "            if i % 3 == 0:\n",
    "                ans += i\n",
    "            elif i % 5 == 0:\n",
    "                ans += i\n",
    "            elif i % 7 == 0:\n",
    "                ans += i\n",
    "        return ans"
   ]
  }
 ],
 "metadata": {
  "language_info": {
   "name": "python"
  },
  "orig_nbformat": 4
 },
 "nbformat": 4,
 "nbformat_minor": 2
}

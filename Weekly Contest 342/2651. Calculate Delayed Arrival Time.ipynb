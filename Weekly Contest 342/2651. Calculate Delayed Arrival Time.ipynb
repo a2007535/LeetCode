{
 "cells": [
  {
   "cell_type": "code",
   "execution_count": null,
   "metadata": {},
   "outputs": [],
   "source": [
    "class Solution:\n",
    "    def findDelayedArrivalTime(self, arrivalTime: int, delayedTime: int) -> int:\n",
    "        return (arrivalTime + delayedTime)% 24"
   ]
  }
 ],
 "metadata": {
  "language_info": {
   "name": "python"
  },
  "orig_nbformat": 4
 },
 "nbformat": 4,
 "nbformat_minor": 2
}

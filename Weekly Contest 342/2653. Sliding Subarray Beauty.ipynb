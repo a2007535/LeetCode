{
 "cells": [
  {
   "cell_type": "code",
   "execution_count": null,
   "metadata": {},
   "outputs": [],
   "source": [
    "class Solution:\n",
    "    def getSubarrayBeauty(self, nums: List[int], k: int, x: int) -> List[int]:\n",
    "        counter = [0]*51\n",
    "        for i in nums[:k]:\n",
    "            if i <= 0:\n",
    "                counter[i-1] += 1\n",
    "            else:\n",
    "                counter[-1] += 1\n",
    "        # print(counter)\n",
    "        ans =[]\n",
    "        tempsum = 0\n",
    "        for i,n in enumerate(counter):\n",
    "            tempsum += n\n",
    "            if tempsum >= x:\n",
    "                ans.append(i-50)\n",
    "                break\n",
    "        for i in range(k,len(nums)):\n",
    "            temppop = nums[i-k] if nums[i-k] <= 0 else 0\n",
    "            tempinsert = nums[i] if nums[i] <= 0 else 0\n",
    "            counter[temppop-1] -= 1\n",
    "            counter[tempinsert -1] +=1\n",
    "            tempsum = 0\n",
    "            # print(counter)\n",
    "            for i,n in enumerate(counter):\n",
    "                tempsum += n\n",
    "                if tempsum >= x:\n",
    "                    ans.append(i-50)\n",
    "                    break\n",
    "        return ans"
   ]
  }
 ],
 "metadata": {
  "language_info": {
   "name": "python"
  },
  "orig_nbformat": 4
 },
 "nbformat": 4,
 "nbformat_minor": 2
}

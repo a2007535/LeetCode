{
 "cells": [
  {
   "cell_type": "code",
   "execution_count": null,
   "metadata": {},
   "outputs": [],
   "source": [
    "class Solution:\n",
    "    def canCompleteCircuit(self, gas: List[int], cost: List[int]) -> int:\n",
    "        r=len(gas)-1\n",
    "        l=0\n",
    "        res=gas[r]-cost[r]\n",
    "        while r>l:\n",
    "            if res >=0:\n",
    "                res=res+gas[l]-cost[l]\n",
    "                l+=1\n",
    "            else:\n",
    "                r-=1\n",
    "                res=res+gas[r]-cost[r]\n",
    "        if res>=0:\n",
    "            return r\n",
    "        else:\n",
    "            return -1\n",
    "                "
   ]
  }
 ],
 "metadata": {
  "kernelspec": {
   "display_name": "Python 3",
   "language": "python",
   "name": "python3"
  },
  "language_info": {
   "name": "python",
   "version": "3.9.6 (default, Sep 13 2022, 22:03:16) \n[Clang 14.0.0 (clang-1400.0.29.102)]"
  },
  "orig_nbformat": 4,
  "vscode": {
   "interpreter": {
    "hash": "31f2aee4e71d21fbe5cf8b01ff0e069b9275f58929596ceb00d14d90e3e16cd6"
   }
  }
 },
 "nbformat": 4,
 "nbformat_minor": 2
}

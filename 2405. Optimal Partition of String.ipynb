{
 "cells": [
  {
   "cell_type": "code",
   "execution_count": null,
   "metadata": {},
   "outputs": [],
   "source": [
    "class Solution:\n",
    "    def partitionString(self, s: str) -> int:\n",
    "        a = set()\n",
    "        ans = 0\n",
    "        for i in s:\n",
    "            if i in a:\n",
    "                a = set()\n",
    "                a.add(i)\n",
    "                ans += 1\n",
    "            else:\n",
    "                a.add(i)\n",
    "        ans += 1\n",
    "        return ans"
   ]
  }
 ],
 "metadata": {
  "language_info": {
   "name": "python"
  },
  "orig_nbformat": 4
 },
 "nbformat": 4,
 "nbformat_minor": 2
}

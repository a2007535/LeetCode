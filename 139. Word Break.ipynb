{
 "cells": [
  {
   "cell_type": "code",
   "execution_count": null,
   "metadata": {},
   "outputs": [],
   "source": [
    "class Solution:\n",
    "    def wordBreak(self, s: str, wordDict: List[str]) -> bool:\n",
    "        dp = [0]*(len(s)+1)\n",
    "        dp[0]=1\n",
    "        for i in range(len(s)+1):\n",
    "            for j in range(i):\n",
    "                if s[j:i] in wordDict:\n",
    "                    if dp[j]==1:\n",
    "                        dp[i]=1\n",
    "        return bool(dp[-1])"
   ]
  }
 ],
 "metadata": {
  "language_info": {
   "name": "python"
  },
  "orig_nbformat": 4
 },
 "nbformat": 4,
 "nbformat_minor": 2
}

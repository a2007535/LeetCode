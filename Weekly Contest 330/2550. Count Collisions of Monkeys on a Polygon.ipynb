{
 "cells": [
  {
   "cell_type": "code",
   "execution_count": null,
   "metadata": {},
   "outputs": [],
   "source": [
    "class Solution:\n",
    "    def monkeyMove(self, n):\n",
    "        mod = 10 ** 9 + 7\n",
    "        return (pow(2, n, mod) - 2) % mod"
   ]
  },
  {
   "attachments": {},
   "cell_type": "markdown",
   "metadata": {},
   "source": [
    "all position - 2(all monkey same direction)"
   ]
  }
 ],
 "metadata": {
  "language_info": {
   "name": "python"
  },
  "orig_nbformat": 4
 },
 "nbformat": 4,
 "nbformat_minor": 2
}

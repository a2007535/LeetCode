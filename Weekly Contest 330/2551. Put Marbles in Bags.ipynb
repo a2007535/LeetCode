{
 "cells": [
  {
   "cell_type": "code",
   "execution_count": null,
   "metadata": {},
   "outputs": [],
   "source": [
    "class Solution:\n",
    "    def putMarbles(self, weights: List[int], k: int) -> int:\n",
    "        arr = []\n",
    "        for i in range(1,len(weights)):\n",
    "            arr.append(weights[i]+weights[i-1])\n",
    "        arr.sort()\n",
    "        k = k-1\n",
    "        return sum(arr[-k:])-sum(arr[:k]) if k!= 0 else 0\n",
    "    "
   ]
  }
 ],
 "metadata": {
  "language_info": {
   "name": "python"
  },
  "orig_nbformat": 4
 },
 "nbformat": 4,
 "nbformat_minor": 2
}

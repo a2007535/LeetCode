{
 "cells": [
  {
   "cell_type": "code",
   "execution_count": null,
   "metadata": {},
   "outputs": [],
   "source": [
    "class Solution:\n",
    "    def numTeams(self, rating: List[int]) -> int:\n",
    "        dp = [0]*len(rating)\n",
    "        ans = 0\n",
    "        for i in range(len(rating)):\n",
    "            for j in range(i):\n",
    "                if rating[i] > rating[j]:\n",
    "                    dp[i]+=1\n",
    "                    ans += dp[j]\n",
    "        dp = [0]*len(rating)\n",
    "        rating = rating[::-1]\n",
    "        for i in range(len(rating)):\n",
    "            for j in range(i):\n",
    "                if rating[i] > rating[j]:\n",
    "                    dp[i]+=1\n",
    "                    ans += dp[j]\n",
    "        return ans"
   ]
  }
 ],
 "metadata": {
  "language_info": {
   "name": "python"
  },
  "orig_nbformat": 4
 },
 "nbformat": 4,
 "nbformat_minor": 2
}

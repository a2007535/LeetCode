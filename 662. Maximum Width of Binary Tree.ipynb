{
 "cells": [
  {
   "cell_type": "code",
   "execution_count": null,
   "metadata": {},
   "outputs": [],
   "source": [
    "# Definition for a binary tree node.\n",
    "# class TreeNode:\n",
    "#     def __init__(self, val=0, left=None, right=None):\n",
    "#         self.val = val\n",
    "#         self.left = left\n",
    "#         self.right = right\n",
    "class Solution:\n",
    "    def widthOfBinaryTree(self, root: Optional[TreeNode]) -> int:\n",
    "        # left *2-1\n",
    "        # right *2\n",
    "        self.levels = defaultdict(list)\n",
    "        def dfs(root,height,pos):\n",
    "            if not root:\n",
    "                return \n",
    "            self.levels[height].append(pos)\n",
    "            dfs(root.left,height+1,pos*2-1)\n",
    "            dfs(root.right,height+1,pos*2)\n",
    "        dfs(root,0,1)\n",
    "        self.levels = dict(self.levels)\n",
    "        # print(list(self.levels.values()))\n",
    "        ans = 0\n",
    "        for arr in list(dict(self.levels).values()):\n",
    "            ans = max(ans,arr[-1]-arr[0]+1)\n",
    "        return ans\n",
    "        \n"
   ]
  }
 ],
 "metadata": {
  "language_info": {
   "name": "python"
  },
  "orig_nbformat": 4
 },
 "nbformat": 4,
 "nbformat_minor": 2
}

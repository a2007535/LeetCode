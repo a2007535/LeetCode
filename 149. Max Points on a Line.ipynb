{
 "cells": [
  {
   "cell_type": "code",
   "execution_count": null,
   "metadata": {},
   "outputs": [],
   "source": [
    "class Solution:\n",
    "    def maxPoints(self, points: List[List[int]]) -> int:\n",
    "        dictArray=[dict()]*len(points)\n",
    "        M=0\n",
    "        for i,(x1,y1) in enumerate(points):\n",
    "            for j,(x2,y2) in enumerate(points[i:]):\n",
    "                vector=(x2-x1,(y2-y1)/(x2-x1))\n",
    "                if vector in dictArray[i]:\n",
    "                    dictArray[i][vector]+=1\n",
    "                else:\n",
    "                    dictArray[i][vector]=1\n",
    "                if vector in dictArray[j]:\n",
    "                    dictArray[j][vector]+=1\n",
    "                else:\n",
    "                    dictArray[j][vector]=1\n",
    "            M=max(M,max(dictArray[i].values()))\n",
    "        return M"
   ]
  },
  {
   "cell_type": "code",
   "execution_count": 1,
   "metadata": {},
   "outputs": [
    {
     "data": {
      "text/plain": [
       "[1, 2, 3, 4, 5]"
      ]
     },
     "execution_count": 1,
     "metadata": {},
     "output_type": "execute_result"
    }
   ],
   "source": [
    "a=[0,1,2,3,4,5]\n",
    "a[1:]"
   ]
  },
  {
   "cell_type": "code",
   "execution_count": 5,
   "metadata": {},
   "outputs": [
    {
     "data": {
      "text/plain": [
       "1"
      ]
     },
     "execution_count": 5,
     "metadata": {},
     "output_type": "execute_result"
    }
   ],
   "source": [
    "import math\n",
    "math.gcd(1,0)"
   ]
  },
  {
   "cell_type": "code",
   "execution_count": null,
   "metadata": {},
   "outputs": [],
   "source": [
    "class Solution:\n",
    "    def maxPoints(self, P: List[List[int]]) -> int:\n",
    "        L, M, gcd = len(P), 1, math.gcd\n",
    "        for i,(x1,y1) in enumerate(P):\n",
    "            s, D = 1, collections.defaultdict(int, {0:0})\n",
    "            for (x2,y2) in P[i+1:]:\n",
    "                g = gcd(y2-y1, x2-x1)\n",
    "                if g == 0:\n",
    "                    continue\n",
    "                m = ((y2-y1)//g, (x2-x1)//g)\n",
    "                if m[1] == 0: m = (1,0)\n",
    "                if m[1] < 0: m = (-m[0],-m[1])\n",
    "                D[m] += 1\n",
    "            M = max(M, s + max(D.values()))\n",
    "        return M if P else 0"
   ]
  }
 ],
 "metadata": {
  "kernelspec": {
   "display_name": "Python 3",
   "language": "python",
   "name": "python3"
  },
  "language_info": {
   "codemirror_mode": {
    "name": "ipython",
    "version": 3
   },
   "file_extension": ".py",
   "mimetype": "text/x-python",
   "name": "python",
   "nbconvert_exporter": "python",
   "pygments_lexer": "ipython3",
   "version": "3.9.6 (default, Sep 13 2022, 22:03:16) \n[Clang 14.0.0 (clang-1400.0.29.102)]"
  },
  "orig_nbformat": 4,
  "vscode": {
   "interpreter": {
    "hash": "31f2aee4e71d21fbe5cf8b01ff0e069b9275f58929596ceb00d14d90e3e16cd6"
   }
  }
 },
 "nbformat": 4,
 "nbformat_minor": 2
}

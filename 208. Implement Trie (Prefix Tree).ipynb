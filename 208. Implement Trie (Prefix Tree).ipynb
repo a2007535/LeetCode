{
 "cells": [
  {
   "cell_type": "code",
   "execution_count": null,
   "metadata": {},
   "outputs": [],
   "source": [
    "class Node:\n",
    "    def __init__(self):\n",
    "        self.theEnd=False\n",
    "        self.children={}\n",
    "\n",
    "class Trie:\n",
    "    def __init__(self):\n",
    "        self.root=Node()\n",
    "    def insert(self, word: str) -> None:\n",
    "        temp=self.root\n",
    "        for i in word:\n",
    "            if i not in temp.children:\n",
    "                tempNode=Node()\n",
    "                temp.children[i]=tempNode\n",
    "            temp=temp.children[i]\n",
    "        temp.theEnd=True\n",
    "\n",
    "    def search(self, word: str) -> bool:\n",
    "        temp=self.root\n",
    "        for i in word:\n",
    "            if i in temp.children:\n",
    "                temp=temp.children[i]\n",
    "            else:\n",
    "                return False\n",
    "        if temp.theEnd:\n",
    "            return True\n",
    "        else:\n",
    "            return False\n",
    "\n",
    "    def startsWith(self, prefix: str) -> bool:\n",
    "        temp=self.root\n",
    "        for i in prefix:\n",
    "            if i in temp.children:\n",
    "                temp=temp.children[i]\n",
    "            else:\n",
    "                return False\n",
    "        return True\n",
    "\n",
    "\n",
    "# Your Trie object will be instantiated and called as such:\n",
    "# obj = Trie()\n",
    "# obj.insert(word)\n",
    "# param_2 = obj.search(word)\n",
    "# param_3 = obj.startsWith(prefix)"
   ]
  }
 ],
 "metadata": {
  "kernelspec": {
   "display_name": "Python 3",
   "language": "python",
   "name": "python3"
  },
  "language_info": {
   "name": "python",
   "version": "3.9.6 (default, Sep 13 2022, 22:03:16) \n[Clang 14.0.0 (clang-1400.0.29.102)]"
  },
  "orig_nbformat": 4,
  "vscode": {
   "interpreter": {
    "hash": "31f2aee4e71d21fbe5cf8b01ff0e069b9275f58929596ceb00d14d90e3e16cd6"
   }
  }
 },
 "nbformat": 4,
 "nbformat_minor": 2
}

{
 "cells": [
  {
   "cell_type": "code",
   "execution_count": 25,
   "metadata": {},
   "outputs": [
    {
     "name": "stdout",
     "output_type": "stream",
     "text": [
      "3\n",
      "4\n",
      "5\n"
     ]
    }
   ],
   "source": [
    "#改良下面\n",
    "class Solution:\n",
    "    def checkInclusion(self, s1: str, s2: str) -> bool:\n",
    "        from collections import Counter\n",
    "        \n",
    "        s1Counter = Counter(s1)\n",
    "\n",
    "        subStr = s2[0:0+len(s1)]\n",
    "        subStrCounter = Counter(subStr)\n",
    "        start=0\n",
    "        if subStrCounter == s1Counter:\n",
    "            return True\n",
    "        for i in range(len(s1),len(s2)):\n",
    "            print(subStrCounter)\n",
    "            if subStrCounter[s2[start]] == 1:\n",
    "                del subStrCounter[s2[start]]\n",
    "            else:\n",
    "                subStrCounter[s2[start]]-=1\n",
    "            start+=1\n",
    "            \n",
    "            if s2[i] in subStrCounter:\n",
    "                subStrCounter[s2[i]] +=1\n",
    "            else:\n",
    "                subStrCounter[s2[i]] =1\n",
    "                \n",
    "            if subStrCounter == s1Counter:\n",
    "                return True\n",
    "        return False"
   ]
  },
  {
   "cell_type": "code",
   "execution_count": null,
   "metadata": {},
   "outputs": [],
   "source": [
    "class Solution:\n",
    "    def checkInclusion(self, s1: str, s2: str) -> bool:\n",
    "        s1Dict = {}\n",
    "        for i in s1:\n",
    "            if i not in s1Dict:\n",
    "                s1Dict[i] = 1\n",
    "            else:\n",
    "                s1Dict[i] += 1\n",
    "        for i in range(len(s2)-len(s1)+1):\n",
    "            subStr = s2[i:i+len(s1)]\n",
    "            subStrDict = {}\n",
    "            for i in subStr:\n",
    "                if i not in subStrDict:\n",
    "                    subStrDict[i] = 1\n",
    "                else:\n",
    "                    subStrDict[i] += 1\n",
    "            if subStrDict == s1Dict:\n",
    "                return True\n",
    "        return False"
   ]
  },
  {
   "cell_type": "code",
   "execution_count": null,
   "metadata": {},
   "outputs": [],
   "source": [
    "#超級快 \n",
    "class Solution:\n",
    "    def checkInclusion(self, s1: str, s2: str) -> bool:\n",
    "        \"\"\"\n",
    "        Time: O(n) where n is len(s2)\n",
    "        Space: O(1) because s1Counter & s2Counter can have a maximum size of 26 characters (A - Z)\n",
    "        \"\"\"\n",
    "        \n",
    "        # Base case\n",
    "        if len(s2) < len(s1):\n",
    "            return False\n",
    "        \n",
    "        s1Counter, s2Counter = {}, {}\n",
    "        \n",
    "        # Create a counter dictionary to keep track of whatever that is in s1\n",
    "        # This will be used directly to compare with the character in the window (s2Counter)\n",
    "        for char in s1:\n",
    "            if char not in s1Counter:\n",
    "                s1Counter[char] = 0\n",
    "            s1Counter[char] += 1\n",
    "        \n",
    "        # Starting of the window\n",
    "        start = 0\n",
    "        \n",
    "        for end, char in enumerate(s2):\n",
    "            \n",
    "            # We will keep track of the characters in the window in s2Counter\n",
    "            if char not in s2Counter:\n",
    "                s2Counter[char] = 0\n",
    "            s2Counter[char] += 1\n",
    "            \n",
    "            # We will only start comparing when the len(s1) fits the windowSize\n",
    "            windowSize = end - start + 1\n",
    "            if windowSize == len(s1):\n",
    "                \n",
    "                # If s1Counter == s2Counter, we have found our answer\n",
    "                if s1Counter == s2Counter:\n",
    "                    return True\n",
    "                \n",
    "                # If the current character, s2Counter[s2[start]], is equals to 1, we do not want to remove the character from our dict because the character is still in the window\n",
    "                # E.g: s1 = \"adc\", s2 = \"dcda\", when the window is at \"dcd\", we have 2 \"d\"s inside the window. Hence, deleting s2Counter[s2[start]] is wrong here, we should just minus its count\n",
    "                if s2Counter[s2[start]] == 1:\n",
    "                    del s2Counter[s2[start]]\n",
    "                else:\n",
    "                    s2Counter[s2[start]] -= 1\n",
    "                    \n",
    "                # Move the window\n",
    "                start += 1\n",
    "\t\t\t\t\n",
    "        # If we have yet to find any matches, we shall return False at the end of iterating through s2\n",
    "        return False\n",
    "                "
   ]
  },
  {
   "cell_type": "code",
   "execution_count": null,
   "metadata": {},
   "outputs": [],
   "source": [
    "#TLE\n",
    "class Solution:\n",
    "    def Recur(self,s1,s2,index):\n",
    "        news1=dict(s1)\n",
    "        if news1 == {}:\n",
    "            return True\n",
    "        if index == len(s2):\n",
    "            return False\n",
    "        if s2[index] not in news1:\n",
    "            return self.Recur(self.chrDict,s2,index+1)\n",
    "        else:\n",
    "            if news1[s2[index]] == 1:\n",
    "                del news1[s2[index]]\n",
    "            else:\n",
    "                news1[s2[index]] -= 1\n",
    "            return self.Recur(news1,s2,index+1) or self.Recur(self.chrDict,s2,index+1)\n",
    "    def checkInclusion(self, s1: str, s2: str) -> bool:\n",
    "        self.chrDict = {}\n",
    "        for i in s1:\n",
    "            if i not in self.chrDict:\n",
    "                self.chrDict[i] = 1\n",
    "            else:\n",
    "                self.chrDict[i] +=1\n",
    "        return self.Recur(self.chrDict,s2,0)"
   ]
  }
 ],
 "metadata": {
  "kernelspec": {
   "display_name": "Python 3.8.9 64-bit",
   "language": "python",
   "name": "python3"
  },
  "language_info": {
   "codemirror_mode": {
    "name": "ipython",
    "version": 3
   },
   "file_extension": ".py",
   "mimetype": "text/x-python",
   "name": "python",
   "nbconvert_exporter": "python",
   "pygments_lexer": "ipython3",
   "version": "3.8.9"
  },
  "orig_nbformat": 4,
  "vscode": {
   "interpreter": {
    "hash": "31f2aee4e71d21fbe5cf8b01ff0e069b9275f58929596ceb00d14d90e3e16cd6"
   }
  }
 },
 "nbformat": 4,
 "nbformat_minor": 2
}

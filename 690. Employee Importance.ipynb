{
 "cells": [
  {
   "cell_type": "code",
   "execution_count": null,
   "metadata": {},
   "outputs": [],
   "source": [
    "\"\"\"\n",
    "# Definition for Employee.\n",
    "class Employee:\n",
    "    def __init__(self, id: int, importance: int, subordinates: List[int]):\n",
    "        self.id = id\n",
    "        self.importance = importance\n",
    "        self.subordinates = subordinates\n",
    "\"\"\"\n",
    "\n",
    "class Solution:\n",
    "    def getImportance(self, employees: List['Employee'], id: int) -> int:\n",
    "        importanceDict = {}\n",
    "        subordinatesDict = {}\n",
    "        for i in employees:\n",
    "            importanceDict[i.id]=i.importance\n",
    "            subordinatesDict[i.id]=i.subordinates\n",
    "        q = deque()\n",
    "        q.append(id)\n",
    "        ans = 0\n",
    "        while q:\n",
    "            newq = deque()\n",
    "            while q:\n",
    "                tmp = q.popleft()\n",
    "                ans+=importanceDict[tmp]\n",
    "                for i in subordinatesDict[tmp]:\n",
    "                    newq.append(i)\n",
    "            q=newq\n",
    "        return ans"
   ]
  }
 ],
 "metadata": {
  "language_info": {
   "name": "python"
  },
  "orig_nbformat": 4
 },
 "nbformat": 4,
 "nbformat_minor": 2
}

{
 "cells": [
  {
   "cell_type": "code",
   "execution_count": null,
   "metadata": {},
   "outputs": [],
   "source": [
    "class Solution:\n",
    "    def numUniqueEmails(self, emails: List[str]) -> int:\n",
    "        ans = set()\n",
    "        for i in emails:\n",
    "            local,domain = i.split('@')\n",
    "            local = local.replace('.','')\n",
    "            if '+' in local:\n",
    "                local = local[:local.index('+')]\n",
    "            ans.add(local+\"@\"+domain)\n",
    "        # print(ans)\n",
    "        return len(ans)"
   ]
  }
 ],
 "metadata": {
  "language_info": {
   "name": "python"
  },
  "orig_nbformat": 4
 },
 "nbformat": 4,
 "nbformat_minor": 2
}

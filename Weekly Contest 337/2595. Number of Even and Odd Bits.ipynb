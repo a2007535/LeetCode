{
 "cells": [
  {
   "cell_type": "code",
   "execution_count": null,
   "metadata": {},
   "outputs": [],
   "source": [
    "class Solution:\n",
    "    def evenOddBit(self, n: int) -> List[int]:\n",
    "        ans = [0,0]\n",
    "        pos = 0\n",
    "        while n != 0:\n",
    "            ans[pos] += n%2\n",
    "            n = n//2\n",
    "            pos += 1\n",
    "            pos %= 2\n",
    "        return ans"
   ]
  }
 ],
 "metadata": {
  "language_info": {
   "name": "python"
  },
  "orig_nbformat": 4
 },
 "nbformat": 4,
 "nbformat_minor": 2
}

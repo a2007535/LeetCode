{
 "cells": [
  {
   "cell_type": "code",
   "execution_count": null,
   "metadata": {},
   "outputs": [],
   "source": [
    "class Solution:\n",
    "    def beautifulSubsets(self, nums: List[int], k: int) -> int:\n",
    "        self.ans = 0\n",
    "        nums = sorted(nums)\n",
    "        def helper(res, nums, k):\n",
    "            if not nums:\n",
    "                return\n",
    "            if nums[0]-k in res:\n",
    "                helper(res, nums[1:],k)\n",
    "            else:\n",
    "                self.ans += 1\n",
    "                tempset = set(res)\n",
    "                tempset.add(nums[0])\n",
    "                helper(tempset,nums[1:],k)\n",
    "                helper(res, nums[1:],k)\n",
    "        temp = set()\n",
    "        helper(temp, nums, k)\n",
    "        return self.ans"
   ]
  }
 ],
 "metadata": {
  "language_info": {
   "name": "python"
  },
  "orig_nbformat": 4
 },
 "nbformat": 4,
 "nbformat_minor": 2
}

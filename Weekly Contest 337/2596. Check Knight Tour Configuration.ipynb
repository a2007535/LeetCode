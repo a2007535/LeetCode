{
 "cells": [
  {
   "cell_type": "code",
   "execution_count": null,
   "metadata": {},
   "outputs": [],
   "source": [
    "class Solution:\n",
    "    def checkValidGrid(self, grid: List[List[int]]) -> bool:\n",
    "        if grid[0][0] != 0:\n",
    "            return False\n",
    "        posdict = defaultdict(tuple)\n",
    "        for i in range(len(grid)):\n",
    "            for j in range(len(grid[0])):\n",
    "                posdict[grid[i][j]] = (i,j)\n",
    "        prevPos = posdict[0]\n",
    "        for i in range(1,len(grid)* len(grid)):\n",
    "            currPos = posdict[i]\n",
    "            if ((currPos[0]-prevPos[0])**2 + (currPos[1]-prevPos[1])**2) != 5:\n",
    "                return False\n",
    "            prevPos = currPos\n",
    "        return True"
   ]
  }
 ],
 "metadata": {
  "language_info": {
   "name": "python"
  },
  "orig_nbformat": 4
 },
 "nbformat": 4,
 "nbformat_minor": 2
}

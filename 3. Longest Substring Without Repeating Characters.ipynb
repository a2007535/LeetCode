{
 "cells": [
  {
   "cell_type": "code",
   "execution_count": null,
   "metadata": {},
   "outputs": [],
   "source": [
    "#1\n",
    "class Solution:\n",
    "    def lengthOfLongestSubstring(self, s: str) -> int:\n",
    "        charDict={}\n",
    "        returnValue = 0\n",
    "        charList=\"\"\n",
    "        for i in range(len(s)):\n",
    "            if s[i] not in charList:\n",
    "                charDict[s[i]]=i\n",
    "                charList += s[i]\n",
    "            else :\n",
    "                if returnValue < len(charList):\n",
    "                    returnValue = len(charList)\n",
    "                charList += s[i]\n",
    "                \n",
    "                charList=s[charDict[s[i]]+1:i+1]\n",
    "                charDict[s[i]]=i\n",
    "        if returnValue < len(charList):\n",
    "            returnValue = len(charList)\n",
    "        return returnValue"
   ]
  },
  {
   "cell_type": "code",
   "execution_count": 3,
   "metadata": {},
   "outputs": [
    {
     "data": {
      "text/plain": [
       "'abd'"
      ]
     },
     "execution_count": 3,
     "metadata": {},
     "output_type": "execute_result"
    }
   ],
   "source": [
    "#2\n",
    "class Solution:\n",
    "    def lengthOfLongestSubstring(self, s: str) -> int:\n",
    "        ansStr=\"\"\n",
    "        ans=0\n",
    "        for i in s:\n",
    "            if i in ansStr:\n",
    "                ans = max(ans,len(ansStr))\n",
    "                ansStr = ansStr[ansStr.index(i)+1::]\n",
    "            \n",
    "            ansStr= ansStr + i\n",
    "        ans = max(ans,len(ansStr))\n",
    "        return ans\n",
    "                    "
   ]
  },
  {
   "cell_type": "code",
   "execution_count": null,
   "metadata": {},
   "outputs": [],
   "source": [
    "class Solution:\n",
    "    def lengthOfLongestSubstring(self, s: str) -> int:\n",
    "        ansStr=\"\"\n",
    "        ans=0\n",
    "        for i in s:\n",
    "            if i not in ansStr:\n",
    "                ansStr=ansStr+i\n",
    "            else:\n",
    "                ans=max(ans,len(ansStr))\n",
    "                ansStr=ansStr[ansStr.index(i)+1::]+i\n",
    "        return ans\n",
    "             \n",
    "\n",
    "                    "
   ]
  }
 ],
 "metadata": {
  "kernelspec": {
   "display_name": "Python 3.8.9 64-bit",
   "language": "python",
   "name": "python3"
  },
  "language_info": {
   "codemirror_mode": {
    "name": "ipython",
    "version": 3
   },
   "file_extension": ".py",
   "mimetype": "text/x-python",
   "name": "python",
   "nbconvert_exporter": "python",
   "pygments_lexer": "ipython3",
   "version": "3.9.6 (default, Sep 13 2022, 22:03:16) \n[Clang 14.0.0 (clang-1400.0.29.102)]"
  },
  "orig_nbformat": 4,
  "vscode": {
   "interpreter": {
    "hash": "31f2aee4e71d21fbe5cf8b01ff0e069b9275f58929596ceb00d14d90e3e16cd6"
   }
  }
 },
 "nbformat": 4,
 "nbformat_minor": 2
}

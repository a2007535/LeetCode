{
 "cells": [
  {
   "cell_type": "code",
   "execution_count": 1,
   "metadata": {},
   "outputs": [],
   "source": [
    "class Solution:\n",
    "    def productExceptSelf(self, nums: List[int]) -> List[int]:\n",
    "        product=1\n",
    "        counter=Counter(nums)\n",
    "        haveTwoZero=counter[0]>1\n",
    "        \n",
    "        if haveTwoZero:\n",
    "            return [0]*len(nums) \n",
    "        \n",
    "        haveZero = 0 in nums\n",
    "        ans=[1]*len(nums)\n",
    "        for i in range(len(nums)):\n",
    "            if nums[i] != 0:\n",
    "                product*=nums[i]\n",
    "                if haveZero:\n",
    "                    ans[i]=0\n",
    "        \n",
    "        for i in range(len(nums)):\n",
    "            if ans[i]==1:\n",
    "                if nums[i]!=0:\n",
    "                    ans[i]=product//nums[i]\n",
    "                else:\n",
    "                    ans[i]=product\n",
    "        return ans\n",
    "\n"
   ]
  },
  {
   "cell_type": "code",
   "execution_count": 1,
   "metadata": {},
   "outputs": [
    {
     "data": {
      "text/plain": [
       "[4, 3, 2, 1]"
      ]
     },
     "execution_count": 1,
     "metadata": {},
     "output_type": "execute_result"
    }
   ],
   "source": [
    "class Solution:\n",
    "    def productExceptSelf(self, nums: List[int]) -> List[int]:\n",
    "        p = 1\n",
    "        ans = []\n",
    "        for i in nums:\n",
    "            ans.append(p)\n",
    "            p = p * i\n",
    "        p = 1\n",
    "        n = len(nums)-1\n",
    "        for i in nums[::-1]:\n",
    "            ans[n] = ans[n]*p\n",
    "            p = p*i\n",
    "            n-=1\n",
    "        return ans"
   ]
  },
  {
   "cell_type": "code",
   "execution_count": null,
   "metadata": {},
   "outputs": [],
   "source": []
  }
 ],
 "metadata": {
  "kernelspec": {
   "display_name": "Python 3",
   "language": "python",
   "name": "python3"
  },
  "language_info": {
   "codemirror_mode": {
    "name": "ipython",
    "version": 3
   },
   "file_extension": ".py",
   "mimetype": "text/x-python",
   "name": "python",
   "nbconvert_exporter": "python",
   "pygments_lexer": "ipython3",
   "version": "3.11.1"
  },
  "orig_nbformat": 4,
  "vscode": {
   "interpreter": {
    "hash": "c36892433cb4678e8e18e102d61482daaf1eaa7c72471b8a896202a24f4706d1"
   }
  }
 },
 "nbformat": 4,
 "nbformat_minor": 2
}

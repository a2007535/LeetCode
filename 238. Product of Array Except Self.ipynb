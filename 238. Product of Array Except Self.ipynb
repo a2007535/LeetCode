{
 "cells": [
  {
   "cell_type": "code",
   "execution_count": 1,
   "metadata": {},
   "outputs": [],
   "source": [
    "class Solution:\n",
    "    def productExceptSelf(self, nums: List[int]) -> List[int]:\n",
    "        product=1\n",
    "        counter=Counter(nums)\n",
    "        haveTwoZero=counter[0]>1\n",
    "        \n",
    "        if haveTwoZero:\n",
    "            return [0]*len(nums) \n",
    "        \n",
    "        haveZero = 0 in nums\n",
    "        ans=[1]*len(nums)\n",
    "        for i in range(len(nums)):\n",
    "            if nums[i] != 0:\n",
    "                product*=nums[i]\n",
    "                if haveZero:\n",
    "                    ans[i]=0\n",
    "        \n",
    "        for i in range(len(nums)):\n",
    "            if ans[i]==1:\n",
    "                if nums[i]!=0:\n",
    "                    ans[i]=product//nums[i]\n",
    "                else:\n",
    "                    ans[i]=product\n",
    "        return ans\n",
    "\n"
   ]
  },
  {
   "cell_type": "code",
   "execution_count": null,
   "metadata": {},
   "outputs": [],
   "source": []
  }
 ],
 "metadata": {
  "kernelspec": {
   "display_name": "Python 3",
   "language": "python",
   "name": "python3"
  },
  "language_info": {
   "codemirror_mode": {
    "name": "ipython",
    "version": 3
   },
   "file_extension": ".py",
   "mimetype": "text/x-python",
   "name": "python",
   "nbconvert_exporter": "python",
   "pygments_lexer": "ipython3",
   "version": "3.9.6"
  },
  "orig_nbformat": 4,
  "vscode": {
   "interpreter": {
    "hash": "31f2aee4e71d21fbe5cf8b01ff0e069b9275f58929596ceb00d14d90e3e16cd6"
   }
  }
 },
 "nbformat": 4,
 "nbformat_minor": 2
}

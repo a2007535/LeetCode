{
 "cells": [
  {
   "cell_type": "code",
   "execution_count": null,
   "metadata": {},
   "outputs": [],
   "source": [
    "class Solution:\n",
    "    def minCostClimbingStairs(self, cost: List[int]) -> int:\n",
    "        cache = dict()\n",
    "        def dfs(index) -> int:\n",
    "            if index < 0:\n",
    "                return 0\n",
    "            elif index in cache:\n",
    "                return cache[index]\n",
    "            elif index == 0 or index == 1:\n",
    "                return cost[index]\n",
    "            cache[index] = cost[index] + min(dfs(index-1),dfs(index-2))\n",
    "            return cache[index]\n",
    "        return min(dfs(len(cost)-1),dfs(len(cost)-2))\n"
   ]
  },
  {
   "cell_type": "code",
   "execution_count": null,
   "metadata": {},
   "outputs": [],
   "source": [
    "class Solution:\n",
    "    def minCostClimbingStairs(self, cost: List[int]) -> int:\n",
    "        # dp=cost[:2]\n",
    "        # for i,n in enumerate(cost[2:]):\n",
    "        #     tmp = min(dp[i],dp[i+1])\n",
    "        #     dp.append(n+tmp)\n",
    "        # # print(dp)\n",
    "        # return min(dp[-1],dp[-2])\n",
    "        pp,p = cost[0],cost[1]\n",
    "        for i,n in enumerate(cost[2:]):\n",
    "            tmp = min(pp,p)\n",
    "            pp=p\n",
    "            p=tmp+n\n",
    "        return min(pp,p)"
   ]
  }
 ],
 "metadata": {
  "language_info": {
   "name": "python"
  },
  "orig_nbformat": 4
 },
 "nbformat": 4,
 "nbformat_minor": 2
}

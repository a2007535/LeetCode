{
 "cells": [
  {
   "cell_type": "code",
   "execution_count": null,
   "metadata": {},
   "outputs": [],
   "source": [
    "class Solution:\n",
    "    def minCostClimbingStairs(self, cost: List[int]) -> int:\n",
    "        cache = dict()\n",
    "        def dfs(index) -> int:\n",
    "            if index < 0:\n",
    "                return 0\n",
    "            elif index in cache:\n",
    "                return cache[index]\n",
    "            elif index == 0 or index == 1:\n",
    "                return cost[index]\n",
    "            cache[index] = cost[index] + min(dfs(index-1),dfs(index-2))\n",
    "            return cache[index]\n",
    "        return min(dfs(len(cost)-1),dfs(len(cost)-2))\n"
   ]
  },
  {
   "cell_type": "code",
   "execution_count": null,
   "metadata": {},
   "outputs": [],
   "source": []
  }
 ],
 "metadata": {
  "language_info": {
   "name": "python"
  },
  "orig_nbformat": 4
 },
 "nbformat": 4,
 "nbformat_minor": 2
}

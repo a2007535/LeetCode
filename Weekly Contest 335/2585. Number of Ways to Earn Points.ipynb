{
 "cells": [
  {
   "cell_type": "code",
   "execution_count": null,
   "metadata": {},
   "outputs": [],
   "source": [
    "class Solution:\n",
    "    def waysToReachTarget(self, target: int, types: List[List[int]]) -> int:\n",
    "        @cache\n",
    "        def dfs(i, target):\n",
    "            if target == 0: return 1\n",
    "            if i >= len(types) or target < 0: return 0\n",
    "            return sum(dfs(i + 1, target - j * types[i][1]) for j in range(types[i][0] + 1)) % 1000000007\n",
    "        return dfs(0, target)"
   ]
  }
 ],
 "metadata": {
  "language_info": {
   "name": "python"
  },
  "orig_nbformat": 4
 },
 "nbformat": 4,
 "nbformat_minor": 2
}

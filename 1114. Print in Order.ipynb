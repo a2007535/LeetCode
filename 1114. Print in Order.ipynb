{
 "cells": [
  {
   "cell_type": "code",
   "execution_count": null,
   "metadata": {},
   "outputs": [],
   "source": [
    "class Foo:\n",
    "    def __init__(self):\n",
    "        self.tmp=0\n",
    "        pass\n",
    "\n",
    "    def first(self, printFirst: 'Callable[[], None]') -> None:\n",
    "        printFirst()\n",
    "        self.tmp=1\n",
    "        # printFirst() outputs \"first\". Do not change or remove this line.\n",
    "        \n",
    "\n",
    "\n",
    "    def second(self, printSecond: 'Callable[[], None]') -> None:\n",
    "        \n",
    "        # printSecond() outputs \"second\". Do not change or remove this line.\n",
    "        while self.tmp !=1:\n",
    "            continue\n",
    "        printSecond()\n",
    "        self.tmp = 2\n",
    "\n",
    "    def third(self, printThird: 'Callable[[], None]') -> None:\n",
    "        \n",
    "        # printThird() outputs \"third\". Do not change or remove this line.\n",
    "        while self.tmp !=2:\n",
    "            continue\n",
    "        printThird()\n",
    "        tmp=3"
   ]
  }
 ],
 "metadata": {
  "kernelspec": {
   "display_name": "Python 3.8.9 64-bit",
   "language": "python",
   "name": "python3"
  },
  "language_info": {
   "name": "python",
   "version": "3.8.9"
  },
  "orig_nbformat": 4,
  "vscode": {
   "interpreter": {
    "hash": "31f2aee4e71d21fbe5cf8b01ff0e069b9275f58929596ceb00d14d90e3e16cd6"
   }
  }
 },
 "nbformat": 4,
 "nbformat_minor": 2
}

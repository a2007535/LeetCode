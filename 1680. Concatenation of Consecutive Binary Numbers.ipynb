{
 "cells": [
  {
   "cell_type": "code",
   "execution_count": null,
   "metadata": {},
   "outputs": [],
   "source": [
    "class Solution:\n",
    "    def decimalToBinary(self,n):\n",
    "        if n == 0:\n",
    "            return \"\"\n",
    "        if n%2==0:\n",
    "            return self.decimalToBinary(n/2) + \"0\"\n",
    "        else:\n",
    "            return self.decimalToBinary(n//2) + \"1\"\n",
    "    def createCorrBin(self,n):\n",
    "        if n == 0:\n",
    "            return \"\"\n",
    "        return self.createCorrBin(n-1) + self.decimalToBinary(n)\n",
    "    \n",
    "    def binToDecimal(self, s:str ,n:int,length:int):\n",
    "        if n == length:\n",
    "            return 0\n",
    "        if s[n]==\"0\":\n",
    "            return self.binToDecimal(s,n+1,length)\n",
    "        else:\n",
    "            return self.binToDecimal(s,n+1,length) + 2**(length-1-n)\n",
    "        \n",
    "    def concatenatedBinary(self, n: int) -> int:\n",
    "        return self.binToDecimal(self.createCorrBin(n),0,len(self.createCorrBin(n)))%(10**9+7)\n",
    "            "
   ]
  },
  {
   "cell_type": "code",
   "execution_count": 1,
   "metadata": {},
   "outputs": [
    {
     "ename": "SyntaxError",
     "evalue": "invalid syntax (3359306162.py, line 1)",
     "output_type": "error",
     "traceback": [
      "\u001b[0;36m  Cell \u001b[0;32mIn [1], line 1\u001b[0;36m\u001b[0m\n\u001b[0;31m    1000.bit_length()\u001b[0m\n\u001b[0m         ^\u001b[0m\n\u001b[0;31mSyntaxError\u001b[0m\u001b[0;31m:\u001b[0m invalid syntax\n"
     ]
    }
   ],
   "source": [
    "def concatenatedBinary(self, n: int) -> int:\n",
    "    s = 0\n",
    "    for i in range(1, n+1):\n",
    "        s = (s << i.bit_length() | i) % 1000000007\n",
    "        \n",
    "    return s"
   ]
  },
  {
   "cell_type": "code",
   "execution_count": 13,
   "metadata": {},
   "outputs": [
    {
     "data": {
      "text/plain": [
       "26"
      ]
     },
     "execution_count": 13,
     "metadata": {},
     "output_type": "execute_result"
    }
   ],
   "source": [
    "(1<<(10).bit_length()|10)"
   ]
  },
  {
   "cell_type": "code",
   "execution_count": 20,
   "metadata": {},
   "outputs": [
    {
     "data": {
      "text/plain": [
       "0"
      ]
     },
     "execution_count": 20,
     "metadata": {},
     "output_type": "execute_result"
    }
   ],
   "source": [
    "a={}\n",
    "len(a)"
   ]
  },
  {
   "cell_type": "code",
   "execution_count": 21,
   "metadata": {},
   "outputs": [
    {
     "data": {
      "text/plain": [
       "0"
      ]
     },
     "execution_count": 21,
     "metadata": {},
     "output_type": "execute_result"
    }
   ],
   "source": [
    "-10%2"
   ]
  },
  {
   "cell_type": "code",
   "execution_count": null,
   "metadata": {},
   "outputs": [],
   "source": []
  }
 ],
 "metadata": {
  "kernelspec": {
   "display_name": "Python 3.8.9 64-bit",
   "language": "python",
   "name": "python3"
  },
  "language_info": {
   "codemirror_mode": {
    "name": "ipython",
    "version": 3
   },
   "file_extension": ".py",
   "mimetype": "text/x-python",
   "name": "python",
   "nbconvert_exporter": "python",
   "pygments_lexer": "ipython3",
   "version": "3.8.9"
  },
  "orig_nbformat": 4,
  "vscode": {
   "interpreter": {
    "hash": "31f2aee4e71d21fbe5cf8b01ff0e069b9275f58929596ceb00d14d90e3e16cd6"
   }
  }
 },
 "nbformat": 4,
 "nbformat_minor": 2
}

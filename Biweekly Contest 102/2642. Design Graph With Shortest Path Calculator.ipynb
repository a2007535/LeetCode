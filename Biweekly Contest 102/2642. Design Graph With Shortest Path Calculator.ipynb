{
 "cells": [
  {
   "cell_type": "code",
   "execution_count": null,
   "metadata": {},
   "outputs": [],
   "source": [
    "class Graph:\n",
    "\n",
    "    def __init__(self, n: int, edges: List[List[int]]):\n",
    "        self.nodeDict = {}\n",
    "        self.n = n\n",
    "        for i in range(n):\n",
    "            self.nodeDict[i]=[0]*n\n",
    "        for src,des,dist in edges:\n",
    "            self.nodeDict[src][des] = dist\n",
    "\n",
    "    def addEdge(self, edge: List[int]) -> None:\n",
    "        src, des, dist = edge\n",
    "        self.nodeDict[src][des] = dist\n",
    "\n",
    "    def shortestPath(self, node1: int, node2: int) -> int:\n",
    "        dist = [inf] * self.n\n",
    "        dist[node1] = 0\n",
    "        visited = [False] * self.n\n",
    "        for i in range(self.n):\n",
    "            temp = self.minDist(dist, visited)\n",
    "            visited[temp] = True\n",
    "            for j in range(self.n):\n",
    "                if temp == -1:\n",
    "                    continue\n",
    "                if (self.nodeDict[temp][j]>0 and not visited[j] and dist[j] > dist[temp] + self.nodeDict[temp][j]):\n",
    "                    dist[j] = dist[temp] + self.nodeDict[temp][j]\n",
    "        return dist[node2] if dist[node2] != inf else -1\n",
    "            \n",
    "    def minDist(self, dist, sptSet):\n",
    "        minVal = inf\n",
    "        min_index = -1\n",
    "        for v in range(self.n):\n",
    "            # print(v,dist,sptSet)\n",
    "            if dist[v] < minVal and sptSet[v] == False:\n",
    "                minVal = dist[v]\n",
    "                min_index = v\n",
    "        return min_index \n",
    "\n",
    "# Your Graph object will be instantiated and called as such:\n",
    "# obj = Graph(n, edges)\n",
    "# obj.addEdge(edge)\n",
    "# param_2 = obj.shortestPath(node1,node2)"
   ]
  }
 ],
 "metadata": {
  "language_info": {
   "name": "python"
  },
  "orig_nbformat": 4
 },
 "nbformat": 4,
 "nbformat_minor": 2
}

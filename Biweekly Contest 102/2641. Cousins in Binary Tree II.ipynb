{
 "cells": [
  {
   "cell_type": "code",
   "execution_count": null,
   "metadata": {},
   "outputs": [],
   "source": [
    "# Definition for a binary tree node.\n",
    "# class TreeNode:\n",
    "#     def __init__(self, val=0, left=None, right=None):\n",
    "#         self.val = val\n",
    "#         self.left = left\n",
    "#         self.right = right\n",
    "class Solution:\n",
    "    def replaceValueInTree(self, root: Optional[TreeNode]) -> Optional[TreeNode]:\n",
    "        parentDict = {}\n",
    "        deepDict = {}\n",
    "        def dfs(root,parent,depth):\n",
    "            if not root:\n",
    "                return\n",
    "            deepDict[depth] = deepDict.get(depth,0) + root.val\n",
    "            if parent:\n",
    "                parentDict[parent] = parentDict.get(parent,0) + root.val\n",
    "            dfs(root.left,root,depth+1)\n",
    "            dfs(root.right,root,depth+1)\n",
    "        dfs(root,None,0)\n",
    "        def helper(root,parent,depth):\n",
    "            if not root:\n",
    "                return\n",
    "            if parent:\n",
    "                root.val = deepDict[depth] - parentDict[parent]\n",
    "            else:\n",
    "                root.val = 0\n",
    "            helper(root.left,root,depth+1)\n",
    "            helper(root.right,root,depth+1)\n",
    "        helper(root, None, 0)\n",
    "        return root"
   ]
  }
 ],
 "metadata": {
  "language_info": {
   "name": "python"
  },
  "orig_nbformat": 4
 },
 "nbformat": 4,
 "nbformat_minor": 2
}

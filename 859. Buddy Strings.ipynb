{
 "cells": [
  {
   "cell_type": "code",
   "execution_count": null,
   "metadata": {},
   "outputs": [],
   "source": [
    "class Solution:\n",
    "    def buddyStrings(self, s: str, goal: str) -> bool:\n",
    "        if len(s) != len(goal):\n",
    "            return False\n",
    "        if s == goal and max(dict(Counter(s)).values()) >=2:\n",
    "            return True\n",
    "        temp = []\n",
    "        for i in range(len(s)):\n",
    "            if s[i] != goal[i]:\n",
    "                temp.append([s[i],goal[i]])\n",
    "        print(temp)\n",
    "        if len(temp) == 2:\n",
    "            if temp[0][1] == temp[1][0] and temp[0][0] == temp[1][1]:\n",
    "                return True\n",
    "        return False"
   ]
  }
 ],
 "metadata": {
  "language_info": {
   "name": "python"
  },
  "orig_nbformat": 4
 },
 "nbformat": 4,
 "nbformat_minor": 2
}

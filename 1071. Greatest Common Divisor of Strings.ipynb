{
 "cells": [
  {
   "cell_type": "code",
   "execution_count": null,
   "metadata": {},
   "outputs": [],
   "source": [
    "class Solution:\n",
    "    def gcdOfStrings(self, str1: str, str2: str) -> str:\n",
    "        len1 = len(str1)\n",
    "        len2 = len(str2)\n",
    "        gcdlen = gcd(len1,len2)\n",
    "        tempstr = \"\"\n",
    "        if len1 > len2:\n",
    "            tempstr = str2[:gcdlen]\n",
    "        else:\n",
    "            tempstr = str1[:gcdlen]\n",
    "        # print(str1.replace(tempstr,\"\"))\n",
    "        return tempstr if not str1.replace(tempstr,\"\") and not str2.replace(tempstr,\"\") else \"\""
   ]
  }
 ],
 "metadata": {
  "language_info": {
   "name": "python"
  },
  "orig_nbformat": 4
 },
 "nbformat": 4,
 "nbformat_minor": 2
}

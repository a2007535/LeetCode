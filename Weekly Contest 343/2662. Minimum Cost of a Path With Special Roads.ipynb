{
 "cells": [
  {
   "cell_type": "code",
   "execution_count": null,
   "metadata": {},
   "outputs": [],
   "source": [
    "class Solution:\n",
    "    def minimumCost(self, start: List[int], target: List[int], specialRoads: List[List[int]]) -> int:\n",
    "        mp = defaultdict(list, {tuple(target) : [(0, 0, 0)]})\n",
    "        for x, y, xx, yy, cost in specialRoads: \n",
    "            mp[x, y].append((xx, yy, cost))\n",
    "        dist = defaultdict(lambda : inf)\n",
    "        dist[tuple(start)] = 0 \n",
    "        pq = [(0, *start)]\n",
    "        while pq: \n",
    "            d, x, y = heappop(pq)\n",
    "            if [x, y] == target: return d \n",
    "            for xx, yy, cost in mp[x, y]: \n",
    "                if d+cost < dist[xx, yy]: \n",
    "                    dist[xx, yy] = d+cost\n",
    "                    heappush(pq, (d+cost, xx, yy))\n",
    "            for x1, y1 in mp: \n",
    "                dd = d + abs(x1-x) + abs(y1-y)\n",
    "                if dd < dist[x1, y1]: \n",
    "                    dist[x1, y1] = dd\n",
    "                    heappush(pq, (dd, x1, y1))"
   ]
  }
 ],
 "metadata": {
  "language_info": {
   "name": "python"
  },
  "orig_nbformat": 4
 },
 "nbformat": 4,
 "nbformat_minor": 2
}

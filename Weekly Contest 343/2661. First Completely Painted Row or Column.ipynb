{
 "cells": [
  {
   "cell_type": "code",
   "execution_count": null,
   "metadata": {},
   "outputs": [],
   "source": [
    "class Solution:\n",
    "    def firstCompleteIndex(self, arr: List[int], mat: List[List[int]]) -> int:\n",
    "        col = [0]*len(mat)\n",
    "        row = [0]*len(mat[0])\n",
    "        matdict = {}\n",
    "        for x in range(len(mat[0])):\n",
    "            for y in range(len(mat)):\n",
    "                matdict[mat[y][x]] = [x,y]\n",
    "        for i,n in enumerate(arr):\n",
    "            [x,y] = matdict[n]\n",
    "            col[y]+=1\n",
    "            row[x]+=1\n",
    "            if col[y] == len(row) or row[x]==len(col):\n",
    "                return i"
   ]
  }
 ],
 "metadata": {
  "language_info": {
   "name": "python"
  },
  "orig_nbformat": 4
 },
 "nbformat": 4,
 "nbformat_minor": 2
}

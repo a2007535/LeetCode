{
 "cells": [
  {
   "cell_type": "code",
   "execution_count": null,
   "metadata": {},
   "outputs": [],
   "source": [
    "class Solution:\n",
    "    def isWinner(self, player1: List[int], player2: List[int]) -> int:\n",
    "        p1 = 0\n",
    "        haveten = 0\n",
    "        for i in player1:\n",
    "            if haveten:\n",
    "                haveten-=1\n",
    "                p1 += i*2\n",
    "            else:\n",
    "                p1 += i\n",
    "            if i == 10:\n",
    "                haveten = 2\n",
    "        p2 = 0\n",
    "        haveten = 0\n",
    "        for i in player2:\n",
    "            if haveten:\n",
    "                haveten-=1\n",
    "                p2 += i*2\n",
    "            else:\n",
    "                p2 += i\n",
    "            if i == 10:\n",
    "                haveten = 2\n",
    "        if p1 == p2:\n",
    "            return 0\n",
    "        return 1 if p1>p2 else 2"
   ]
  }
 ],
 "metadata": {
  "language_info": {
   "name": "python"
  },
  "orig_nbformat": 4
 },
 "nbformat": 4,
 "nbformat_minor": 2
}

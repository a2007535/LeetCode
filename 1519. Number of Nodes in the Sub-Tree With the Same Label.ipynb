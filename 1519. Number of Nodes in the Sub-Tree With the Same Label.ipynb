{
 "cells": [
  {
   "cell_type": "code",
   "execution_count": 15,
   "metadata": {},
   "outputs": [
    {
     "name": "stdout",
     "output_type": "stream",
     "text": [
      "0 1\n",
      "1 1\n",
      "2 1\n"
     ]
    }
   ],
   "source": [
    "class Solution:\n",
    "    def countSubTrees(self, n: int, edges: List[List[int]], labels: str) -> List[int]:\n",
    "        self.nodeDict=defaultdict(list)\n",
    "        self.labels=labels\n",
    "        self.ans=[0]*n\n",
    "        for i,j in edges:\n",
    "            self.nodeDict[i].append(j)\n",
    "            self.nodeDict[j].append(i)\n",
    "        self.alreadyNode=set()\n",
    "        self.DFS(0)\n",
    "        return self.ans\n",
    "    def DFS(self,point):\n",
    "        self.alreadyNode.add(point)\n",
    "        labelsDict=defaultdict(int)\n",
    "        for i in self.nodeDict[point]:\n",
    "            if i not in self.alreadyNode:\n",
    "                temp=self.DFS(i)\n",
    "                for j,k in zip(temp,temp.values()):\n",
    "                    labelsDict[j]+=k\n",
    "        labelsDict[self.labels[point]]+=1\n",
    "        self.ans[point]=labelsDict[self.labels[point]]\n",
    "        return labelsDict\n"
   ]
  },
  {
   "cell_type": "code",
   "execution_count": null,
   "metadata": {},
   "outputs": [],
   "source": []
  }
 ],
 "metadata": {
  "kernelspec": {
   "display_name": "Python 3",
   "language": "python",
   "name": "python3"
  },
  "language_info": {
   "codemirror_mode": {
    "name": "ipython",
    "version": 3
   },
   "file_extension": ".py",
   "mimetype": "text/x-python",
   "name": "python",
   "nbconvert_exporter": "python",
   "pygments_lexer": "ipython3",
   "version": "3.9.6"
  },
  "orig_nbformat": 4,
  "vscode": {
   "interpreter": {
    "hash": "31f2aee4e71d21fbe5cf8b01ff0e069b9275f58929596ceb00d14d90e3e16cd6"
   }
  }
 },
 "nbformat": 4,
 "nbformat_minor": 2
}

{
 "cells": [
  {
   "cell_type": "code",
   "execution_count": null,
   "metadata": {},
   "outputs": [],
   "source": [
    "class Solution:\n",
    "    def leftRigthDifference(self, nums: List[int]) -> List[int]:\n",
    "        left = [0]+list(accumulate(nums[:-1]))\n",
    "        right = list(accumulate(nums[::-1]))[::-1]+[0]\n",
    "        del right[0]\n",
    "        ans  = []\n",
    "        for i in range(len(nums)):\n",
    "            ans.append(abs(left[i]-right[i]))\n",
    "        return ans"
   ]
  }
 ],
 "metadata": {
  "language_info": {
   "name": "python"
  },
  "orig_nbformat": 4
 },
 "nbformat": 4,
 "nbformat_minor": 2
}

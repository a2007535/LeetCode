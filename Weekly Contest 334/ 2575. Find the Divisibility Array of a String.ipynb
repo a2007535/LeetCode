{
 "cells": [
  {
   "cell_type": "code",
   "execution_count": null,
   "metadata": {},
   "outputs": [],
   "source": [
    "class Solution:\n",
    "    def divisibilityArray(self, word: str, m: int) -> List[int]:\n",
    "        prev = int(word[0]) % m\n",
    "        if prev == 0:\n",
    "            ans = [1]\n",
    "        else:\n",
    "            ans = [0]\n",
    "        for i in word[1:]:\n",
    "            prev = (prev * 10 + int(i)) % m\n",
    "            if prev == 0:\n",
    "                ans.append(1)\n",
    "            else:\n",
    "                ans.append(0)\n",
    "        return ans"
   ]
  }
 ],
 "metadata": {
  "language_info": {
   "name": "python"
  },
  "orig_nbformat": 4
 },
 "nbformat": 4,
 "nbformat_minor": 2
}

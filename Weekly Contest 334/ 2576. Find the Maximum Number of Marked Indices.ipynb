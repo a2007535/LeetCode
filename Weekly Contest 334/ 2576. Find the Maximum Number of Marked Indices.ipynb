{
 "cells": [
  {
   "cell_type": "code",
   "execution_count": null,
   "metadata": {},
   "outputs": [],
   "source": [
    "class Solution:\n",
    "    def maxNumOfMarkedIndices(self, nums: List[int]) -> int:\n",
    "        nums.sort()\n",
    "        setindex = set()\n",
    "        l = 0\n",
    "        r = len(nums)//2\n",
    "        ans = 0\n",
    "        while r != len(nums):\n",
    "            if l in setindex:\n",
    "                l+=1\n",
    "                continue\n",
    "            if nums[r] >= nums[l]*2:\n",
    "                ans +=2\n",
    "                setindex.add(r)\n",
    "                l+=1\n",
    "                r+=1\n",
    "            else:\n",
    "                r+=1\n",
    "        return ans"
   ]
  }
 ],
 "metadata": {
  "language_info": {
   "name": "python"
  },
  "orig_nbformat": 4
 },
 "nbformat": 4,
 "nbformat_minor": 2
}

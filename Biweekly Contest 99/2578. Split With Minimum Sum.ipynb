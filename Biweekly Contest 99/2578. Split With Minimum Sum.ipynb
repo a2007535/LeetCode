{
 "cells": [
  {
   "cell_type": "code",
   "execution_count": null,
   "metadata": {},
   "outputs": [],
   "source": [
    "class Solution:\n",
    "    def splitNum(self, num: int) -> int:\n",
    "        num = list(str(num))\n",
    "        num.sort()\n",
    "        ans = [\"\",\"\"]\n",
    "        index = 0\n",
    "        for i in num:\n",
    "            ans[index] += i\n",
    "            index += 1\n",
    "            index %= 2\n",
    "        return int(ans[0])+int(ans[1])\n",
    "        # return 0"
   ]
  }
 ],
 "metadata": {
  "language_info": {
   "name": "python"
  },
  "orig_nbformat": 4
 },
 "nbformat": 4,
 "nbformat_minor": 2
}

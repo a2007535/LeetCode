{
 "cells": [
  {
   "cell_type": "code",
   "execution_count": null,
   "metadata": {},
   "outputs": [],
   "source": [
    "class Solution:\n",
    "    def findMin(self, nums: List[int]) -> int:\n",
    "        l = 0\n",
    "        r = len(nums)-1\n",
    "        mid =(r+l)//2\n",
    "        while r > l:\n",
    "            mid =(r+l)//2\n",
    "            if nums[mid-1] > nums[mid]:\n",
    "                return nums[mid]\n",
    "            if nums[mid] < nums[l]:\n",
    "                r = mid\n",
    "            elif nums[mid] > nums[r]:\n",
    "                l = mid+1\n",
    "            else:\n",
    "                r = mid\n",
    "        return nums[r]"
   ]
  }
 ],
 "metadata": {
  "language_info": {
   "name": "python"
  },
  "orig_nbformat": 4
 },
 "nbformat": 4,
 "nbformat_minor": 2
}

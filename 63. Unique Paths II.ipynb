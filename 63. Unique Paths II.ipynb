{
 "cells": [
  {
   "cell_type": "code",
   "execution_count": null,
   "metadata": {},
   "outputs": [],
   "source": [
    "class Solution:\n",
    "    def uniquePathsWithObstacles(self, obstacleGrid: List[List[int]]) -> int:\n",
    "        if obstacleGrid[0][0] == 1 or obstacleGrid[-1][-1] == 1:\n",
    "            return 0\n",
    "        for y in range(len(obstacleGrid)):\n",
    "            for x in range(len(obstacleGrid[0])):\n",
    "                if obstacleGrid[y][x] == 1:\n",
    "                    obstacleGrid[y][x] = -1\n",
    "        obstacleGrid[0][0] = 1\n",
    "        for y in range(len(obstacleGrid)):\n",
    "            for x in range(len(obstacleGrid[0])):\n",
    "                if obstacleGrid[y][x] == -1:\n",
    "                    continue\n",
    "                if x==0 and y==0:\n",
    "                    continue\n",
    "                tmp1 = obstacleGrid[y-1][x] if (obstacleGrid[y-1][x] != -1 and y!=0) else 0\n",
    "                tmp2 = obstacleGrid[y][x-1] if (obstacleGrid[y][x-1] != -1 and x!=0) else 0\n",
    "                obstacleGrid[y][x] = tmp1 + tmp2\n",
    "        return obstacleGrid[-1][-1]"
   ]
  }
 ],
 "metadata": {
  "language_info": {
   "name": "python"
  },
  "orig_nbformat": 4
 },
 "nbformat": 4,
 "nbformat_minor": 2
}

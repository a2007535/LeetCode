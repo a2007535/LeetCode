{
 "cells": [
  {
   "cell_type": "code",
   "execution_count": 1,
   "metadata": {},
   "outputs": [
    {
     "name": "stdout",
     "output_type": "stream",
     "text": [
      "1\n",
      "2\n",
      "3\n",
      "4\n",
      "5\n",
      "6\n",
      "7\n",
      "8\n",
      "9\n"
     ]
    }
   ],
   "source": [
    "class Solution:\n",
    "    def longestPalindrome(self, s: str) -> str:\n",
    "        s=\",\"+s+\".\"\n",
    "        returnAns=\"\"\n",
    "        for i in range(1,len(s)-1):\n",
    "            front=i\n",
    "            back=i\n",
    "            while(s[front-1] == s[back+1]):\n",
    "                front-=1\n",
    "                back+=1\n",
    "            ans=s[front:back+1]\n",
    "            print(front,back,ans)\n",
    "            if len(ans)>len(returnAns):\n",
    "                returnAns=ans\n",
    "            front =i\n",
    "            back = i+1\n",
    "            try:\n",
    "                if s[front]!=s[back]:\n",
    "                    continue\n",
    "                while(s[front-1] == s[back+1]):\n",
    "                    front-=1\n",
    "                    back+=1\n",
    "                ans=s[front:back+1]\n",
    "                print(front,back,ans)\n",
    "                if len(ans)>len(returnAns):\n",
    "                    returnAns=ans\n",
    "            except:\n",
    "                continue\n",
    "        return returnAns"
   ]
  },
  {
   "cell_type": "code",
   "execution_count": null,
   "metadata": {},
   "outputs": [],
   "source": []
  }
 ],
 "metadata": {
  "kernelspec": {
   "display_name": "Python 3",
   "language": "python",
   "name": "python3"
  },
  "language_info": {
   "codemirror_mode": {
    "name": "ipython",
    "version": 3
   },
   "file_extension": ".py",
   "mimetype": "text/x-python",
   "name": "python",
   "nbconvert_exporter": "python",
   "pygments_lexer": "ipython3",
   "version": "3.9.6"
  },
  "orig_nbformat": 4,
  "vscode": {
   "interpreter": {
    "hash": "31f2aee4e71d21fbe5cf8b01ff0e069b9275f58929596ceb00d14d90e3e16cd6"
   }
  }
 },
 "nbformat": 4,
 "nbformat_minor": 2
}

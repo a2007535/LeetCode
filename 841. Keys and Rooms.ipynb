{
 "cells": [
  {
   "cell_type": "code",
   "execution_count": null,
   "metadata": {},
   "outputs": [],
   "source": [
    "from collections import deque\n",
    "class Solution:\n",
    "    def canVisitAllRooms(self, rooms: List[List[int]]) -> bool:\n",
    "        roomSet=set()\n",
    "        q=deque()\n",
    "        for i in rooms[0]:\n",
    "            roomSet.add(i)\n",
    "            q.append(i)\n",
    "        roomSet.add(0)\n",
    "        while(len(q) != 0):\n",
    "            room = q.popleft()\n",
    "            for i in rooms[room]:\n",
    "                if i in roomSet:\n",
    "                    continue\n",
    "                q.append(i)\n",
    "                roomSet.add(i)\n",
    "        return len(roomSet)==len(rooms)"
   ]
  }
 ],
 "metadata": {
  "language_info": {
   "name": "python"
  },
  "orig_nbformat": 4
 },
 "nbformat": 4,
 "nbformat_minor": 2
}

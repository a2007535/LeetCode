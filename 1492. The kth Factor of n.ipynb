{
 "cells": [
  {
   "cell_type": "code",
   "execution_count": null,
   "metadata": {},
   "outputs": [],
   "source": [
    "class Solution:\n",
    "    def kthFactor(self, n: int, k: int) -> int:\n",
    "        # if n == 1:\n",
    "        #     if k == 1:\n",
    "        #         return 1\n",
    "        #     return -1\n",
    "        arr1 = []\n",
    "        arr2 = []\n",
    "        for i in range(1,int(floor(n**0.5))+1):\n",
    "            if n%i == 0:\n",
    "                arr1.append(i)\n",
    "                if (i)!=(n//i):\n",
    "                    arr2.append(n//i)\n",
    "        arr1 += arr2[::-1]\n",
    "        # arr1 = list(set(arr1))\n",
    "        print(arr1)\n",
    "        if k > len(arr1):\n",
    "            return -1\n",
    "        else:\n",
    "            return arr1[k-1]"
   ]
  }
 ],
 "metadata": {
  "language_info": {
   "name": "python"
  },
  "orig_nbformat": 4
 },
 "nbformat": 4,
 "nbformat_minor": 2
}

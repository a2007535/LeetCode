{
 "cells": [
  {
   "cell_type": "code",
   "execution_count": null,
   "metadata": {},
   "outputs": [],
   "source": [
    "class Solution:\n",
    "    def countDistinct(self, nums: List[int], k: int, p: int) -> int:\n",
    "        ans = 0\n",
    "        ansset = set()\n",
    "        for i in range(len(nums)):\n",
    "            tempk = 0\n",
    "            for j in range(i,len(nums)):\n",
    "                # print(i,j)\n",
    "                if nums[j]%p == 0:\n",
    "                    tempk+=1\n",
    "                if tempk == k+1:\n",
    "                    break\n",
    "                tempstr = \" \".join(str(c) for c in nums[i:j+1])\n",
    "                if tempstr not in ansset:\n",
    "                    ans+=1\n",
    "                    ansset.add(tempstr)\n",
    "        # print(ans)\n",
    "        return ans"
   ]
  }
 ],
 "metadata": {
  "language_info": {
   "name": "python"
  },
  "orig_nbformat": 4
 },
 "nbformat": 4,
 "nbformat_minor": 2
}

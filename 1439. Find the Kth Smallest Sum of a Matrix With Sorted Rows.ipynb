{
 "cells": [
  {
   "cell_type": "code",
   "execution_count": null,
   "metadata": {},
   "outputs": [],
   "source": [
    "class Solution:\n",
    "    def kthSmallest(self, mat: List[List[int]], k: int) -> int:\n",
    "        self.ans = list(mat[0])\n",
    "        def helper(mat):\n",
    "            if not mat:\n",
    "                return\n",
    "            newans = []\n",
    "            for i in mat[0]:\n",
    "                for j in self.ans:\n",
    "                    newans.append(i+j)\n",
    "            newans.sort()\n",
    "            self.ans.clear()\n",
    "            for i in range(min(k,len(newans))):\n",
    "                self.ans.append(newans[i])\n",
    "            helper(mat[1:])\n",
    "        helper(mat[1:])\n",
    "        # print(sorted(self.ans))\n",
    "        return self.ans[k-1]"
   ]
  }
 ],
 "metadata": {
  "language_info": {
   "name": "python"
  },
  "orig_nbformat": 4
 },
 "nbformat": 4,
 "nbformat_minor": 2
}

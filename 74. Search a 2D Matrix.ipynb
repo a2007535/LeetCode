{
 "cells": [
  {
   "cell_type": "code",
   "execution_count": null,
   "metadata": {},
   "outputs": [],
   "source": [
    "class Solution:\n",
    "    def searchMatrix(self, matrix: List[List[int]], target: int) -> bool:\n",
    "        column = len(matrix[0])\n",
    "        row = len(matrix)\n",
    "        right = row*column\n",
    "        left = 0\n",
    "        while right > left:\n",
    "            mid = ceil((right+left)//2)\n",
    "            if matrix[mid//column][mid%column] == target:\n",
    "                return True\n",
    "            elif matrix[mid//column][mid%column] > target:\n",
    "                right = mid\n",
    "            else:\n",
    "                left = mid+1\n",
    "        return False"
   ]
  }
 ],
 "metadata": {
  "language_info": {
   "name": "python"
  },
  "orig_nbformat": 4
 },
 "nbformat": 4,
 "nbformat_minor": 2
}

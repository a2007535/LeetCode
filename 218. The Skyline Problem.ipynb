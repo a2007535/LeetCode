{
 "cells": [
  {
   "cell_type": "code",
   "execution_count": 5,
   "metadata": {},
   "outputs": [
    {
     "name": "stderr",
     "output_type": "stream",
     "text": [
      "Bad pipe message: %s [b'\\xf2PW\\x19.<\\xb5\\x17\\x0b]\\x11\\x82\\x11\\xb9\\xf8\\x8b\\xc8e \\xd3\\xd7\\x07\\x8b\\xcat\\xdd\\xf2\\x8cS\\x84\\xd3N\\xe8\\xda*\\x81\\x9a\\xc8\\x04\\xb9\\xd0\\xdb8I\\xcb\\xdc\\x95\\x8d\\x18\\xe0E\\x00\"\\x13\\x01\\x13\\x03\\x13\\x02\\xc0+\\xc0/\\xcc\\xa9\\xcc\\xa8\\xc0,\\xc00\\xc0\\n\\xc0\\t\\xc0\\x13\\xc0\\x14\\x00\\x9c\\x00\\x9d\\x00/\\x005\\x01\\x00\\x01\\x91\\x00\\x17\\x00\\x00\\xff\\x01\\x00\\x01\\x00\\x00\\n\\x00\\x0e\\x00\\x0c\\x00\\x1d\\x00\\x17\\x00\\x18\\x00\\x19\\x01\\x00\\x01\\x01\\x00\\x0b\\x00\\x02']\n",
      "Bad pipe message: %s [b'\\xf49z\\x0fP`@p\\xa2K\\x1f\\xc0\\x02\\xaa3\\xd7\\xbb\\xb9 I\\n\\xcfGq\\xf1\\x9a\\x9c\\xbd\\xca\\xcfj\\xeeF:s\\xed\\xfcL\\xac\\xec\\\\\\xfeIh(*\\xd4\\x07\\xde\\x99R\\x00\"\\x13\\x01\\x13\\x03\\x13\\x02\\xc0+\\xc0/\\xcc\\xa9\\xcc\\xa8\\xc0,\\xc00\\xc0\\n\\xc0\\t\\xc0\\x13\\xc0\\x14\\x00\\x9c\\x00\\x9d\\x00/\\x005\\x01\\x00\\x01\\x91\\x00\\x17\\x00\\x00\\xff\\x01\\x00\\x01\\x00\\x00\\n\\x00\\x0e\\x00\\x0c\\x00\\x1d\\x00\\x17\\x00\\x18\\x00\\x19\\x01\\x00\\x01\\x01\\x00\\x0b\\x00\\x02\\x01\\x00\\x00#\\x00\\x00\\x00\\x10\\x00']\n",
      "Bad pipe message: %s [b'']\n",
      "Bad pipe message: %s [b'\\x0c\\x02h2\\x08http/1.1']\n"
     ]
    }
   ],
   "source": [
    "class Solution:\n",
    "    def getSkyline(self, buildings: List[List[int]]) -> List[List[int]]:\n",
    "        # for the same x, (x, -H) should be in front of (x, 0)\n",
    "        # For Example 2, we should process (2, -3) then (2, 0), as there's no height change\n",
    "        x_height_right_tuples = sorted([(L, -H, R) for L, R, H in buildings] + [(R, 0, \"doesn't matter\") for _, R, _ in buildings])   \n",
    "        # (0, float('inf')) is always in max_heap, so max_heap[0] is always valid\n",
    "        result, max_heap = [[0, 0]], [(0, float('inf'))]\n",
    "        for x, negative_height, R in x_height_right_tuples:\n",
    "            while x >= max_heap[0][1]:\n",
    "                # reduce max height up to date, i.e. only consider max height in the right side of line x\n",
    "                heapq.heappop(max_heap)\n",
    "            if negative_height:\n",
    "                # Consider each height, as it may be the potential max height\n",
    "                heapq.heappush(max_heap, (negative_height, R))\n",
    "            curr_max_height = -max_heap[0][0]\n",
    "            if result[-1][1] != curr_max_height:\n",
    "                result.append([x, curr_max_height])\n",
    "        return result[1:] "
   ]
  },
  {
   "cell_type": "code",
   "execution_count": null,
   "metadata": {},
   "outputs": [],
   "source": []
  }
 ],
 "metadata": {
  "kernelspec": {
   "display_name": "Python 3.8.9 64-bit",
   "language": "python",
   "name": "python3"
  },
  "language_info": {
   "codemirror_mode": {
    "name": "ipython",
    "version": 3
   },
   "file_extension": ".py",
   "mimetype": "text/x-python",
   "name": "python",
   "nbconvert_exporter": "python",
   "pygments_lexer": "ipython3",
   "version": "3.8.9"
  },
  "orig_nbformat": 4,
  "vscode": {
   "interpreter": {
    "hash": "31f2aee4e71d21fbe5cf8b01ff0e069b9275f58929596ceb00d14d90e3e16cd6"
   }
  }
 },
 "nbformat": 4,
 "nbformat_minor": 2
}

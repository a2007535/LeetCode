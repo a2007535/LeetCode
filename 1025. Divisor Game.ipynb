{
 "cells": [
  {
   "cell_type": "code",
   "execution_count": null,
   "metadata": {},
   "outputs": [],
   "source": [
    "class Solution:\n",
    "    def divisorGame(self, n: int) -> bool:\n",
    "        firstwin = {2}\n",
    "        firstloss = {3}\n",
    "        for i in range(4,n+1):\n",
    "            win=False\n",
    "            for j in range(1,(i//2)+1):\n",
    "                if i%j==0 and i-j in firstloss:\n",
    "                    firstwin.add(i)\n",
    "                    win=True\n",
    "            if not win:\n",
    "                firstloss.add(i)\n",
    "        # print(firstwin,firstloss)\n",
    "        return n in firstwin"
   ]
  },
  {
   "cell_type": "code",
   "execution_count": null,
   "metadata": {},
   "outputs": [],
   "source": [
    "class Solution:\n",
    "    def divisorGame(self, n: int) -> bool:\n",
    "        return n%2==0"
   ]
  }
 ],
 "metadata": {
  "language_info": {
   "name": "python"
  },
  "orig_nbformat": 4
 },
 "nbformat": 4,
 "nbformat_minor": 2
}

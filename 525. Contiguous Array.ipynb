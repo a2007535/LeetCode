{
 "cells": [
  {
   "cell_type": "code",
   "execution_count": null,
   "metadata": {},
   "outputs": [],
   "source": [
    "class Solution:\n",
    "    def findMaxLength(self, nums: List[int]) -> int:\n",
    "        a={0:[0]}\n",
    "        cnt = 0\n",
    "        maxLength = 0\n",
    "        for i in range(len(nums)):\n",
    "            if nums[i] == 0:\n",
    "                cnt -=1\n",
    "                if cnt not in a:\n",
    "                    a[cnt] = [i+1]\n",
    "                else:\n",
    "                    a[cnt].append(i+1)\n",
    "            else:\n",
    "                cnt+=1\n",
    "                if cnt not in a:\n",
    "                    a[cnt] = [i+1]\n",
    "                else:\n",
    "                    a[cnt].append(i+1)\n",
    "        for i in a.values():\n",
    "            if len(i) >=2:\n",
    "                maxLength = max(maxLength, i[-1]-i[0])\n",
    "        return maxLength"
   ]
  },
  {
   "cell_type": "markdown",
   "metadata": {},
   "source": [
    "![jupyter](https://assets.leetcode.com/users/arkaung/image_1590504604.png)"
   ]
  }
 ],
 "metadata": {
  "kernelspec": {
   "display_name": "Python 3.8.9 64-bit",
   "language": "python",
   "name": "python3"
  },
  "language_info": {
   "name": "python",
   "version": "3.8.9"
  },
  "orig_nbformat": 4,
  "vscode": {
   "interpreter": {
    "hash": "31f2aee4e71d21fbe5cf8b01ff0e069b9275f58929596ceb00d14d90e3e16cd6"
   }
  }
 },
 "nbformat": 4,
 "nbformat_minor": 2
}
